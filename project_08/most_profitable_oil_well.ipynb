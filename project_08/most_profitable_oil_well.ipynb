{
 "cells": [
  {
   "cell_type": "markdown",
   "id": "77373683",
   "metadata": {},
   "source": [
    "# Selecting the Most Profitable Oil Well Region with a Machine Learning Model"
   ]
  },
  {
   "cell_type": "markdown",
   "id": "9208465f",
   "metadata": {},
   "source": [
    "## Contents <a id='back'></a>\n",
    "* [1. Introduction](#intro)\n",
    "* [2. Data Exploration](#data_exploration)\n",
    "* [3. Exploratory Data Analysis (EDA)](#eda)\n",
    "    * [3.1 Distribution of the Features Data](#features_data_eda)\n",
    "    * [3.2 Distribution of the Target Data](#target_data_eda)\n",
    "    * [3.3 Correlation between the Numerical Data](#numerical_data_eda)\n",
    "* [4. Development of Models](#models)\n",
    "    * [4.1 Model Performance and Results](#model_result)\n",
    "* [5. Profit Calculation and Risk Assessment](#profit_and_risk)\n",
    "    * [5.1 Conditions and the Key Values](#conditions)\n",
    "    * [5.2 Minimum Volume of Reserves Per Oil Well Without Losses](#minimum_volume)\n",
    "    * [5.3 Profit from the 200 Oil Wells with the Highest Predicted Volumes Per Region](#200_wells)\n",
    "    * [5.4 Distribution of Profit for Each Region](#bootstrapping)\n",
    "* [6. General Conclusion](#general_conclusion)"
   ]
  },
  {
   "cell_type": "markdown",
   "id": "7b59f18e",
   "metadata": {},
   "source": [
    "## 1. Introduction <a id='intro'></a>\n",
    "The OilyGiant mining company plans to choose a region and develops new oil wells. This project aims to  select the region with the highest profit margin."
   ]
  },
  {
   "cell_type": "markdown",
   "id": "53a8b4a3",
   "metadata": {},
   "source": [
    "### Purpose\n",
    "\n",
    "To develop a machine learning model which predicts the volume of reserves in the new wells. By using the prediction in conjuction with the bootstrapping technique, select the oil wells with the highest estimated values and the region with the highest profit for the selected oil wells."
   ]
  },
  {
   "cell_type": "code",
   "execution_count": 1,
   "id": "c76f30a0",
   "metadata": {},
   "outputs": [],
   "source": [
    "# For data preprocessing and manipulation\n",
    "import pandas as pd\n",
    "import numpy as np\n",
    "from sklearn.model_selection import train_test_split\n",
    "from sklearn.preprocessing import StandardScaler\n",
    "\n",
    "# For visualisation\n",
    "import matplotlib.pyplot as plt\n",
    "import seaborn as sns\n",
    "\n",
    "# For model building and selection\n",
    "from sklearn.dummy import DummyRegressor\n",
    "from sklearn.linear_model import LinearRegression\n",
    "from sklearn.metrics import mean_squared_error, r2_score"
   ]
  },
  {
   "cell_type": "markdown",
   "id": "9f16692e",
   "metadata": {},
   "source": [
    "## 2. Data Exploration <a id='data_exploration'></a>\n",
    "\n",
    "The data on oil samples from three regions has been provided by the OilyGiant company. Let's explore the datasets."
   ]
  },
  {
   "cell_type": "code",
   "execution_count": 2,
   "id": "dada68bd",
   "metadata": {},
   "outputs": [],
   "source": [
    "# Create a dictianary to store 3 datasets\n",
    "data = {}\n",
    "\n",
    "# Create two lists containing the key names and datasets\n",
    "regions = ['region 1', 'region 2', 'region 3']\n",
    "datasets = ['geo_data_0.csv', 'geo_data_1.csv', 'geo_data_2.csv']\n",
    "\n",
    "# Use a for loop to load the datasets and store in the dictionary\n",
    "for i, region in enumerate(regions):\n",
    "    try:\n",
    "        data[region] = pd.read_csv(datasets[i])\n",
    "    except:\n",
    "        data[region] = pd.read_csv(f'/datasets/{datasets[i]}')"
   ]
  },
  {
   "cell_type": "code",
   "execution_count": 3,
   "id": "5ebaeeef",
   "metadata": {},
   "outputs": [
    {
     "name": "stdout",
     "output_type": "stream",
     "text": [
      "\u001b[1m\n",
      "region 1\n"
     ]
    },
    {
     "data": {
      "text/html": [
       "<div>\n",
       "<style scoped>\n",
       "    .dataframe tbody tr th:only-of-type {\n",
       "        vertical-align: middle;\n",
       "    }\n",
       "\n",
       "    .dataframe tbody tr th {\n",
       "        vertical-align: top;\n",
       "    }\n",
       "\n",
       "    .dataframe thead th {\n",
       "        text-align: right;\n",
       "    }\n",
       "</style>\n",
       "<table border=\"1\" class=\"dataframe\">\n",
       "  <thead>\n",
       "    <tr style=\"text-align: right;\">\n",
       "      <th></th>\n",
       "      <th>id</th>\n",
       "      <th>f0</th>\n",
       "      <th>f1</th>\n",
       "      <th>f2</th>\n",
       "      <th>product</th>\n",
       "    </tr>\n",
       "  </thead>\n",
       "  <tbody>\n",
       "    <tr>\n",
       "      <th>0</th>\n",
       "      <td>txEyH</td>\n",
       "      <td>0.705745</td>\n",
       "      <td>-0.497823</td>\n",
       "      <td>1.221170</td>\n",
       "      <td>105.280062</td>\n",
       "    </tr>\n",
       "    <tr>\n",
       "      <th>1</th>\n",
       "      <td>2acmU</td>\n",
       "      <td>1.334711</td>\n",
       "      <td>-0.340164</td>\n",
       "      <td>4.365080</td>\n",
       "      <td>73.037750</td>\n",
       "    </tr>\n",
       "    <tr>\n",
       "      <th>2</th>\n",
       "      <td>409Wp</td>\n",
       "      <td>1.022732</td>\n",
       "      <td>0.151990</td>\n",
       "      <td>1.419926</td>\n",
       "      <td>85.265647</td>\n",
       "    </tr>\n",
       "    <tr>\n",
       "      <th>3</th>\n",
       "      <td>iJLyR</td>\n",
       "      <td>-0.032172</td>\n",
       "      <td>0.139033</td>\n",
       "      <td>2.978566</td>\n",
       "      <td>168.620776</td>\n",
       "    </tr>\n",
       "    <tr>\n",
       "      <th>4</th>\n",
       "      <td>Xdl7t</td>\n",
       "      <td>1.988431</td>\n",
       "      <td>0.155413</td>\n",
       "      <td>4.751769</td>\n",
       "      <td>154.036647</td>\n",
       "    </tr>\n",
       "  </tbody>\n",
       "</table>\n",
       "</div>"
      ],
      "text/plain": [
       "      id        f0        f1        f2     product\n",
       "0  txEyH  0.705745 -0.497823  1.221170  105.280062\n",
       "1  2acmU  1.334711 -0.340164  4.365080   73.037750\n",
       "2  409Wp  1.022732  0.151990  1.419926   85.265647\n",
       "3  iJLyR -0.032172  0.139033  2.978566  168.620776\n",
       "4  Xdl7t  1.988431  0.155413  4.751769  154.036647"
      ]
     },
     "metadata": {},
     "output_type": "display_data"
    },
    {
     "name": "stdout",
     "output_type": "stream",
     "text": [
      "Shape: (100000, 5) \n",
      "\n",
      "**************************************************\n",
      "\u001b[1m\n",
      "region 2\n"
     ]
    },
    {
     "data": {
      "text/html": [
       "<div>\n",
       "<style scoped>\n",
       "    .dataframe tbody tr th:only-of-type {\n",
       "        vertical-align: middle;\n",
       "    }\n",
       "\n",
       "    .dataframe tbody tr th {\n",
       "        vertical-align: top;\n",
       "    }\n",
       "\n",
       "    .dataframe thead th {\n",
       "        text-align: right;\n",
       "    }\n",
       "</style>\n",
       "<table border=\"1\" class=\"dataframe\">\n",
       "  <thead>\n",
       "    <tr style=\"text-align: right;\">\n",
       "      <th></th>\n",
       "      <th>id</th>\n",
       "      <th>f0</th>\n",
       "      <th>f1</th>\n",
       "      <th>f2</th>\n",
       "      <th>product</th>\n",
       "    </tr>\n",
       "  </thead>\n",
       "  <tbody>\n",
       "    <tr>\n",
       "      <th>0</th>\n",
       "      <td>kBEdx</td>\n",
       "      <td>-15.001348</td>\n",
       "      <td>-8.276000</td>\n",
       "      <td>-0.005876</td>\n",
       "      <td>3.179103</td>\n",
       "    </tr>\n",
       "    <tr>\n",
       "      <th>1</th>\n",
       "      <td>62mP7</td>\n",
       "      <td>14.272088</td>\n",
       "      <td>-3.475083</td>\n",
       "      <td>0.999183</td>\n",
       "      <td>26.953261</td>\n",
       "    </tr>\n",
       "    <tr>\n",
       "      <th>2</th>\n",
       "      <td>vyE1P</td>\n",
       "      <td>6.263187</td>\n",
       "      <td>-5.948386</td>\n",
       "      <td>5.001160</td>\n",
       "      <td>134.766305</td>\n",
       "    </tr>\n",
       "    <tr>\n",
       "      <th>3</th>\n",
       "      <td>KcrkZ</td>\n",
       "      <td>-13.081196</td>\n",
       "      <td>-11.506057</td>\n",
       "      <td>4.999415</td>\n",
       "      <td>137.945408</td>\n",
       "    </tr>\n",
       "    <tr>\n",
       "      <th>4</th>\n",
       "      <td>AHL4O</td>\n",
       "      <td>12.702195</td>\n",
       "      <td>-8.147433</td>\n",
       "      <td>5.004363</td>\n",
       "      <td>134.766305</td>\n",
       "    </tr>\n",
       "  </tbody>\n",
       "</table>\n",
       "</div>"
      ],
      "text/plain": [
       "      id         f0         f1        f2     product\n",
       "0  kBEdx -15.001348  -8.276000 -0.005876    3.179103\n",
       "1  62mP7  14.272088  -3.475083  0.999183   26.953261\n",
       "2  vyE1P   6.263187  -5.948386  5.001160  134.766305\n",
       "3  KcrkZ -13.081196 -11.506057  4.999415  137.945408\n",
       "4  AHL4O  12.702195  -8.147433  5.004363  134.766305"
      ]
     },
     "metadata": {},
     "output_type": "display_data"
    },
    {
     "name": "stdout",
     "output_type": "stream",
     "text": [
      "Shape: (100000, 5) \n",
      "\n",
      "**************************************************\n",
      "\u001b[1m\n",
      "region 3\n"
     ]
    },
    {
     "data": {
      "text/html": [
       "<div>\n",
       "<style scoped>\n",
       "    .dataframe tbody tr th:only-of-type {\n",
       "        vertical-align: middle;\n",
       "    }\n",
       "\n",
       "    .dataframe tbody tr th {\n",
       "        vertical-align: top;\n",
       "    }\n",
       "\n",
       "    .dataframe thead th {\n",
       "        text-align: right;\n",
       "    }\n",
       "</style>\n",
       "<table border=\"1\" class=\"dataframe\">\n",
       "  <thead>\n",
       "    <tr style=\"text-align: right;\">\n",
       "      <th></th>\n",
       "      <th>id</th>\n",
       "      <th>f0</th>\n",
       "      <th>f1</th>\n",
       "      <th>f2</th>\n",
       "      <th>product</th>\n",
       "    </tr>\n",
       "  </thead>\n",
       "  <tbody>\n",
       "    <tr>\n",
       "      <th>0</th>\n",
       "      <td>fwXo0</td>\n",
       "      <td>-1.146987</td>\n",
       "      <td>0.963328</td>\n",
       "      <td>-0.828965</td>\n",
       "      <td>27.758673</td>\n",
       "    </tr>\n",
       "    <tr>\n",
       "      <th>1</th>\n",
       "      <td>WJtFt</td>\n",
       "      <td>0.262778</td>\n",
       "      <td>0.269839</td>\n",
       "      <td>-2.530187</td>\n",
       "      <td>56.069697</td>\n",
       "    </tr>\n",
       "    <tr>\n",
       "      <th>2</th>\n",
       "      <td>ovLUW</td>\n",
       "      <td>0.194587</td>\n",
       "      <td>0.289035</td>\n",
       "      <td>-5.586433</td>\n",
       "      <td>62.871910</td>\n",
       "    </tr>\n",
       "    <tr>\n",
       "      <th>3</th>\n",
       "      <td>q6cA6</td>\n",
       "      <td>2.236060</td>\n",
       "      <td>-0.553760</td>\n",
       "      <td>0.930038</td>\n",
       "      <td>114.572842</td>\n",
       "    </tr>\n",
       "    <tr>\n",
       "      <th>4</th>\n",
       "      <td>WPMUX</td>\n",
       "      <td>-0.515993</td>\n",
       "      <td>1.716266</td>\n",
       "      <td>5.899011</td>\n",
       "      <td>149.600746</td>\n",
       "    </tr>\n",
       "  </tbody>\n",
       "</table>\n",
       "</div>"
      ],
      "text/plain": [
       "      id        f0        f1        f2     product\n",
       "0  fwXo0 -1.146987  0.963328 -0.828965   27.758673\n",
       "1  WJtFt  0.262778  0.269839 -2.530187   56.069697\n",
       "2  ovLUW  0.194587  0.289035 -5.586433   62.871910\n",
       "3  q6cA6  2.236060 -0.553760  0.930038  114.572842\n",
       "4  WPMUX -0.515993  1.716266  5.899011  149.600746"
      ]
     },
     "metadata": {},
     "output_type": "display_data"
    },
    {
     "name": "stdout",
     "output_type": "stream",
     "text": [
      "Shape: (100000, 5) \n",
      "\n",
      "**************************************************\n"
     ]
    }
   ],
   "source": [
    "# Look at the first 5 rows and the shape of each dataset\n",
    "for region in regions:\n",
    "    print('\\033[1m')\n",
    "    print(region)\n",
    "    display(data[region].head())\n",
    "    print('Shape:', data[region].shape, '\\n')\n",
    "    print('*' * 50)"
   ]
  },
  {
   "cell_type": "markdown",
   "id": "8a713690",
   "metadata": {},
   "source": [
    "Each of the three datasets (regions) has 100000 rows (oil wells) and 5 columns of information related to each well.\n",
    "\n",
    "**Description of data**\n",
    "\n",
    "*Features*\n",
    "- id — unique oil well identifier\n",
    "- f0, f1, f2 — three features of points (their specific meaning is not important, but the features themselves are significant to predict the target)\n",
    "\n",
    "*Target*\n",
    "- product — volume of reserves in the oil well (thousand barrels)\n",
    "\n",
    "**Issue needs to be addressed**\n",
    "- The `id` column provide no information in predicting the volume of reserves and will be excluded from the model training."
   ]
  },
  {
   "cell_type": "code",
   "execution_count": 4,
   "id": "cb579d35",
   "metadata": {},
   "outputs": [
    {
     "name": "stdout",
     "output_type": "stream",
     "text": [
      "\u001b[1m\n",
      "region 1\n",
      "Number of duplicates:  0\n",
      "\u001b[0m\n",
      "<class 'pandas.core.frame.DataFrame'>\n",
      "RangeIndex: 100000 entries, 0 to 99999\n",
      "Data columns (total 5 columns):\n",
      " #   Column   Non-Null Count   Dtype  \n",
      "---  ------   --------------   -----  \n",
      " 0   id       100000 non-null  object \n",
      " 1   f0       100000 non-null  float64\n",
      " 2   f1       100000 non-null  float64\n",
      " 3   f2       100000 non-null  float64\n",
      " 4   product  100000 non-null  float64\n",
      "dtypes: float64(4), object(1)\n",
      "memory usage: 3.8+ MB\n",
      "\n",
      " **************************************************\n",
      "\u001b[1m\n",
      "region 2\n",
      "Number of duplicates:  0\n",
      "\u001b[0m\n",
      "<class 'pandas.core.frame.DataFrame'>\n",
      "RangeIndex: 100000 entries, 0 to 99999\n",
      "Data columns (total 5 columns):\n",
      " #   Column   Non-Null Count   Dtype  \n",
      "---  ------   --------------   -----  \n",
      " 0   id       100000 non-null  object \n",
      " 1   f0       100000 non-null  float64\n",
      " 2   f1       100000 non-null  float64\n",
      " 3   f2       100000 non-null  float64\n",
      " 4   product  100000 non-null  float64\n",
      "dtypes: float64(4), object(1)\n",
      "memory usage: 3.8+ MB\n",
      "\n",
      " **************************************************\n",
      "\u001b[1m\n",
      "region 3\n",
      "Number of duplicates:  0\n",
      "\u001b[0m\n",
      "<class 'pandas.core.frame.DataFrame'>\n",
      "RangeIndex: 100000 entries, 0 to 99999\n",
      "Data columns (total 5 columns):\n",
      " #   Column   Non-Null Count   Dtype  \n",
      "---  ------   --------------   -----  \n",
      " 0   id       100000 non-null  object \n",
      " 1   f0       100000 non-null  float64\n",
      " 2   f1       100000 non-null  float64\n",
      " 3   f2       100000 non-null  float64\n",
      " 4   product  100000 non-null  float64\n",
      "dtypes: float64(4), object(1)\n",
      "memory usage: 3.8+ MB\n",
      "\n",
      " **************************************************\n"
     ]
    }
   ],
   "source": [
    "# Check for duplicates, missing values and data types\n",
    "for region in regions:\n",
    "    print('\\033[1m')\n",
    "    print(region)\n",
    "    print('Number of duplicates: ', data[region].duplicated().sum())\n",
    "    print('\\033[0m')\n",
    "    data[region].info()    \n",
    "    print('\\n', '*' * 50)"
   ]
  },
  {
   "cell_type": "markdown",
   "id": "63ddbdce",
   "metadata": {},
   "source": [
    "All of the three datasets have no duplicate and no missing values. The data types are also correct."
   ]
  },
  {
   "cell_type": "code",
   "execution_count": 5,
   "id": "ce8a8d39",
   "metadata": {},
   "outputs": [
    {
     "name": "stdout",
     "output_type": "stream",
     "text": [
      "\u001b[1m\n",
      "region 1\n"
     ]
    },
    {
     "data": {
      "text/html": [
       "<div>\n",
       "<style scoped>\n",
       "    .dataframe tbody tr th:only-of-type {\n",
       "        vertical-align: middle;\n",
       "    }\n",
       "\n",
       "    .dataframe tbody tr th {\n",
       "        vertical-align: top;\n",
       "    }\n",
       "\n",
       "    .dataframe thead th {\n",
       "        text-align: right;\n",
       "    }\n",
       "</style>\n",
       "<table border=\"1\" class=\"dataframe\">\n",
       "  <thead>\n",
       "    <tr style=\"text-align: right;\">\n",
       "      <th></th>\n",
       "      <th>f0</th>\n",
       "      <th>f1</th>\n",
       "      <th>f2</th>\n",
       "      <th>product</th>\n",
       "    </tr>\n",
       "  </thead>\n",
       "  <tbody>\n",
       "    <tr>\n",
       "      <th>count</th>\n",
       "      <td>100000.000000</td>\n",
       "      <td>100000.000000</td>\n",
       "      <td>100000.000000</td>\n",
       "      <td>100000.000000</td>\n",
       "    </tr>\n",
       "    <tr>\n",
       "      <th>mean</th>\n",
       "      <td>0.500419</td>\n",
       "      <td>0.250143</td>\n",
       "      <td>2.502647</td>\n",
       "      <td>92.500000</td>\n",
       "    </tr>\n",
       "    <tr>\n",
       "      <th>std</th>\n",
       "      <td>0.871832</td>\n",
       "      <td>0.504433</td>\n",
       "      <td>3.248248</td>\n",
       "      <td>44.288691</td>\n",
       "    </tr>\n",
       "    <tr>\n",
       "      <th>min</th>\n",
       "      <td>-1.408605</td>\n",
       "      <td>-0.848218</td>\n",
       "      <td>-12.088328</td>\n",
       "      <td>0.000000</td>\n",
       "    </tr>\n",
       "    <tr>\n",
       "      <th>25%</th>\n",
       "      <td>-0.072580</td>\n",
       "      <td>-0.200881</td>\n",
       "      <td>0.287748</td>\n",
       "      <td>56.497507</td>\n",
       "    </tr>\n",
       "    <tr>\n",
       "      <th>50%</th>\n",
       "      <td>0.502360</td>\n",
       "      <td>0.250252</td>\n",
       "      <td>2.515969</td>\n",
       "      <td>91.849972</td>\n",
       "    </tr>\n",
       "    <tr>\n",
       "      <th>75%</th>\n",
       "      <td>1.073581</td>\n",
       "      <td>0.700646</td>\n",
       "      <td>4.715088</td>\n",
       "      <td>128.564089</td>\n",
       "    </tr>\n",
       "    <tr>\n",
       "      <th>max</th>\n",
       "      <td>2.362331</td>\n",
       "      <td>1.343769</td>\n",
       "      <td>16.003790</td>\n",
       "      <td>185.364347</td>\n",
       "    </tr>\n",
       "  </tbody>\n",
       "</table>\n",
       "</div>"
      ],
      "text/plain": [
       "                  f0             f1             f2        product\n",
       "count  100000.000000  100000.000000  100000.000000  100000.000000\n",
       "mean        0.500419       0.250143       2.502647      92.500000\n",
       "std         0.871832       0.504433       3.248248      44.288691\n",
       "min        -1.408605      -0.848218     -12.088328       0.000000\n",
       "25%        -0.072580      -0.200881       0.287748      56.497507\n",
       "50%         0.502360       0.250252       2.515969      91.849972\n",
       "75%         1.073581       0.700646       4.715088     128.564089\n",
       "max         2.362331       1.343769      16.003790     185.364347"
      ]
     },
     "metadata": {},
     "output_type": "display_data"
    },
    {
     "name": "stdout",
     "output_type": "stream",
     "text": [
      "************************************************************\n",
      "\u001b[1m\n",
      "region 2\n"
     ]
    },
    {
     "data": {
      "text/html": [
       "<div>\n",
       "<style scoped>\n",
       "    .dataframe tbody tr th:only-of-type {\n",
       "        vertical-align: middle;\n",
       "    }\n",
       "\n",
       "    .dataframe tbody tr th {\n",
       "        vertical-align: top;\n",
       "    }\n",
       "\n",
       "    .dataframe thead th {\n",
       "        text-align: right;\n",
       "    }\n",
       "</style>\n",
       "<table border=\"1\" class=\"dataframe\">\n",
       "  <thead>\n",
       "    <tr style=\"text-align: right;\">\n",
       "      <th></th>\n",
       "      <th>f0</th>\n",
       "      <th>f1</th>\n",
       "      <th>f2</th>\n",
       "      <th>product</th>\n",
       "    </tr>\n",
       "  </thead>\n",
       "  <tbody>\n",
       "    <tr>\n",
       "      <th>count</th>\n",
       "      <td>100000.000000</td>\n",
       "      <td>100000.000000</td>\n",
       "      <td>100000.000000</td>\n",
       "      <td>100000.000000</td>\n",
       "    </tr>\n",
       "    <tr>\n",
       "      <th>mean</th>\n",
       "      <td>1.141296</td>\n",
       "      <td>-4.796579</td>\n",
       "      <td>2.494541</td>\n",
       "      <td>68.825000</td>\n",
       "    </tr>\n",
       "    <tr>\n",
       "      <th>std</th>\n",
       "      <td>8.965932</td>\n",
       "      <td>5.119872</td>\n",
       "      <td>1.703572</td>\n",
       "      <td>45.944423</td>\n",
       "    </tr>\n",
       "    <tr>\n",
       "      <th>min</th>\n",
       "      <td>-31.609576</td>\n",
       "      <td>-26.358598</td>\n",
       "      <td>-0.018144</td>\n",
       "      <td>0.000000</td>\n",
       "    </tr>\n",
       "    <tr>\n",
       "      <th>25%</th>\n",
       "      <td>-6.298551</td>\n",
       "      <td>-8.267985</td>\n",
       "      <td>1.000021</td>\n",
       "      <td>26.953261</td>\n",
       "    </tr>\n",
       "    <tr>\n",
       "      <th>50%</th>\n",
       "      <td>1.153055</td>\n",
       "      <td>-4.813172</td>\n",
       "      <td>2.011479</td>\n",
       "      <td>57.085625</td>\n",
       "    </tr>\n",
       "    <tr>\n",
       "      <th>75%</th>\n",
       "      <td>8.621015</td>\n",
       "      <td>-1.332816</td>\n",
       "      <td>3.999904</td>\n",
       "      <td>107.813044</td>\n",
       "    </tr>\n",
       "    <tr>\n",
       "      <th>max</th>\n",
       "      <td>29.421755</td>\n",
       "      <td>18.734063</td>\n",
       "      <td>5.019721</td>\n",
       "      <td>137.945408</td>\n",
       "    </tr>\n",
       "  </tbody>\n",
       "</table>\n",
       "</div>"
      ],
      "text/plain": [
       "                  f0             f1             f2        product\n",
       "count  100000.000000  100000.000000  100000.000000  100000.000000\n",
       "mean        1.141296      -4.796579       2.494541      68.825000\n",
       "std         8.965932       5.119872       1.703572      45.944423\n",
       "min       -31.609576     -26.358598      -0.018144       0.000000\n",
       "25%        -6.298551      -8.267985       1.000021      26.953261\n",
       "50%         1.153055      -4.813172       2.011479      57.085625\n",
       "75%         8.621015      -1.332816       3.999904     107.813044\n",
       "max        29.421755      18.734063       5.019721     137.945408"
      ]
     },
     "metadata": {},
     "output_type": "display_data"
    },
    {
     "name": "stdout",
     "output_type": "stream",
     "text": [
      "************************************************************\n",
      "\u001b[1m\n",
      "region 3\n"
     ]
    },
    {
     "data": {
      "text/html": [
       "<div>\n",
       "<style scoped>\n",
       "    .dataframe tbody tr th:only-of-type {\n",
       "        vertical-align: middle;\n",
       "    }\n",
       "\n",
       "    .dataframe tbody tr th {\n",
       "        vertical-align: top;\n",
       "    }\n",
       "\n",
       "    .dataframe thead th {\n",
       "        text-align: right;\n",
       "    }\n",
       "</style>\n",
       "<table border=\"1\" class=\"dataframe\">\n",
       "  <thead>\n",
       "    <tr style=\"text-align: right;\">\n",
       "      <th></th>\n",
       "      <th>f0</th>\n",
       "      <th>f1</th>\n",
       "      <th>f2</th>\n",
       "      <th>product</th>\n",
       "    </tr>\n",
       "  </thead>\n",
       "  <tbody>\n",
       "    <tr>\n",
       "      <th>count</th>\n",
       "      <td>100000.000000</td>\n",
       "      <td>100000.000000</td>\n",
       "      <td>100000.000000</td>\n",
       "      <td>100000.000000</td>\n",
       "    </tr>\n",
       "    <tr>\n",
       "      <th>mean</th>\n",
       "      <td>0.002023</td>\n",
       "      <td>-0.002081</td>\n",
       "      <td>2.495128</td>\n",
       "      <td>95.000000</td>\n",
       "    </tr>\n",
       "    <tr>\n",
       "      <th>std</th>\n",
       "      <td>1.732045</td>\n",
       "      <td>1.730417</td>\n",
       "      <td>3.473445</td>\n",
       "      <td>44.749921</td>\n",
       "    </tr>\n",
       "    <tr>\n",
       "      <th>min</th>\n",
       "      <td>-8.760004</td>\n",
       "      <td>-7.084020</td>\n",
       "      <td>-11.970335</td>\n",
       "      <td>0.000000</td>\n",
       "    </tr>\n",
       "    <tr>\n",
       "      <th>25%</th>\n",
       "      <td>-1.162288</td>\n",
       "      <td>-1.174820</td>\n",
       "      <td>0.130359</td>\n",
       "      <td>59.450441</td>\n",
       "    </tr>\n",
       "    <tr>\n",
       "      <th>50%</th>\n",
       "      <td>0.009424</td>\n",
       "      <td>-0.009482</td>\n",
       "      <td>2.484236</td>\n",
       "      <td>94.925613</td>\n",
       "    </tr>\n",
       "    <tr>\n",
       "      <th>75%</th>\n",
       "      <td>1.158535</td>\n",
       "      <td>1.163678</td>\n",
       "      <td>4.858794</td>\n",
       "      <td>130.595027</td>\n",
       "    </tr>\n",
       "    <tr>\n",
       "      <th>max</th>\n",
       "      <td>7.238262</td>\n",
       "      <td>7.844801</td>\n",
       "      <td>16.739402</td>\n",
       "      <td>190.029838</td>\n",
       "    </tr>\n",
       "  </tbody>\n",
       "</table>\n",
       "</div>"
      ],
      "text/plain": [
       "                  f0             f1             f2        product\n",
       "count  100000.000000  100000.000000  100000.000000  100000.000000\n",
       "mean        0.002023      -0.002081       2.495128      95.000000\n",
       "std         1.732045       1.730417       3.473445      44.749921\n",
       "min        -8.760004      -7.084020     -11.970335       0.000000\n",
       "25%        -1.162288      -1.174820       0.130359      59.450441\n",
       "50%         0.009424      -0.009482       2.484236      94.925613\n",
       "75%         1.158535       1.163678       4.858794     130.595027\n",
       "max         7.238262       7.844801      16.739402     190.029838"
      ]
     },
     "metadata": {},
     "output_type": "display_data"
    },
    {
     "name": "stdout",
     "output_type": "stream",
     "text": [
      "************************************************************\n"
     ]
    }
   ],
   "source": [
    "# Look at the descriptic statistics\n",
    "for region in regions:\n",
    "    print('\\033[1m')\n",
    "    print(region)\n",
    "    display(data[region].describe())\n",
    "    print('*' * 60)"
   ]
  },
  {
   "cell_type": "markdown",
   "id": "1075b0ff",
   "metadata": {},
   "source": [
    "In all of the three datasets, the means and the medians of the three features `f0`, `f1` and `f2` are almost the same, indicating that the distributions could be normal. There is no obvious anomaly and outlier in the three `product` columns.\n",
    "\n",
    "[Back to Contents](#back)"
   ]
  },
  {
   "cell_type": "markdown",
   "id": "1b9287bc",
   "metadata": {},
   "source": [
    "## 3. Exploratory Data Analysis (EDA) <a id='eda'></a>"
   ]
  },
  {
   "cell_type": "markdown",
   "id": "d5fe2862",
   "metadata": {},
   "source": [
    "### 3.1 Distribution of the Features Data <a id='features_data_eda'></a>"
   ]
  },
  {
   "cell_type": "code",
   "execution_count": 6,
   "id": "9df15894",
   "metadata": {},
   "outputs": [
    {
     "data": {
      "image/png": "[encoded data removed]",
      "text/plain": [
       "<Figure size 900x300 with 3 Axes>"
      ]
     },
     "metadata": {},
     "output_type": "display_data"
    },
    {
     "data": {
      "image/png": "[encoded data removed]",
      "text/plain": [
       "<Figure size 900x300 with 3 Axes>"
      ]
     },
     "metadata": {},
     "output_type": "display_data"
    },
    {
     "data": {
      "image/png": "[encoded data removed]",
      "text/plain": [
       "<Figure size 900x300 with 3 Axes>"
      ]
     },
     "metadata": {},
     "output_type": "display_data"
    }
   ],
   "source": [
    "# Plot histograms of the features to show the distribution of features\n",
    "features = ['f0', 'f1', 'f2']\n",
    "\n",
    "for region in regions:\n",
    "    sns.set_style('whitegrid')\n",
    "    fig, axs = plt.subplots(1, 3, figsize=(9,3))\n",
    "    \n",
    "    plt.suptitle(f'Distribution of the Features Data ({region})', fontsize=14, fontweight='bold')\n",
    "    for i, feature in enumerate(features):\n",
    "        sns.histplot(x=data[region][feature], color='steelblue', ax=axs[i])\n",
    "        axs[i].set_title(feature, fontsize=12, fontweight='bold')\n",
    "        axs[i].set_xlabel(feature, fontweight='bold')\n",
    "        axs[i].set_ylabel('Number of Oil Wells', fontweight='bold')\n",
    "    \n",
    "    plt.tight_layout()\n",
    "    plt.show()"
   ]
  },
  {
   "cell_type": "markdown",
   "id": "b83f3f40",
   "metadata": {},
   "source": [
    "Five of the features have normal distributions while the rest have some unique distribution shapes. \n",
    "\n",
    "In this project, linear regression model will be used to predict the volume of reserves. Although the range of the these features are almost of the same scale (-20 to 20), they will still be apllied with standardisation to (slightly) improve the convergence speed of the gradient descent algorithm.\n",
    "\n",
    "[Back to Contents](#back)"
   ]
  },
  {
   "cell_type": "markdown",
   "id": "c8614240",
   "metadata": {},
   "source": [
    "### 3.2 Distribution of the Target Data <a id='target_data_eda'></a>"
   ]
  },
  {
   "cell_type": "code",
   "execution_count": 7,
   "id": "8c89d500",
   "metadata": {},
   "outputs": [
    {
     "data": {
      "image/png": "[encoded data removed]",
      "text/plain": [
       "<Figure size 800x300 with 3 Axes>"
      ]
     },
     "metadata": {},
     "output_type": "display_data"
    }
   ],
   "source": [
    "# Plot histograms to show the distribution of volumes\n",
    "sns.set_style('whitegrid')\n",
    "fig, axs = plt.subplots(1, 3, sharey=True, figsize=(8,3))\n",
    "\n",
    "plt.suptitle('Distribution of Volume of Reserves Per Region', fontsize=14, fontweight='bold')\n",
    "\n",
    "for i, region in enumerate(regions):\n",
    "    sns.histplot(x=data[region]['product'], bins=30, color='steelblue', ax=axs[i])\n",
    "    axs[i].set_title(region, fontsize=12, fontweight='bold')\n",
    "    axs[i].set_xlabel('')\n",
    "    \n",
    "    # Show the mean volume for each region\n",
    "    mean_volume = data[region]['product'].mean()\n",
    "    axs[i].text(0.5, 0.85, f'Mean Volume\\n{mean_volume:.2f} thousand barrels', fontweight='bold',\n",
    "                transform=axs[i].transAxes, ha='center')\n",
    "\n",
    "# x and y labels\n",
    "fig.text(0.5, -0.03, 'Volume of Reserves (Thousand Barrels)', fontweight='bold', ha='center')\n",
    "axs[0].set_ylabel('Number of Oil Wells', fontweight='bold')\n",
    "\n",
    "plt.tight_layout()\n",
    "plt.show()"
   ]
  },
  {
   "cell_type": "markdown",
   "id": "e04aac91",
   "metadata": {},
   "source": [
    "The mean volumes of reserves in `region 1` and `region 3` are a lot higher than that of `region 2`. The OilyGiant company plans to choose one of the three regions and select 200 oil wells which have the highest possible volumes of reserves. If the oil wells are chosen randomly, `region 1` or `region 3` will have the best chance to select the wells with higher volume. \n",
    "\n",
    "However, it is noticed that there are more than 15000 oil wells in `region 2` have very high volume of reserves (about 140 thousand barrels). By making the volume predictions with a machine learning model, there will be a higher chance to select these oil wells with high volume of reserves. Therefore, `region 2` is also a potential candidate to give a high profit.\n",
    "\n",
    "[Back to Contents](#back)"
   ]
  },
  {
   "cell_type": "markdown",
   "id": "07ef61f9",
   "metadata": {},
   "source": [
    "### 3.3 Correlation between the Numerical Data <a id='numerical_data_eda'></a>"
   ]
  },
  {
   "cell_type": "code",
   "execution_count": 8,
   "id": "9e436f82",
   "metadata": {},
   "outputs": [
    {
     "data": {
      "image/png": "[encoded data removed]",
      "text/plain": [
       "<Figure size 900x300 with 3 Axes>"
      ]
     },
     "metadata": {},
     "output_type": "display_data"
    }
   ],
   "source": [
    "# Show the correlation of the numerical data\n",
    "sns.set_style('white')\n",
    "fig, axs = plt.subplots(1, 3, figsize=(9,3))\n",
    "\n",
    "plt.suptitle('Correlation between Numerical Data Per Region', fontsize=14, fontweight='bold')\n",
    "\n",
    "for i, region in enumerate(regions):\n",
    "    sns.heatmap(data[region].drop(columns=['id']).corr(), annot=True, fmt='.2f',\n",
    "                cmap=sns.diverging_palette(180, 0, s=90, as_cmap=True),\n",
    "                square=True, cbar=False, ax=axs[i])\n",
    "    axs[i].set_title(region, fontsize=12, fontweight='bold')    \n",
    "    tick_labels = axs[i].get_yticklabels()\n",
    "    axs[i].set_yticklabels(tick_labels, rotation=0)\n",
    "\n",
    "plt.tight_layout()\n",
    "plt.show()"
   ]
  },
  {
   "cell_type": "markdown",
   "id": "6413b075",
   "metadata": {},
   "source": [
    "For all the three regions, the `f2` feature is the dominant indicator for a machine learning algorithm to predict the values of `product`. In the case of `region 1`, the `f1` and `f2` features have a weak relationship with the features. On the other hand, `f1` and `f2` appear to have little or no impact on predicting the `product` target for `region 2` and `region 3`.\n",
    "\n",
    "[Back to Contents](#back)"
   ]
  },
  {
   "cell_type": "markdown",
   "id": "5b991f0b",
   "metadata": {},
   "source": [
    "## 4. Development of the Models <a id='models'></a>"
   ]
  },
  {
   "cell_type": "markdown",
   "id": "a000721d",
   "metadata": {},
   "source": [
    "---"
   ]
  },
  {
   "cell_type": "markdown",
   "id": "b89182c7",
   "metadata": {},
   "source": [
    "The functions below will automate the tasks in this stage."
   ]
  },
  {
   "cell_type": "code",
   "execution_count": 9,
   "id": "48c22d97",
   "metadata": {},
   "outputs": [],
   "source": [
    "def model_train_pred(dataset):\n",
    "    '''\n",
    "    This function split the dataset into train and validation sets\n",
    "    A baseline model and a linear regresion model will be trained\n",
    "    Models are evaluated on rmse and r2\n",
    "    Return the linear regression model, the model result\n",
    "    and the dataframe consisting actual and predicted volumes of oil wells\n",
    "    '''\n",
    "    # Separate the dataset into train and validation sets\n",
    "    X = dataset[['f0', 'f1', 'f2']]\n",
    "    y = dataset['product']\n",
    "    X_train, X_val, y_train, y_val = train_test_split(X, y, test_size=0.25, random_state=12345)\n",
    "    \n",
    "    # Feature scaling\n",
    "    sc = StandardScaler()\n",
    "    X_train = sc.fit_transform(X_train)\n",
    "    X_val = sc.transform(X_val)\n",
    "    \n",
    "    # Train and predict with a baseline model\n",
    "    base_model = DummyRegressor(strategy='mean')\n",
    "    base_model.fit(X_train, y_train)\n",
    "    base_pred = base_model.predict(X_val)\n",
    "    baseline_rmse = round(np.sqrt(mean_squared_error(y_val, base_pred)), 4)    \n",
    "    \n",
    "    # Train and predict with a linear regression model\n",
    "    model = LinearRegression()\n",
    "    model.fit(X_train, y_train)\n",
    "    y_pred = model.predict(X_val)    \n",
    "    rmse = round(np.sqrt(mean_squared_error(y_val, y_pred)), 4)\n",
    "    r2 = round(r2_score(y_val, y_pred), 4)\n",
    "    \n",
    "    # Result of the baseline and linear regression models\n",
    "    result = {}\n",
    "    result['baseline_rmse'] = baseline_rmse      \n",
    "    result['rmse'] = rmse\n",
    "    result['r2'] = r2\n",
    "    result['actual_avg_vol'] = np.mean(y_val)\n",
    "    result['predicted_avg_vol'] = np.mean(y_pred)    \n",
    "    \n",
    "    # Create a dataframe containing the actual and predicted values for each oil well\n",
    "    temp_df1 = pd.concat([dataset['id'], y_val], join='inner', axis=1)\n",
    "    temp_df2 = pd.concat([y_val.reset_index(drop=True), pd.Series(y_pred)], axis=1)        \n",
    "    actual_pred_vol = temp_df1.merge(temp_df2, on='product')\n",
    "    actual_pred_vol.columns = ['id', 'actual_volume', 'predicted_volume']\n",
    "\n",
    "    return model, result, actual_pred_vol"
   ]
  },
  {
   "cell_type": "code",
   "execution_count": 10,
   "id": "eb9d3d52",
   "metadata": {},
   "outputs": [],
   "source": [
    "def calc_profit(vol_pred, vol_actual, budget, develop_pts, revenue_per_unit):\n",
    "    '''\n",
    "    This function selected the most profitable oil wells from the\n",
    "    prediction of a machine learning model and calculates \n",
    "    the profit of these selected wells with the actual values \n",
    "    '''\n",
    "    selected_pts_index = vol_pred.nlargest(develop_pts).index\n",
    "    selected_pts_vol = vol_actual[selected_pts_index]\n",
    "    \n",
    "    profit = selected_pts_vol.sum() * revenue_per_unit - budget\n",
    "    \n",
    "    return profit"
   ]
  },
  {
   "cell_type": "markdown",
   "id": "15105e68",
   "metadata": {},
   "source": [
    "----"
   ]
  },
  {
   "cell_type": "markdown",
   "id": "4d660f36",
   "metadata": {},
   "source": [
    "In this project, to predict the volume of reserves, a linear regression model will be trained for each region. The model performance will be evaluated on the root mean squared error. A baseline model which always predicts the mean volume will be trained to provide the baseline rmse for reference."
   ]
  },
  {
   "cell_type": "code",
   "execution_count": 11,
   "id": "5c1be56f",
   "metadata": {},
   "outputs": [],
   "source": [
    "# Create three dictionaries to store the model, model result and actual_pred_vol\n",
    "model = {}\n",
    "model_result = {}\n",
    "actual_pred_vol = {}\n",
    "\n",
    "# Train the models and return the results\n",
    "for region in regions:\n",
    "    model[region], model_result[region], actual_pred_vol[region] = model_train_pred(data[region])    "
   ]
  },
  {
   "cell_type": "markdown",
   "id": "d2bf114a",
   "metadata": {},
   "source": [
    "### 4.1 Model Performance and Results <a id='model_result'></a>"
   ]
  },
  {
   "cell_type": "code",
   "execution_count": 12,
   "id": "75faa807",
   "metadata": {},
   "outputs": [],
   "source": [
    "# Combining the model_results from three regions\n",
    "model_data = []\n",
    "\n",
    "for _, value in model_result.items():\n",
    "    model_data.append(value)\n",
    "\n",
    "model_result_df = pd.DataFrame({'region': regions, 'data': model_data})\n",
    "model_result_df = pd.concat([model_result_df['region'], pd.json_normalize(model_result_df['data'])], axis=1)"
   ]
  },
  {
   "cell_type": "code",
   "execution_count": 13,
   "id": "787f1082",
   "metadata": {},
   "outputs": [
    {
     "name": "stdout",
     "output_type": "stream",
     "text": [
      "\u001b[1m\n",
      "region 1\n"
     ]
    },
    {
     "data": {
      "text/html": [
       "<div>\n",
       "<style scoped>\n",
       "    .dataframe tbody tr th:only-of-type {\n",
       "        vertical-align: middle;\n",
       "    }\n",
       "\n",
       "    .dataframe tbody tr th {\n",
       "        vertical-align: top;\n",
       "    }\n",
       "\n",
       "    .dataframe thead th {\n",
       "        text-align: right;\n",
       "    }\n",
       "</style>\n",
       "<table border=\"1\" class=\"dataframe\">\n",
       "  <thead>\n",
       "    <tr style=\"text-align: right;\">\n",
       "      <th></th>\n",
       "      <th>id</th>\n",
       "      <th>actual_volume</th>\n",
       "      <th>predicted_volume</th>\n",
       "    </tr>\n",
       "  </thead>\n",
       "  <tbody>\n",
       "    <tr>\n",
       "      <th>0</th>\n",
       "      <td>2acmU</td>\n",
       "      <td>73.037750</td>\n",
       "      <td>116.227394</td>\n",
       "    </tr>\n",
       "    <tr>\n",
       "      <th>1</th>\n",
       "      <td>409Wp</td>\n",
       "      <td>85.265647</td>\n",
       "      <td>88.750254</td>\n",
       "    </tr>\n",
       "    <tr>\n",
       "      <th>2</th>\n",
       "      <td>iJLyR</td>\n",
       "      <td>168.620776</td>\n",
       "      <td>95.419237</td>\n",
       "    </tr>\n",
       "  </tbody>\n",
       "</table>\n",
       "</div>"
      ],
      "text/plain": [
       "      id  actual_volume  predicted_volume\n",
       "0  2acmU      73.037750        116.227394\n",
       "1  409Wp      85.265647         88.750254\n",
       "2  iJLyR     168.620776         95.419237"
      ]
     },
     "metadata": {},
     "output_type": "display_data"
    },
    {
     "name": "stdout",
     "output_type": "stream",
     "text": [
      "\u001b[1m\n",
      "region 2\n"
     ]
    },
    {
     "data": {
      "text/html": [
       "<div>\n",
       "<style scoped>\n",
       "    .dataframe tbody tr th:only-of-type {\n",
       "        vertical-align: middle;\n",
       "    }\n",
       "\n",
       "    .dataframe tbody tr th {\n",
       "        vertical-align: top;\n",
       "    }\n",
       "\n",
       "    .dataframe thead th {\n",
       "        text-align: right;\n",
       "    }\n",
       "</style>\n",
       "<table border=\"1\" class=\"dataframe\">\n",
       "  <thead>\n",
       "    <tr style=\"text-align: right;\">\n",
       "      <th></th>\n",
       "      <th>id</th>\n",
       "      <th>actual_volume</th>\n",
       "      <th>predicted_volume</th>\n",
       "    </tr>\n",
       "  </thead>\n",
       "  <tbody>\n",
       "    <tr>\n",
       "      <th>0</th>\n",
       "      <td>62mP7</td>\n",
       "      <td>26.953261</td>\n",
       "      <td>29.219306</td>\n",
       "    </tr>\n",
       "    <tr>\n",
       "      <th>1</th>\n",
       "      <td>62mP7</td>\n",
       "      <td>26.953261</td>\n",
       "      <td>27.133366</td>\n",
       "    </tr>\n",
       "    <tr>\n",
       "      <th>2</th>\n",
       "      <td>62mP7</td>\n",
       "      <td>26.953261</td>\n",
       "      <td>27.627772</td>\n",
       "    </tr>\n",
       "  </tbody>\n",
       "</table>\n",
       "</div>"
      ],
      "text/plain": [
       "      id  actual_volume  predicted_volume\n",
       "0  62mP7      26.953261         29.219306\n",
       "1  62mP7      26.953261         27.133366\n",
       "2  62mP7      26.953261         27.627772"
      ]
     },
     "metadata": {},
     "output_type": "display_data"
    },
    {
     "name": "stdout",
     "output_type": "stream",
     "text": [
      "\u001b[1m\n",
      "region 3\n"
     ]
    },
    {
     "data": {
      "text/html": [
       "<div>\n",
       "<style scoped>\n",
       "    .dataframe tbody tr th:only-of-type {\n",
       "        vertical-align: middle;\n",
       "    }\n",
       "\n",
       "    .dataframe tbody tr th {\n",
       "        vertical-align: top;\n",
       "    }\n",
       "\n",
       "    .dataframe thead th {\n",
       "        text-align: right;\n",
       "    }\n",
       "</style>\n",
       "<table border=\"1\" class=\"dataframe\">\n",
       "  <thead>\n",
       "    <tr style=\"text-align: right;\">\n",
       "      <th></th>\n",
       "      <th>id</th>\n",
       "      <th>actual_volume</th>\n",
       "      <th>predicted_volume</th>\n",
       "    </tr>\n",
       "  </thead>\n",
       "  <tbody>\n",
       "    <tr>\n",
       "      <th>0</th>\n",
       "      <td>WJtFt</td>\n",
       "      <td>56.069697</td>\n",
       "      <td>66.329664</td>\n",
       "    </tr>\n",
       "    <tr>\n",
       "      <th>1</th>\n",
       "      <td>ovLUW</td>\n",
       "      <td>62.871910</td>\n",
       "      <td>48.880039</td>\n",
       "    </tr>\n",
       "    <tr>\n",
       "      <th>2</th>\n",
       "      <td>q6cA6</td>\n",
       "      <td>114.572842</td>\n",
       "      <td>86.178035</td>\n",
       "    </tr>\n",
       "  </tbody>\n",
       "</table>\n",
       "</div>"
      ],
      "text/plain": [
       "      id  actual_volume  predicted_volume\n",
       "0  WJtFt      56.069697         66.329664\n",
       "1  ovLUW      62.871910         48.880039\n",
       "2  q6cA6     114.572842         86.178035"
      ]
     },
     "metadata": {},
     "output_type": "display_data"
    },
    {
     "data": {
      "text/html": [
       "<div>\n",
       "<style scoped>\n",
       "    .dataframe tbody tr th:only-of-type {\n",
       "        vertical-align: middle;\n",
       "    }\n",
       "\n",
       "    .dataframe tbody tr th {\n",
       "        vertical-align: top;\n",
       "    }\n",
       "\n",
       "    .dataframe thead th {\n",
       "        text-align: right;\n",
       "    }\n",
       "</style>\n",
       "<table border=\"1\" class=\"dataframe\">\n",
       "  <thead>\n",
       "    <tr style=\"text-align: right;\">\n",
       "      <th></th>\n",
       "      <th>region</th>\n",
       "      <th>baseline_rmse</th>\n",
       "      <th>rmse</th>\n",
       "      <th>r2</th>\n",
       "      <th>actual_avg_vol</th>\n",
       "      <th>predicted_avg_vol</th>\n",
       "    </tr>\n",
       "  </thead>\n",
       "  <tbody>\n",
       "    <tr>\n",
       "      <th>0</th>\n",
       "      <td>region 1</td>\n",
       "      <td>44.2896</td>\n",
       "      <td>37.5794</td>\n",
       "      <td>0.2799</td>\n",
       "      <td>92.078597</td>\n",
       "      <td>92.592568</td>\n",
       "    </tr>\n",
       "    <tr>\n",
       "      <th>1</th>\n",
       "      <td>region 2</td>\n",
       "      <td>46.0214</td>\n",
       "      <td>0.8931</td>\n",
       "      <td>0.9996</td>\n",
       "      <td>68.723136</td>\n",
       "      <td>68.728547</td>\n",
       "    </tr>\n",
       "    <tr>\n",
       "      <th>2</th>\n",
       "      <td>region 3</td>\n",
       "      <td>44.9023</td>\n",
       "      <td>40.0297</td>\n",
       "      <td>0.2052</td>\n",
       "      <td>94.884233</td>\n",
       "      <td>94.965046</td>\n",
       "    </tr>\n",
       "  </tbody>\n",
       "</table>\n",
       "</div>"
      ],
      "text/plain": [
       "     region  baseline_rmse     rmse      r2  actual_avg_vol  predicted_avg_vol\n",
       "0  region 1        44.2896  37.5794  0.2799       92.078597          92.592568\n",
       "1  region 2        46.0214   0.8931  0.9996       68.723136          68.728547\n",
       "2  region 3        44.9023  40.0297  0.2052       94.884233          94.965046"
      ]
     },
     "metadata": {},
     "output_type": "display_data"
    }
   ],
   "source": [
    "# Have a look at the actual and predicted volumes in each region\n",
    "for region in regions:\n",
    "    print('\\033[1m')\n",
    "    print(region)\n",
    "    display(actual_pred_vol[region].head(3))\n",
    "    \n",
    "# Have a look at the model_result_df\n",
    "display(model_result_df)"
   ]
  },
  {
   "cell_type": "markdown",
   "id": "070373ec",
   "metadata": {},
   "source": [
    "The rmse values of all the three linear regression models are lower than the baseline values. \n",
    "\n",
    "The model for `region 2` gives the most accurate prediction among the three regions with a rmse of 0.8931. A r2 score of 99.96% means that 99.96% of the variation in the `product` variable is explained by the three features.\n",
    "\n",
    "Although the predicted volume for each well is not very accurate in the `region 1` and `region 3`,  the predicted average volumes from the three models are very close to the actual average volumes. This infers that the predictions are still useful when the number of wells is substantial and it is crucial to predict the overall profit from a large number of selected oil wells."
   ]
  },
  {
   "cell_type": "code",
   "execution_count": 14,
   "id": "a1a4e5b3",
   "metadata": {},
   "outputs": [
    {
     "name": "stdout",
     "output_type": "stream",
     "text": [
      "\u001b[1m\n",
      "Model for region 1\n",
      "\u001b[0m\n",
      "Coefficients of features\n",
      "f0: 3.13\n",
      "f1: -7.11\n",
      "f2: 21.43 \n",
      "\n",
      "y-intercept: 92.64 \n",
      "\n",
      "******************************\n",
      "\u001b[1m\n",
      "Model for region 2\n",
      "\u001b[0m\n",
      "Coefficients of features\n",
      "f0: -1.30\n",
      "f1: -0.11\n",
      "f2: 45.89 \n",
      "\n",
      "y-intercept: 68.86 \n",
      "\n",
      "******************************\n",
      "\u001b[1m\n",
      "Model for region 3\n",
      "\u001b[0m\n",
      "Coefficients of features\n",
      "f0: 0.05\n",
      "f1: -0.07\n",
      "f2: 19.82 \n",
      "\n",
      "y-intercept: 95.04 \n",
      "\n",
      "******************************\n"
     ]
    }
   ],
   "source": [
    "# Have a look at how the volume is predicted by the three features\n",
    "for region in regions:\n",
    "    print('\\033[1m')\n",
    "    print(f'Model for', region)\n",
    "    print('\\033[0m')\n",
    "    print('Coefficients of features')\n",
    "    print('f0:', f'{model[region].coef_[0]:.2f}')\n",
    "    print('f1:', f'{model[region].coef_[1]:.2f}')\n",
    "    print('f2:', f'{model[region].coef_[2]:.2f}', '\\n')\n",
    "    print('y-intercept:', f'{model[region].intercept_:.2f}', '\\n')\n",
    "    print('*' * 30)"
   ]
  },
  {
   "cell_type": "markdown",
   "id": "4410bc0d",
   "metadata": {},
   "source": [
    "The `product` in each region is predicted as follow:\n",
    "\n",
    "$$\\begin{align*}\n",
    "\\text{product}_\\text{region 1} &= 3.13 \\times \\text{f0} - 7.11 \\times \\text{f1} + 21.43 \\times \\text{f2} + 92.64\\\\\n",
    "\\text{product}_\\text{region 2} &= -1.30 \\times \\text{f0} - 0.11 \\times \\text{f1} + 45.89 \\times \\text{f2} + 68.86\\\\\n",
    "\\text{product}_\\text{region 3} &= 0.05 \\times \\text{f0} -0.07 \\times \\text{f1} + 19.82 \\times \\text{f2} + 95.04\n",
    "\\end{align*}$$\n",
    "\n",
    "As we have concluded in the EDA stage, the amount of the product are mostly determined by the `f2` feature, except that `f0` and `f1` have some minor impacts on `product` in `region 1`.\n",
    "\n",
    "[Back to Contents](#back)"
   ]
  },
  {
   "cell_type": "markdown",
   "id": "8c247f1f",
   "metadata": {},
   "source": [
    "## 5.0 Profit Calculation and Risk Assessment <a id='profit_and_risk'></a>"
   ]
  },
  {
   "cell_type": "markdown",
   "id": "0860ff17",
   "metadata": {},
   "source": [
    "### 5.1 Conditions and the Key Values <a id='conditions'></a>"
   ]
  },
  {
   "cell_type": "markdown",
   "id": "b3d01026",
   "metadata": {},
   "source": [
    "As informed by the OilyGiant company, \n",
    "- When exploring a region, a study of 500 points is carried out and the best 200 points are picked for the profit calculation.\n",
    "- The budget for development of 200 oil wells is 100 million USD.\n",
    "- One barrel of raw materials generates 4.5 USD of revenue. Since the volume of reserves is in thousand barrels, the revenue from one unit of product is 4500 USD.\n",
    "- After the risk evaluation, keep only the regions with the riks of losses lower than 2.5%. From the ones which fit the criteria, the region with the highest average profit should be selected."
   ]
  },
  {
   "cell_type": "code",
   "execution_count": 15,
   "id": "cc95196c",
   "metadata": {},
   "outputs": [],
   "source": [
    "# Store the key values\n",
    "budget = 100e6\n",
    "explore_pts = 500\n",
    "develop_pts = 200\n",
    "revenue_per_barrel = 4.5\n",
    "revenue_per_unit = 4500\n",
    "acceptable_risk = 0.025"
   ]
  },
  {
   "cell_type": "markdown",
   "id": "2cc6ed7a",
   "metadata": {},
   "source": [
    "[Back to Contents](#back)"
   ]
  },
  {
   "cell_type": "markdown",
   "id": "6a329387",
   "metadata": {},
   "source": [
    "### 5.2 Minimum Volume of Reserves Per Oil Well Without Losses <a id='minimum_volume'></a>"
   ]
  },
  {
   "cell_type": "code",
   "execution_count": 16,
   "id": "cdfd76dd",
   "metadata": {},
   "outputs": [
    {
     "name": "stdout",
     "output_type": "stream",
     "text": [
      "The minimum volume of reserves per oil well without losses: 111.11\n",
      "\n",
      "The predicted volume of reserves per oil well in region 1: 92.59\n",
      "The predicted volume of reserves per oil well in region 2: 68.73\n",
      "The predicted volume of reserves per oil well in region 3: 94.97\n"
     ]
    }
   ],
   "source": [
    "# Calculate the volume of reserves per oil well without losses\n",
    "min_volume_per_well = budget / develop_pts / revenue_per_unit\n",
    "\n",
    "# Print the result\n",
    "print('The minimum volume of reserves per oil well without losses: ', end='')\n",
    "print(f'{min_volume_per_well:.2f}\\n')\n",
    "\n",
    "for region in regions:\n",
    "    print(f'The predicted volume of reserves per oil well in {region}: ', end='')\n",
    "    print(f'{model_result[region][\"predicted_avg_vol\"]:.2f}')"
   ]
  },
  {
   "cell_type": "markdown",
   "id": "98de81a2",
   "metadata": {},
   "source": [
    "The minimum volume of reserves per oil well without losses is 111.11. In all three regions, the predicted volume of reserves per oil well does not meet the minimum requirement. Consequently, it is inevitable that the OilyGiant company will suffer a loss if the company randomly selects 200 wells from any of these regions. However, with the prediction from the machine learning model, 200 potential wells with the highest volume of reserves can be chosen.\n",
    "\n",
    "Next, by utilising the machine learning model, we will examine the profitability of these regions.\n",
    "\n",
    "[Back to Contents](#back)"
   ]
  },
  {
   "cell_type": "markdown",
   "id": "849418b4",
   "metadata": {},
   "source": [
    "### 5.3 Profit from the 200 Oil Wells with the Highest Predicted Volumes Per Region <a id='200_wells'></a>\n",
    "\n",
    "In each region, out of the 100000 oil wells, the top 200 oil wells with the highest predicted volumes will be selected. Then, the profit will be calculated with the actual volumes of the wells. This allows us to evaluate the profitability of the regions and also validate if the model is applicable in the real-world setting."
   ]
  },
  {
   "cell_type": "code",
   "execution_count": 17,
   "id": "c58c453b",
   "metadata": {},
   "outputs": [
    {
     "name": "stdout",
     "output_type": "stream",
     "text": [
      "For the 200 selected oil wells with the highest predicted volumes\n",
      "\n",
      "The profit for region 1: 33.21 million USD\n",
      "The profit for region 2: 24.15 million USD\n",
      "The profit for region 3: 27.10 million USD\n"
     ]
    }
   ],
   "source": [
    "# Calculate the profit for each region when 200 top oil wells are selected by prediction\n",
    "profit = {}\n",
    "\n",
    "print('For the 200 selected oil wells with the highest predicted volumes\\n')\n",
    "for region in regions:\n",
    "    profit[region] = calc_profit(\n",
    "        vol_pred = actual_pred_vol[region]['predicted_volume'], \n",
    "        vol_actual = actual_pred_vol[region]['actual_volume'],\n",
    "        budget = 100e6, \n",
    "        develop_pts = 200,\n",
    "        revenue_per_unit = 4500\n",
    "    )\n",
    "    \n",
    "    print(f'The profit for {region}: {profit[region] / 1e6:.2f} million USD')   "
   ]
  },
  {
   "cell_type": "markdown",
   "id": "96e02be0",
   "metadata": {},
   "source": [
    "From the result above, all of the regions has been proven to be profitable when the top 200 oil wells are selected. **Among them, the `region 3` has the highest profit of 33.21 million USD, therefore the best candidate to be chosen and to develop new oil wells is the `region 3`.**\n",
    "\n",
    "However, in real-world application, it is not practical to explore a huge number of oil wells (100000 in this case) before selecting the top 200 wells since it costs a lot of money, time and manpower. Therefore, it is unlikely the actual profit can be as high as the above mentioned profit by studying  a smaller number of oil wells. In the next section, we will use machine learning and the bootstrapping technique to assess the profitability and the risk when only a small number of oil wells are studied.\n",
    "\n",
    "[Back to Contents](#back)"
   ]
  },
  {
   "cell_type": "markdown",
   "id": "75f861ab",
   "metadata": {},
   "source": [
    "### 5.4 Distribution of Profit for Each Region <a id='bootstrapping'></a>\n",
    "\n",
    "With the limited budget of 100 million USD, the company will only explore 500 oil wells and select 200 of them. After studying the oil wells, the three features `f0`, `f1` and `f2` of the wells are obtained and the volumes can thus be predicted with the pretrained machine learning model. The top 200 wells with the highest predicted volumes of reserves will be selected and developed.\n",
    "\n",
    "To maximise the profit and minimise the loss, the distribution of profit for each region will be found by the bootstrapping technique with 1000 random samples. In each sample, the top 200 oil wells with the highest volumes are predicted with the machine learning model and the profit is calculated with the actual volumes. From the distribution of the profit, we can calculate the 95% confidence interval of profit and the risk of loss as a percentage of total losses out from 1000 samples."
   ]
  },
  {
   "cell_type": "code",
   "execution_count": 18,
   "id": "5220ddd8",
   "metadata": {},
   "outputs": [],
   "source": [
    "# Number of total samples and random state value\n",
    "total_samples = 1000\n",
    "state = np.random.RandomState(12345)\n",
    "\n",
    "# Dictionaries to store profits and calculation result\n",
    "sample_profits = {}\n",
    "sample_result = {}\n",
    "\n",
    "# Find the distribution of profits with bootstrapping technique\n",
    "for region in regions:\n",
    "    sample_profits[region] = [] # List to store the profits of 1000 samples for each region\n",
    "    sample_result[region] = {} # Dictionary to store calculation result for each region\n",
    "    \n",
    "    # Create 1000 samples and calculate profits\n",
    "    for i in range(total_samples):\n",
    "        sample = (actual_pred_vol[region].sample(n=500, replace=True, random_state=state)\n",
    "                                         .reset_index(drop=True))\n",
    "                \n",
    "        sample_profits[region].append(calc_profit(\n",
    "            vol_pred = sample['predicted_volume'], \n",
    "            vol_actual = sample['actual_volume'],\n",
    "            budget = 100e6, \n",
    "            develop_pts = 200,\n",
    "            revenue_per_unit = 4500\n",
    "        ))    \n",
    "    sample_profits[region] = pd.Series(sample_profits[region])\n",
    "    \n",
    "    # Calculate the relevant result\n",
    "    sample_profits[region] = pd.Series(sample_profits[region])\n",
    "    sample_result[region]['avg_profit'] = sample_profits[region].mean()\n",
    "    sample_result[region]['95%_CI_lower_bound'] = sample_profits[region].quantile(0.025)\n",
    "    sample_result[region]['95%_CI_upper_bound'] = sample_profits[region].quantile(0.975)\n",
    "    sample_result[region]['risk_of_losses'] = f'{sum(sample_profits[region] < 0) / len(sample_profits[region]):.2%}'"
   ]
  },
  {
   "cell_type": "markdown",
   "id": "5abb71ef",
   "metadata": {},
   "source": [
    "Let's have a look at the bootstrapping result."
   ]
  },
  {
   "cell_type": "code",
   "execution_count": 19,
   "id": "1d4e4151",
   "metadata": {},
   "outputs": [
    {
     "data": {
      "image/png": "[encoded data removed]",
      "text/plain": [
       "<Figure size 600x900 with 3 Axes>"
      ]
     },
     "metadata": {},
     "output_type": "display_data"
    }
   ],
   "source": [
    "# Plot a histogram to show the distribution of profit for each region\n",
    "fig, axs = plt.subplots(3, 1, figsize=(6,9))\n",
    "\n",
    "for i, region in enumerate(regions):\n",
    "    sns.histplot(x=sample_profits[region], bins=30, ax=axs[i])\n",
    "    axs[i].set_title(f'Distribution of Profit ({region})', fontsize=14, fontweight='bold')\n",
    "    axs[i].set_xlabel('Profit (million USD)', fontsize=12, fontweight='bold')\n",
    "    axs[i].set_ylabel('Number of Samples', fontsize=12, fontweight='bold')\n",
    "    lb = sample_result[region]['95%_CI_lower_bound']\n",
    "    ub = sample_result[region]['95%_CI_upper_bound']\n",
    "    axs[i].vlines(x=lb, ymin=0, ymax=90, label='lower', colors='red', ls='--')\n",
    "    axs[i].text(lb, 95, f'95% confidence interval\\nlower bound\\n {lb / 1e6:.2f} million USD', fontweight='bold', ha='center')\n",
    "    axs[i].vlines(x=ub, ymin=0, ymax=90, label='upper', colors='red', ls='--')\n",
    "    axs[i].text(ub, 95, f'95% confidence interval\\nupper bound\\n {ub / 1e6:.2f} million USD', fontweight='bold', ha='center')    \n",
    "    axs[i].set_ylim(0,120)\n",
    "    \n",
    "plt.tight_layout()\n",
    "plt.show()"
   ]
  },
  {
   "cell_type": "markdown",
   "id": "ecb5e4eb",
   "metadata": {},
   "source": [
    "From the table above, **`region 2` is the only region with the positive lower and upper bounds of the 95% confidence interval for profit**, the confidence interval range from 0.11 million USD to 8.45 million USD. Both `region 1` and `region 3` have negative profit values at the lower bound of the 95% confidence interval."
   ]
  },
  {
   "cell_type": "code",
   "execution_count": 20,
   "id": "051ab9f4",
   "metadata": {},
   "outputs": [],
   "source": [
    "# Create a dataframe to store the result for each region\n",
    "region_data = []\n",
    "\n",
    "for _, value in sample_result.items():\n",
    "    region_data.append(value)\n",
    "    \n",
    "region_result_df = pd.DataFrame({'region': regions, 'data': region_data})\n",
    "region_result_df = pd.concat([region_result_df['region'], pd.json_normalize(region_result_df['data'])], axis=1)"
   ]
  },
  {
   "cell_type": "code",
   "execution_count": 21,
   "id": "ae435cbb",
   "metadata": {},
   "outputs": [
    {
     "data": {
      "text/html": [
       "<div>\n",
       "<style scoped>\n",
       "    .dataframe tbody tr th:only-of-type {\n",
       "        vertical-align: middle;\n",
       "    }\n",
       "\n",
       "    .dataframe tbody tr th {\n",
       "        vertical-align: top;\n",
       "    }\n",
       "\n",
       "    .dataframe thead th {\n",
       "        text-align: right;\n",
       "    }\n",
       "</style>\n",
       "<table border=\"1\" class=\"dataframe\">\n",
       "  <thead>\n",
       "    <tr style=\"text-align: right;\">\n",
       "      <th></th>\n",
       "      <th>region</th>\n",
       "      <th>avg_profit</th>\n",
       "      <th>95%_CI_lower_bound</th>\n",
       "      <th>95%_CI_upper_bound</th>\n",
       "      <th>risk_of_losses</th>\n",
       "    </tr>\n",
       "  </thead>\n",
       "  <tbody>\n",
       "    <tr>\n",
       "      <th>0</th>\n",
       "      <td>region 1</td>\n",
       "      <td>3.995089e+06</td>\n",
       "      <td>-1.001272e+06</td>\n",
       "      <td>9.041102e+06</td>\n",
       "      <td>7.30%</td>\n",
       "    </tr>\n",
       "    <tr>\n",
       "      <th>1</th>\n",
       "      <td>region 2</td>\n",
       "      <td>4.281002e+06</td>\n",
       "      <td>1.086722e+05</td>\n",
       "      <td>8.451800e+06</td>\n",
       "      <td>2.10%</td>\n",
       "    </tr>\n",
       "    <tr>\n",
       "      <th>2</th>\n",
       "      <td>region 3</td>\n",
       "      <td>3.965886e+06</td>\n",
       "      <td>-1.254271e+06</td>\n",
       "      <td>9.036296e+06</td>\n",
       "      <td>5.80%</td>\n",
       "    </tr>\n",
       "  </tbody>\n",
       "</table>\n",
       "</div>"
      ],
      "text/plain": [
       "     region    avg_profit  95%_CI_lower_bound  95%_CI_upper_bound  \\\n",
       "0  region 1  3.995089e+06       -1.001272e+06        9.041102e+06   \n",
       "1  region 2  4.281002e+06        1.086722e+05        8.451800e+06   \n",
       "2  region 3  3.965886e+06       -1.254271e+06        9.036296e+06   \n",
       "\n",
       "  risk_of_losses  \n",
       "0          7.30%  \n",
       "1          2.10%  \n",
       "2          5.80%  "
      ]
     },
     "execution_count": 21,
     "metadata": {},
     "output_type": "execute_result"
    }
   ],
   "source": [
    "# Have a look at the bootstrapping result\n",
    "region_result_df"
   ]
  },
  {
   "cell_type": "markdown",
   "id": "82288a01",
   "metadata": {},
   "source": [
    "From the table above, `region 2` not only has the positive profits at the lower and upper bounds of the 95% confidence intervals, the risk of losses is also the lowest and this risk is lower than the acceptable risk of 2.5%. Besides that, the average profit of 4.28 million USD over 1000 samples is the highest among the three regions. **Therefore, region 2 is the best candidate to be chosen to give the highest profit with a minimal risk.**\n",
    "\n",
    "[Back to Contents](#back)"
   ]
  },
  {
   "cell_type": "markdown",
   "id": "79c39405",
   "metadata": {},
   "source": [
    "## 6.0 General Conclusion <a id='general_conclusion'></a>\n",
    "**Data Exploration**\n",
    "\n",
    "The OilyGiant company has provided us three datasets, each for one region. Each dataset contains 100000 oil wells and the relevant information which includes the id of the oil well, the three features `f0`, `f1` and `f2` and the target `product`. The data are sufficient to carry out the model training and the subsequent analysis tasks.\n",
    "\n",
    "**Exploratory Data Analysis**\n",
    "\n",
    "- Some of the features have normal distributions while the rest have some unique distribution shapes. \n",
    "- The mean volumes of reserves in `region 1` and `region 3` are a lot higher than that of `region 2`. However, it is noticed that there are more than 15000 oil wells in `region 2` have very high volume of reserves (about 140 thousand barrels). \n",
    "- For all the three regions, the `f2` feature is the dominant indicator for a machine learning algorithm to predict the values of `product`. In the case of `region 1`, the `f1` and `f2` features have a weak relationship with the features. On the other hand, `f1` and `f2` appear to have little or no impact on predicting the `product` target for `region 2` and `region 3`.\n",
    "\n",
    "**Development of Models**\n",
    "\n",
    "A linear regression model is developed for each region to predict the volume of reserves. The rmse values of all the three linear regression models are lower than the baseline values. The model for `region 2` gives the most accurate prediction among the three regions. Although the predicted volumes are not very accurate in the `region 1` and `region 3`,  the predicted average volumes from the three models are very close to the actual average volumes. This is crucial to predict the overall profit from a large number of selected oil wells.\n",
    "\n",
    "**Profit Calculation and Risk Assessment**\n",
    "\n",
    "- The minimum volume of reserves per oil well without losses is 111.11. In all three regions, the predicted volume of reserves per oil well does not meet the minimum requirement.\n",
    "- However, all of the regions has been proven to be profitable when the top 200 oil wells with the highest volumes of reserves are selected. **Among them, the `region 3` has the highest profit of 33.21 million USD, therefore the best candidate to be chosen and to develop new oil wells is the `region 3`.** This approach is not practical since the cost is very high by exploring a huge number of oil wells (100000 in this case) before selecting the top 200 wells.\n",
    "- By using the bootstrapping technique, the distribution of profit is found for each region. After anslysing the three distributions, **`region 2` stands out as the best candidate to be chosen to give the highest profit with a minimal risk.**\n",
    "\n",
    "[Back to Contents](#back)"
   ]
  },
  {
   "cell_type": "code",
   "execution_count": 22,
   "id": "86c6c20d-90c2-4992-9258-b68541abe42d",
   "metadata": {},
   "outputs": [
    {
     "data": {
      "text/plain": [
       "{'region 1':           id        f0        f1        f2     product\n",
       " 0      txEyH  0.705745 -0.497823  1.221170  105.280062\n",
       " 1      2acmU  1.334711 -0.340164  4.365080   73.037750\n",
       " 2      409Wp  1.022732  0.151990  1.419926   85.265647\n",
       " 3      iJLyR -0.032172  0.139033  2.978566  168.620776\n",
       " 4      Xdl7t  1.988431  0.155413  4.751769  154.036647\n",
       " ...      ...       ...       ...       ...         ...\n",
       " 99995  DLsed  0.971957  0.370953  6.075346  110.744026\n",
       " 99996  QKivN  1.392429 -0.382606  1.273912  122.346843\n",
       " 99997  3rnvd  1.029585  0.018787 -1.348308   64.375443\n",
       " 99998  7kl59  0.998163 -0.528582  1.583869   74.040764\n",
       " 99999  1CWhH  1.764754 -0.266417  5.722849  149.633246\n",
       " \n",
       " [100000 rows x 5 columns],\n",
       " 'region 2':           id         f0         f1        f2     product\n",
       " 0      kBEdx -15.001348  -8.276000 -0.005876    3.179103\n",
       " 1      62mP7  14.272088  -3.475083  0.999183   26.953261\n",
       " 2      vyE1P   6.263187  -5.948386  5.001160  134.766305\n",
       " 3      KcrkZ -13.081196 -11.506057  4.999415  137.945408\n",
       " 4      AHL4O  12.702195  -8.147433  5.004363  134.766305\n",
       " ...      ...        ...        ...       ...         ...\n",
       " 99995  QywKC   9.535637  -6.878139  1.998296   53.906522\n",
       " 99996  ptvty -10.160631 -12.558096  5.005581  137.945408\n",
       " 99997  09gWa  -7.378891  -3.084104  4.998651  137.945408\n",
       " 99998  rqwUm   0.665714  -6.152593  1.000146   30.132364\n",
       " 99999  relB0  -3.426139  -7.794274 -0.003299    3.179103\n",
       " \n",
       " [100000 rows x 5 columns],\n",
       " 'region 3':           id        f0        f1        f2     product\n",
       " 0      fwXo0 -1.146987  0.963328 -0.828965   27.758673\n",
       " 1      WJtFt  0.262778  0.269839 -2.530187   56.069697\n",
       " 2      ovLUW  0.194587  0.289035 -5.586433   62.871910\n",
       " 3      q6cA6  2.236060 -0.553760  0.930038  114.572842\n",
       " 4      WPMUX -0.515993  1.716266  5.899011  149.600746\n",
       " ...      ...       ...       ...       ...         ...\n",
       " 99995  4GxBu -1.777037  1.125220  6.263374  172.327046\n",
       " 99996  YKFjq -1.261523 -0.894828  2.524545  138.748846\n",
       " 99997  tKPY3 -1.199934 -2.957637  5.219411  157.080080\n",
       " 99998  nmxp2 -2.419896  2.417221 -5.548444   51.795253\n",
       " 99999  V9kWn -2.551421 -2.025625  6.090891  102.775767\n",
       " \n",
       " [100000 rows x 5 columns]}"
      ]
     },
     "execution_count": 22,
     "metadata": {},
     "output_type": "execute_result"
    }
   ],
   "source": [
    "data"
   ]
  },
  {
   "cell_type": "code",
   "execution_count": null,
   "id": "51fa9b77",
   "metadata": {},
   "outputs": [],
   "source": []
  }
 ],
 "metadata": {
  "kernelspec": {
   "display_name": "Python 3 (ipykernel)",
   "language": "python",
   "name": "python3"
  },
  "language_info": {
   "codemirror_mode": {
    "name": "ipython",
    "version": 3
   },
   "file_extension": ".py",
   "mimetype": "text/x-python",
   "name": "python",
   "nbconvert_exporter": "python",
   "pygments_lexer": "ipython3",
   "version": "3.11.5"
  }
 },
 "nbformat": 4,
 "nbformat_minor": 5
}
