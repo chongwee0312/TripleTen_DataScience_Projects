{
 "cells": [
  {
   "cell_type": "markdown",
   "id": "a3aeb20d",
   "metadata": {},
   "source": [
    "# Developing a Phone Plan Classification Model for a Mobile Carrier"
   ]
  },
  {
   "cell_type": "markdown",
   "id": "254836be",
   "metadata": {},
   "source": [
    "# Contents <a id='back'></a>\n",
    "* [1. Introduction](#intro)\n",
    "* [2. Data Exploration](#data_exploration)\n",
    "* [3. Exploratory Data Analysis (EDA)](#eda)\n",
    "* [4. Development and Fine Tuning of Different Models](#models)\n",
    "    * [Decision Tree](#decision_tree)\n",
    "    * [Random Forest](#random_forest)\n",
    "    * [Logistic Regression](#logistic_regression)\n",
    "    * [Naive Bayes](#naive_bayes)\n",
    "    * [K-Nearest Neighbors (KNN)](#knn)\n",
    "    * [Support Vector Machine (Linear and Non-Linear)](#svm)\n",
    "    * [Decision Tree with Adaptive Boosting](#adaboost_decision_tree)\n",
    "    * [Random Forest with Adaptive Boosting](#adaboost_random_forest)\n",
    "* [5. Final Model Selection and Evaluation](#final_model)\n",
    "* [6. Sanity Check on the Final Model](#sanity_check)\n",
    "    * [Learning Curve Analysis](#learning_curve)\n",
    "    * [Classification Report Analysis](#classification_report)\n",
    "    * [ROC Curve and AUC-ROC Score](#auc_roc)\n",
    "* [7. General Conclusion](#general_conclusion)"
   ]
  },
  {
   "cell_type": "markdown",
   "id": "d71ac89d",
   "metadata": {},
   "source": [
    "## 1. Introduction <a id='intro'></a>\n",
    "\n",
    "This project is to develop a binary classification model for a mobile carrier Megaline to recommend one of the two newer phone plans, Smart and Ultra. The model will be developed by analysing the existing subscriber's behaviour data."
   ]
  },
  {
   "cell_type": "markdown",
   "id": "73c37a2b",
   "metadata": {},
   "source": [
    "### Purpose\n",
    "\n",
    "To develop a binary classification model which analyses user behaviour and recommends the most suitable phone plan. **The accuracy of the model has to be 75% and above as requested by the Megaline company.**"
   ]
  },
  {
   "cell_type": "markdown",
   "id": "38442dfe",
   "metadata": {},
   "source": [
    "---"
   ]
  },
  {
   "cell_type": "code",
   "execution_count": 1,
   "id": "1417ca77",
   "metadata": {},
   "outputs": [],
   "source": [
    "# For data preprocessing and manipulation\n",
    "import pandas as pd\n",
    "import numpy as np\n",
    "import inspect\n",
    "from itertools import product\n",
    "from sklearn.model_selection import train_test_split\n",
    "from sklearn.preprocessing import StandardScaler\n",
    "\n",
    "# For visualisation\n",
    "import matplotlib.pyplot as plt\n",
    "import seaborn as sns\n",
    "\n",
    "# Machine learning models\n",
    "from sklearn.linear_model import LogisticRegression\n",
    "from sklearn.neighbors import KNeighborsClassifier\n",
    "from sklearn.svm import SVC\n",
    "from sklearn.tree import DecisionTreeClassifier\n",
    "from sklearn.ensemble import RandomForestClassifier, AdaBoostClassifier\n",
    "from sklearn.naive_bayes import GaussianNB\n",
    "\n",
    "# For evaluation of machine learing models\n",
    "from sklearn.metrics import accuracy_score, confusion_matrix, classification_report\n",
    "from sklearn.metrics import roc_curve, roc_auc_score\n",
    "from sklearn.model_selection import cross_val_score, learning_curve\n",
    "\n",
    "# Suppress the warning messages\n",
    "import warnings\n",
    "warnings.filterwarnings('ignore')"
   ]
  },
  {
   "cell_type": "markdown",
   "id": "15f14fe9",
   "metadata": {},
   "source": [
    "## 2. Data Exploration <a id='data_exploration'></a>\n",
    "\n",
    "The Megaline company has provided us the data about the subsribers who have already switched to the new plans. As informed by the company, they have performed the data preprocessing step. We will have a general exploration of the cleaned dataset."
   ]
  },
  {
   "cell_type": "code",
   "execution_count": 2,
   "id": "b4c77027",
   "metadata": {},
   "outputs": [],
   "source": [
    "# Load dataset\n",
    "try:\n",
    "    data = pd.read_csv('users_behavior.csv')\n",
    "except:\n",
    "    data = pd.read_csv('/datasets/users_behavior.csv')"
   ]
  },
  {
   "cell_type": "code",
   "execution_count": 3,
   "id": "182f47d1",
   "metadata": {},
   "outputs": [
    {
     "data": {
      "text/html": [
       "<div>\n",
       "<style scoped>\n",
       "    .dataframe tbody tr th:only-of-type {\n",
       "        vertical-align: middle;\n",
       "    }\n",
       "\n",
       "    .dataframe tbody tr th {\n",
       "        vertical-align: top;\n",
       "    }\n",
       "\n",
       "    .dataframe thead th {\n",
       "        text-align: right;\n",
       "    }\n",
       "</style>\n",
       "<table border=\"1\" class=\"dataframe\">\n",
       "  <thead>\n",
       "    <tr style=\"text-align: right;\">\n",
       "      <th></th>\n",
       "      <th>calls</th>\n",
       "      <th>minutes</th>\n",
       "      <th>messages</th>\n",
       "      <th>mb_used</th>\n",
       "      <th>is_ultra</th>\n",
       "    </tr>\n",
       "  </thead>\n",
       "  <tbody>\n",
       "    <tr>\n",
       "      <th>0</th>\n",
       "      <td>40.0</td>\n",
       "      <td>311.90</td>\n",
       "      <td>83.0</td>\n",
       "      <td>19915.42</td>\n",
       "      <td>0</td>\n",
       "    </tr>\n",
       "    <tr>\n",
       "      <th>1</th>\n",
       "      <td>85.0</td>\n",
       "      <td>516.75</td>\n",
       "      <td>56.0</td>\n",
       "      <td>22696.96</td>\n",
       "      <td>0</td>\n",
       "    </tr>\n",
       "    <tr>\n",
       "      <th>2</th>\n",
       "      <td>77.0</td>\n",
       "      <td>467.66</td>\n",
       "      <td>86.0</td>\n",
       "      <td>21060.45</td>\n",
       "      <td>0</td>\n",
       "    </tr>\n",
       "    <tr>\n",
       "      <th>3</th>\n",
       "      <td>106.0</td>\n",
       "      <td>745.53</td>\n",
       "      <td>81.0</td>\n",
       "      <td>8437.39</td>\n",
       "      <td>1</td>\n",
       "    </tr>\n",
       "    <tr>\n",
       "      <th>4</th>\n",
       "      <td>66.0</td>\n",
       "      <td>418.74</td>\n",
       "      <td>1.0</td>\n",
       "      <td>14502.75</td>\n",
       "      <td>0</td>\n",
       "    </tr>\n",
       "    <tr>\n",
       "      <th>...</th>\n",
       "      <td>...</td>\n",
       "      <td>...</td>\n",
       "      <td>...</td>\n",
       "      <td>...</td>\n",
       "      <td>...</td>\n",
       "    </tr>\n",
       "    <tr>\n",
       "      <th>3209</th>\n",
       "      <td>122.0</td>\n",
       "      <td>910.98</td>\n",
       "      <td>20.0</td>\n",
       "      <td>35124.90</td>\n",
       "      <td>1</td>\n",
       "    </tr>\n",
       "    <tr>\n",
       "      <th>3210</th>\n",
       "      <td>25.0</td>\n",
       "      <td>190.36</td>\n",
       "      <td>0.0</td>\n",
       "      <td>3275.61</td>\n",
       "      <td>0</td>\n",
       "    </tr>\n",
       "    <tr>\n",
       "      <th>3211</th>\n",
       "      <td>97.0</td>\n",
       "      <td>634.44</td>\n",
       "      <td>70.0</td>\n",
       "      <td>13974.06</td>\n",
       "      <td>0</td>\n",
       "    </tr>\n",
       "    <tr>\n",
       "      <th>3212</th>\n",
       "      <td>64.0</td>\n",
       "      <td>462.32</td>\n",
       "      <td>90.0</td>\n",
       "      <td>31239.78</td>\n",
       "      <td>0</td>\n",
       "    </tr>\n",
       "    <tr>\n",
       "      <th>3213</th>\n",
       "      <td>80.0</td>\n",
       "      <td>566.09</td>\n",
       "      <td>6.0</td>\n",
       "      <td>29480.52</td>\n",
       "      <td>1</td>\n",
       "    </tr>\n",
       "  </tbody>\n",
       "</table>\n",
       "<p>3214 rows × 5 columns</p>\n",
       "</div>"
      ],
      "text/plain": [
       "      calls  minutes  messages   mb_used  is_ultra\n",
       "0      40.0   311.90      83.0  19915.42         0\n",
       "1      85.0   516.75      56.0  22696.96         0\n",
       "2      77.0   467.66      86.0  21060.45         0\n",
       "3     106.0   745.53      81.0   8437.39         1\n",
       "4      66.0   418.74       1.0  14502.75         0\n",
       "...     ...      ...       ...       ...       ...\n",
       "3209  122.0   910.98      20.0  35124.90         1\n",
       "3210   25.0   190.36       0.0   3275.61         0\n",
       "3211   97.0   634.44      70.0  13974.06         0\n",
       "3212   64.0   462.32      90.0  31239.78         0\n",
       "3213   80.0   566.09       6.0  29480.52         1\n",
       "\n",
       "[3214 rows x 5 columns]"
      ]
     },
     "execution_count": 3,
     "metadata": {},
     "output_type": "execute_result"
    }
   ],
   "source": [
    "# Have a look at the dataset\n",
    "data"
   ]
  },
  {
   "cell_type": "markdown",
   "id": "199488b2",
   "metadata": {},
   "source": [
    "The dataset has 3214 rows (subscribers) and 5 columns of information related to each subsriber.\n",
    "\n",
    "**Description of data**\n",
    "- calls: number of calls\n",
    "- minutes: total call duration in minutes\n",
    "- messages: number of text messages\n",
    "- mb_used: internet traffic used in MB\n",
    "- is_ultra: plan for the current month (Ultra - 1, Smart - 0)"
   ]
  },
  {
   "cell_type": "code",
   "execution_count": 4,
   "id": "99e555f4",
   "metadata": {},
   "outputs": [
    {
     "data": {
      "text/plain": [
       "0"
      ]
     },
     "execution_count": 4,
     "metadata": {},
     "output_type": "execute_result"
    }
   ],
   "source": [
    "# Check for duplicates\n",
    "data.duplicated().sum()"
   ]
  },
  {
   "cell_type": "code",
   "execution_count": 5,
   "id": "30a72fb4",
   "metadata": {},
   "outputs": [
    {
     "data": {
      "text/plain": [
       "calls       0\n",
       "minutes     0\n",
       "messages    0\n",
       "mb_used     0\n",
       "is_ultra    0\n",
       "dtype: int64"
      ]
     },
     "execution_count": 5,
     "metadata": {},
     "output_type": "execute_result"
    }
   ],
   "source": [
    "# Check if there is any missing value\n",
    "data.isna().sum()"
   ]
  },
  {
   "cell_type": "code",
   "execution_count": 6,
   "id": "8149cf89",
   "metadata": {},
   "outputs": [
    {
     "data": {
      "text/plain": [
       "calls       float64\n",
       "minutes     float64\n",
       "messages    float64\n",
       "mb_used     float64\n",
       "is_ultra      int64\n",
       "dtype: object"
      ]
     },
     "execution_count": 6,
     "metadata": {},
     "output_type": "execute_result"
    }
   ],
   "source": [
    "# Check the data types\n",
    "data.dtypes"
   ]
  },
  {
   "cell_type": "code",
   "execution_count": 7,
   "id": "b3591a1c",
   "metadata": {},
   "outputs": [
    {
     "data": {
      "text/html": [
       "<div>\n",
       "<style scoped>\n",
       "    .dataframe tbody tr th:only-of-type {\n",
       "        vertical-align: middle;\n",
       "    }\n",
       "\n",
       "    .dataframe tbody tr th {\n",
       "        vertical-align: top;\n",
       "    }\n",
       "\n",
       "    .dataframe thead th {\n",
       "        text-align: right;\n",
       "    }\n",
       "</style>\n",
       "<table border=\"1\" class=\"dataframe\">\n",
       "  <thead>\n",
       "    <tr style=\"text-align: right;\">\n",
       "      <th></th>\n",
       "      <th>calls</th>\n",
       "      <th>minutes</th>\n",
       "      <th>messages</th>\n",
       "      <th>mb_used</th>\n",
       "      <th>is_ultra</th>\n",
       "    </tr>\n",
       "  </thead>\n",
       "  <tbody>\n",
       "    <tr>\n",
       "      <th>count</th>\n",
       "      <td>3214.000000</td>\n",
       "      <td>3214.000000</td>\n",
       "      <td>3214.000000</td>\n",
       "      <td>3214.000000</td>\n",
       "      <td>3214.000000</td>\n",
       "    </tr>\n",
       "    <tr>\n",
       "      <th>mean</th>\n",
       "      <td>63.038892</td>\n",
       "      <td>438.208787</td>\n",
       "      <td>38.281269</td>\n",
       "      <td>17207.673836</td>\n",
       "      <td>0.306472</td>\n",
       "    </tr>\n",
       "    <tr>\n",
       "      <th>std</th>\n",
       "      <td>33.236368</td>\n",
       "      <td>234.569872</td>\n",
       "      <td>36.148326</td>\n",
       "      <td>7570.968246</td>\n",
       "      <td>0.461100</td>\n",
       "    </tr>\n",
       "    <tr>\n",
       "      <th>min</th>\n",
       "      <td>0.000000</td>\n",
       "      <td>0.000000</td>\n",
       "      <td>0.000000</td>\n",
       "      <td>0.000000</td>\n",
       "      <td>0.000000</td>\n",
       "    </tr>\n",
       "    <tr>\n",
       "      <th>25%</th>\n",
       "      <td>40.000000</td>\n",
       "      <td>274.575000</td>\n",
       "      <td>9.000000</td>\n",
       "      <td>12491.902500</td>\n",
       "      <td>0.000000</td>\n",
       "    </tr>\n",
       "    <tr>\n",
       "      <th>50%</th>\n",
       "      <td>62.000000</td>\n",
       "      <td>430.600000</td>\n",
       "      <td>30.000000</td>\n",
       "      <td>16943.235000</td>\n",
       "      <td>0.000000</td>\n",
       "    </tr>\n",
       "    <tr>\n",
       "      <th>75%</th>\n",
       "      <td>82.000000</td>\n",
       "      <td>571.927500</td>\n",
       "      <td>57.000000</td>\n",
       "      <td>21424.700000</td>\n",
       "      <td>1.000000</td>\n",
       "    </tr>\n",
       "    <tr>\n",
       "      <th>max</th>\n",
       "      <td>244.000000</td>\n",
       "      <td>1632.060000</td>\n",
       "      <td>224.000000</td>\n",
       "      <td>49745.730000</td>\n",
       "      <td>1.000000</td>\n",
       "    </tr>\n",
       "  </tbody>\n",
       "</table>\n",
       "</div>"
      ],
      "text/plain": [
       "             calls      minutes     messages       mb_used     is_ultra\n",
       "count  3214.000000  3214.000000  3214.000000   3214.000000  3214.000000\n",
       "mean     63.038892   438.208787    38.281269  17207.673836     0.306472\n",
       "std      33.236368   234.569872    36.148326   7570.968246     0.461100\n",
       "min       0.000000     0.000000     0.000000      0.000000     0.000000\n",
       "25%      40.000000   274.575000     9.000000  12491.902500     0.000000\n",
       "50%      62.000000   430.600000    30.000000  16943.235000     0.000000\n",
       "75%      82.000000   571.927500    57.000000  21424.700000     1.000000\n",
       "max     244.000000  1632.060000   224.000000  49745.730000     1.000000"
      ]
     },
     "execution_count": 7,
     "metadata": {},
     "output_type": "execute_result"
    }
   ],
   "source": [
    "# Look at the statictics of the numerical columns\n",
    "data.describe()"
   ]
  },
  {
   "cell_type": "markdown",
   "id": "17f8a2c4",
   "metadata": {},
   "source": [
    "No duplicates, no missing value, the data types are correct and also no anomalies. The dataset is clean as stated by the company.\n",
    "\n",
    "The datasets contain four features, namely `calls`, `minutes`, `messages` and `mb_used` and a target variable `is_ultra` which will be used to develop the model.\n",
    "\n",
    "[Back to Contents](#back)"
   ]
  },
  {
   "cell_type": "markdown",
   "id": "45ddc4ad",
   "metadata": {},
   "source": [
    "## 3. Exploratory Data Analysis (EDA) <a id='eda'></a>"
   ]
  },
  {
   "cell_type": "markdown",
   "id": "92da2d42",
   "metadata": {},
   "source": [
    "### Distributions of the Features Data"
   ]
  },
  {
   "cell_type": "code",
   "execution_count": 8,
   "id": "4a0eac40",
   "metadata": {},
   "outputs": [
    {
     "data": {
      "image/png": "[encoded data removed]",
      "text/plain": [
       "<Figure size 800x600 with 4 Axes>"
      ]
     },
     "metadata": {},
     "output_type": "display_data"
    }
   ],
   "source": [
    "# Plot histograms for the features data to visualise the distribution\n",
    "fig, axs = plt.subplots(2, 2, figsize=(8,6))\n",
    "fig.suptitle('Distribution of the Features Data', fontsize=16, fontweight='bold')\n",
    "\n",
    "sns.histplot(x=data['calls'], ax=axs[0][0])\n",
    "axs[0][0].set_title('calls', fontsize=14, fontweight='bold')\n",
    "axs[0][0].set_xlabel('Number of Calls')\n",
    "axs[0][0].set_ylabel('Number of Subsribers')\n",
    "\n",
    "sns.histplot(x=data['minutes'], ax=axs[0][1])\n",
    "axs[0][1].set_title('minutes', fontsize=14, fontweight='bold')\n",
    "axs[0][1].set_xlabel('Call Duration')\n",
    "axs[0][1].set_ylabel('Number of Subsribers')\n",
    "\n",
    "sns.histplot(x=data['messages'], ax=axs[1][0])\n",
    "axs[1][0].set_title('message', fontsize=14, fontweight='bold')\n",
    "axs[1][0].set_xlabel('Number of Messages Sent')\n",
    "axs[1][0].set_ylabel('Number of Subsribers')\n",
    "\n",
    "sns.histplot(x=data['mb_used'], ax=axs[1][1])\n",
    "axs[1][1].set_title('mb_used', fontsize=14, fontweight='bold')\n",
    "axs[1][1].set_xlabel('Volume of Internet Traffic')\n",
    "axs[1][1].set_ylabel('Number of Subsribers')\n",
    "\n",
    "plt.tight_layout()\n",
    "plt.show()"
   ]
  },
  {
   "cell_type": "markdown",
   "id": "d9293858",
   "metadata": {},
   "source": [
    "All of the distributions of features data are not perfectly normal, especially there are quite a large portion of outliers in `message` data. \n",
    "\n",
    "Some of the machine learning algorithms require feature scaling before the model is trained. Since the distributions of the data are close to normal, standardisation will be applied to the features to preserve the distributions. Besides that, standardisation method is less affected by outliers."
   ]
  },
  {
   "cell_type": "markdown",
   "id": "0be36bc3",
   "metadata": {},
   "source": [
    "### Distribution of the Target Classes"
   ]
  },
  {
   "cell_type": "code",
   "execution_count": 9,
   "id": "45417b66",
   "metadata": {},
   "outputs": [
    {
     "data": {
      "image/png": "[encoded data removed]",
      "text/plain": [
       "<Figure size 400x400 with 1 Axes>"
      ]
     },
     "metadata": {},
     "output_type": "display_data"
    }
   ],
   "source": [
    "# Plot a countplot to visualise the distribtuion of target classes\n",
    "plt.figure(figsize=(4,4))\n",
    "\n",
    "sns.countplot(x='is_ultra', data=data, width=0.5)\n",
    "plt.title('Distribtuion of Target Classes', fontsize=14, fontweight='bold')\n",
    "plt.xlabel('is_ultra', fontsize=12)\n",
    "plt.ylabel('Number of Subsribers', fontsize=12)\n",
    "plt.show()"
   ]
  },
  {
   "cell_type": "code",
   "execution_count": 10,
   "id": "8325efa3",
   "metadata": {},
   "outputs": [
    {
     "data": {
      "text/plain": [
       "0    0.693528\n",
       "1    0.306472\n",
       "Name: is_ultra, dtype: float64"
      ]
     },
     "execution_count": 10,
     "metadata": {},
     "output_type": "execute_result"
    }
   ],
   "source": [
    "# Calculate the proportion of each class\n",
    "data['is_ultra'].value_counts(normalize=True)"
   ]
  },
  {
   "cell_type": "markdown",
   "id": "974e6257",
   "metadata": {},
   "source": [
    "The distribution of the target classes is imbalanced, with the ratio of the `0` class (Smart) to the `1` class (Ultra) being approximately 70:30. The proportion of the minority class is 30% and can be considered as a mild degree of imbalance ([reference link](https://developers.google.com/machine-learning/data-prep/construct/sampling-splitting/imbalanced-data)). Therefore, it is decided that no further action will be taken to address the imbalanced classes. However, if the model does not perform well, there are some techniques to deal with this issue, such as upsampling and downsampling.\n",
    "\n",
    "[Back to Contents](#back)"
   ]
  },
  {
   "cell_type": "markdown",
   "id": "d5be5682",
   "metadata": {},
   "source": [
    "## 4. Development and Fine Tuning of Different Models <a id='models'></a>"
   ]
  },
  {
   "cell_type": "markdown",
   "id": "99b01e74",
   "metadata": {},
   "source": [
    "---"
   ]
  },
  {
   "cell_type": "markdown",
   "id": "9d775a77",
   "metadata": {},
   "source": [
    "The following functions will be used to automate the tasks in this section."
   ]
  },
  {
   "cell_type": "code",
   "execution_count": 11,
   "id": "986bb49f",
   "metadata": {},
   "outputs": [],
   "source": [
    "def custom_GridSearch(X_train, y_train, X_val, y_val, estimator, param_grid,\n",
    "                      adaboost_param_grid=None, feature_scaling=False):\n",
    "    \"\"\"\n",
    "    This function is a simplified version of GridSearchCV() function\n",
    "    which does not use cross-validation method to find the accuracy score\n",
    "    and adaptive boosting is added as an extra option\n",
    "    This function returns a dataframe containing result of each model\n",
    "    and the best model with the highest accuracy score\n",
    "    \"\"\"\n",
    "    \n",
    "    if feature_scaling == True:\n",
    "        sc = StandardScaler()\n",
    "        X_train = sc.fit_transform(X_train)\n",
    "        X_val = sc.transform(X_val)\n",
    "        \n",
    "    model_param_list = []\n",
    "    accuracy_list = []\n",
    "    best_model = {}\n",
    "    best_model_data = {'hyperparameters': None, 'accuracy': 0}\n",
    "        \n",
    "    for hyperparams in param_grid:\n",
    "        for param_value in product(*hyperparams.values()):\n",
    "            model_param = {key: value for key, value in zip(hyperparams.keys(), param_value)}\n",
    "            \n",
    "            # Check if the estimator accepts the random_state parameter\n",
    "            if 'random_state' in inspect.signature(estimator).parameters:\n",
    "                model = estimator(**model_param, random_state=12345)\n",
    "            else:\n",
    "                model = estimator(**model_param)\n",
    "            \n",
    "            if adaboost_param_grid is not None:\n",
    "                for ada_hyperparams in adaboost_param_grid:\n",
    "                    for ada_param_value in product(*ada_hyperparams.values()):\n",
    "                        ada_model_param = {key: value for key, value in zip(ada_hyperparams.keys(), ada_param_value)}\n",
    "                        ada_model = AdaBoostClassifier(base_estimator=model, **ada_model_param, random_state=12345)\n",
    "                        ada_model.fit(X_train, y_train)                         \n",
    "                        accuracy = ada_model.score(X_val, y_val)\n",
    "\n",
    "                        model_param_list.append({**model_param, **ada_model_param})\n",
    "                        accuracy_list.append(accuracy)\n",
    "\n",
    "                        if accuracy > best_model_data['accuracy']:\n",
    "                            best_model = ada_model\n",
    "                            best_model_data['hyperparameters'] = {**model_param, **ada_model_param}\n",
    "                            best_model_data['accuracy'] = accuracy                        \n",
    "            else:                \n",
    "                model.fit(X_train, y_train)                \n",
    "                accuracy = model.score(X_val, y_val)\n",
    "\n",
    "                model_param_list.append(model_param)\n",
    "                accuracy_list.append(accuracy)\n",
    "\n",
    "                if accuracy > best_model_data['accuracy']:\n",
    "                    best_model = model\n",
    "                    best_model_data['hyperparameters'] = model_param\n",
    "                    best_model_data['accuracy'] = accuracy           \n",
    "            \n",
    "    search_result = pd.DataFrame({'params': model_param_list, 'accuracy': accuracy_list})\n",
    "    search_result = pd.concat([pd.json_normalize(search_result['params']), search_result['accuracy']], axis=1)    \n",
    "    \n",
    "    return search_result, best_model, best_model_data"
   ]
  },
  {
   "cell_type": "code",
   "execution_count": 12,
   "id": "e0166901",
   "metadata": {},
   "outputs": [],
   "source": [
    "def sns_lineplot(data, x, y, title, figsize, hue=None):\n",
    "    \"\"\"\n",
    "    This function plots a line graph to visualise the model training result\n",
    "    \"\"\"\n",
    "    sns.set_style('whitegrid')\n",
    "    plt.figure(figsize=figsize)\n",
    "    \n",
    "    if hue is None:\n",
    "        sns.lineplot(data=data, x=x, y=y, errorbar=None, marker='o', linestyle='-')\n",
    "    else:\n",
    "        sns.lineplot(data=data, x=x, y=y, hue=hue, errorbar=None, style=hue, markers=True)\n",
    "    \n",
    "    plt.title(title, fontsize=14, fontweight='bold')\n",
    "    plt.xlabel(x, fontsize=12, fontweight='bold')\n",
    "    plt.ylabel(y, fontsize=12, fontweight='bold')\n",
    "    plt.legend(title=hue, loc='upper left', bbox_to_anchor=(1,1))\n",
    "    \n",
    "    plt.show()"
   ]
  },
  {
   "cell_type": "markdown",
   "id": "688927d0",
   "metadata": {},
   "source": [
    "---"
   ]
  },
  {
   "cell_type": "markdown",
   "id": "3e243119",
   "metadata": {},
   "source": [
    "### Separating the Datasets into Training, Validation and Tests\n",
    "\n",
    "The datasets will be divided in a ratio of **60:20:20 for training:validation:test**"
   ]
  },
  {
   "cell_type": "code",
   "execution_count": 13,
   "id": "d4c7d8a9",
   "metadata": {},
   "outputs": [],
   "source": [
    "# Set up the feature variable X and the target variable y\n",
    "X = data.drop(columns=['is_ultra'])\n",
    "y = data['is_ultra']"
   ]
  },
  {
   "cell_type": "code",
   "execution_count": 14,
   "id": "8165cf4e",
   "metadata": {},
   "outputs": [
    {
     "data": {
      "text/plain": [
       "((3214, 4), (3214,))"
      ]
     },
     "execution_count": 14,
     "metadata": {},
     "output_type": "execute_result"
    }
   ],
   "source": [
    "# Check the shape of X and y\n",
    "X.shape, y.shape"
   ]
  },
  {
   "cell_type": "code",
   "execution_count": 15,
   "id": "964eec0e",
   "metadata": {},
   "outputs": [],
   "source": [
    "# Split the dataset a ratio of 80:20 where the 20% is the test set\n",
    "X_train_val, X_test, y_train_val, y_test = train_test_split(X, y, test_size=0.2, random_state=123)\n",
    "\n",
    "# Split the train_val set in a ratio of 75:25\n",
    "X_train, X_val, y_train, y_val = train_test_split(X_train_val, y_train_val, test_size=0.25, random_state=123)"
   ]
  },
  {
   "cell_type": "code",
   "execution_count": 16,
   "id": "da4fed81",
   "metadata": {},
   "outputs": [
    {
     "name": "stdout",
     "output_type": "stream",
     "text": [
      "Percentage of X_train: 60%\n",
      "Percentage of y_train: 60%\n",
      "Percentage of X_val: 20%\n",
      "Percentage of y_val: 20%\n",
      "Percentage of X_test: 20%\n",
      "Percentage of y_test: 20%\n"
     ]
    }
   ],
   "source": [
    "# Check the percentage of each variable in all the three sets\n",
    "print('Percentage of X_train:', f'{X_train.shape[0] / X.shape[0]:.0%}')\n",
    "print('Percentage of y_train:', f'{y_train.shape[0] / y.shape[0]:.0%}')\n",
    "print('Percentage of X_val:', f'{X_val.shape[0] / X.shape[0]:.0%}')\n",
    "print('Percentage of y_val:', f'{y_val.shape[0] / y.shape[0]:.0%}')\n",
    "print('Percentage of X_test:', f'{X_test.shape[0] / X.shape[0]:.0%}')\n",
    "print('Percentage of y_test:', f'{y_test.shape[0] / y.shape[0]:.0%}')"
   ]
  },
  {
   "cell_type": "code",
   "execution_count": 17,
   "id": "f456a963",
   "metadata": {},
   "outputs": [
    {
     "name": "stdout",
     "output_type": "stream",
     "text": [
      "Shape of X_train: (1928, 4)\n",
      "Shape of y_train: (1928,)\n",
      "Shape of X_val: (643, 4)\n",
      "Shape of y_val: (643,)\n",
      "Shape of X_test: (643, 4)\n",
      "Shape of y_test: (643,)\n"
     ]
    }
   ],
   "source": [
    "# Check the shape of each variable in all the three sets\n",
    "print('Shape of X_train:', X_train.shape)\n",
    "print('Shape of y_train:', y_train.shape)\n",
    "print('Shape of X_val:', X_val.shape)\n",
    "print('Shape of y_val:', y_val.shape)\n",
    "print('Shape of X_test:', X_test.shape)\n",
    "print('Shape of y_test:', y_test.shape)"
   ]
  },
  {
   "cell_type": "markdown",
   "id": "3740b363",
   "metadata": {},
   "source": [
    "The dataset has been successfully split into the ratio of 60:20:20 for training:validation:test.\n",
    "\n",
    "Next, lets start to develop different models and tune the hyperparameters to find the best model.\n",
    "\n",
    "First of all, six machine learning models will be developed, namely `decision tree`, `random forest`, `logistic regression`, `naive bayes`, `k-nearest neighbors(KNN)`, `support vector machine`. \n",
    "\n",
    "Then, adaptive boosting will be applied on the `decision tree` model and some of the selected models.\n",
    "\n",
    "[Back to Contents](#back)"
   ]
  },
  {
   "cell_type": "markdown",
   "id": "19896caa",
   "metadata": {},
   "source": [
    "### 4.1 Decision Tree <a id='decision_tree'></a>\n",
    "\n",
    "Without any boosting algorithm, decision tree usually is a weak model, lets see what we can find."
   ]
  },
  {
   "cell_type": "code",
   "execution_count": 18,
   "id": "9a39f7ec",
   "metadata": {},
   "outputs": [],
   "source": [
    "# Create a dictionary to store all of the best models\n",
    "best_model_dict = {}\n",
    "\n",
    "# Create a dictionary to store the relevant information of best models\n",
    "best_model_data_dict = {}"
   ]
  },
  {
   "cell_type": "code",
   "execution_count": 19,
   "id": "504149e0",
   "metadata": {},
   "outputs": [],
   "source": [
    "# Find the best decision tree model\n",
    "dt_hyperparams = [{'criterion': ['gini', 'entropy'],\n",
    "                   'max_depth': [x for x in range(1,21)]}]\n",
    "\n",
    "dt_result, best_model_dict['Decision Tree'], best_model_data_dict['Decision Tree'] = custom_GridSearch(\n",
    "    X_train = X_train, y_train = y_train,\n",
    "    X_val = X_val, y_val = y_val,\n",
    "    estimator = DecisionTreeClassifier,\n",
    "    param_grid = dt_hyperparams,\n",
    "    adaboost_param_grid = None,\n",
    "    feature_scaling = False\n",
    ")"
   ]
  },
  {
   "cell_type": "code",
   "execution_count": 20,
   "id": "9ab0cb1c",
   "metadata": {},
   "outputs": [
    {
     "data": {
      "text/html": [
       "<div>\n",
       "<style scoped>\n",
       "    .dataframe tbody tr th:only-of-type {\n",
       "        vertical-align: middle;\n",
       "    }\n",
       "\n",
       "    .dataframe tbody tr th {\n",
       "        vertical-align: top;\n",
       "    }\n",
       "\n",
       "    .dataframe thead th {\n",
       "        text-align: right;\n",
       "    }\n",
       "</style>\n",
       "<table border=\"1\" class=\"dataframe\">\n",
       "  <thead>\n",
       "    <tr style=\"text-align: right;\">\n",
       "      <th></th>\n",
       "      <th>criterion</th>\n",
       "      <th>max_depth</th>\n",
       "      <th>accuracy</th>\n",
       "    </tr>\n",
       "  </thead>\n",
       "  <tbody>\n",
       "    <tr>\n",
       "      <th>0</th>\n",
       "      <td>gini</td>\n",
       "      <td>6</td>\n",
       "      <td>0.788491</td>\n",
       "    </tr>\n",
       "    <tr>\n",
       "      <th>1</th>\n",
       "      <td>entropy</td>\n",
       "      <td>7</td>\n",
       "      <td>0.788491</td>\n",
       "    </tr>\n",
       "    <tr>\n",
       "      <th>2</th>\n",
       "      <td>gini</td>\n",
       "      <td>9</td>\n",
       "      <td>0.788491</td>\n",
       "    </tr>\n",
       "    <tr>\n",
       "      <th>3</th>\n",
       "      <td>entropy</td>\n",
       "      <td>8</td>\n",
       "      <td>0.786936</td>\n",
       "    </tr>\n",
       "    <tr>\n",
       "      <th>4</th>\n",
       "      <td>gini</td>\n",
       "      <td>10</td>\n",
       "      <td>0.786936</td>\n",
       "    </tr>\n",
       "    <tr>\n",
       "      <th>5</th>\n",
       "      <td>gini</td>\n",
       "      <td>3</td>\n",
       "      <td>0.783826</td>\n",
       "    </tr>\n",
       "    <tr>\n",
       "      <th>6</th>\n",
       "      <td>entropy</td>\n",
       "      <td>3</td>\n",
       "      <td>0.783826</td>\n",
       "    </tr>\n",
       "    <tr>\n",
       "      <th>7</th>\n",
       "      <td>entropy</td>\n",
       "      <td>6</td>\n",
       "      <td>0.783826</td>\n",
       "    </tr>\n",
       "    <tr>\n",
       "      <th>8</th>\n",
       "      <td>gini</td>\n",
       "      <td>8</td>\n",
       "      <td>0.783826</td>\n",
       "    </tr>\n",
       "    <tr>\n",
       "      <th>9</th>\n",
       "      <td>gini</td>\n",
       "      <td>11</td>\n",
       "      <td>0.783826</td>\n",
       "    </tr>\n",
       "  </tbody>\n",
       "</table>\n",
       "</div>"
      ],
      "text/plain": [
       "  criterion  max_depth  accuracy\n",
       "0      gini          6  0.788491\n",
       "1   entropy          7  0.788491\n",
       "2      gini          9  0.788491\n",
       "3   entropy          8  0.786936\n",
       "4      gini         10  0.786936\n",
       "5      gini          3  0.783826\n",
       "6   entropy          3  0.783826\n",
       "7   entropy          6  0.783826\n",
       "8      gini          8  0.783826\n",
       "9      gini         11  0.783826"
      ]
     },
     "execution_count": 20,
     "metadata": {},
     "output_type": "execute_result"
    }
   ],
   "source": [
    "# Have a look at the top 10 decision tree models\n",
    "dt_result.sort_values('accuracy', ascending=False).reset_index(drop=True).head(10)"
   ]
  },
  {
   "cell_type": "code",
   "execution_count": 21,
   "id": "c00d67d4",
   "metadata": {},
   "outputs": [
    {
     "data": {
      "image/png": "[encoded data removed]",
      "text/plain": [
       "<Figure size 600x400 with 1 Axes>"
      ]
     },
     "metadata": {},
     "output_type": "display_data"
    }
   ],
   "source": [
    "# Plot a line graph to visualise the training result\n",
    "sns_lineplot(data=dt_result, x='max_depth', y='accuracy', hue='criterion',\n",
    "             figsize=(6,4), title='Decision Tree Models')"
   ]
  },
  {
   "cell_type": "markdown",
   "id": "887c28f8",
   "metadata": {},
   "source": [
    "Overall, the models with `gini` criterion have better accuracies than those of `entropy` criterion. The accuracy start dropping after a `max_depth` of 10."
   ]
  },
  {
   "cell_type": "code",
   "execution_count": 22,
   "id": "2bff64ee",
   "metadata": {},
   "outputs": [
    {
     "data": {
      "text/plain": [
       "{'hyperparameters': {'criterion': 'gini', 'max_depth': 6},\n",
       " 'accuracy': 0.7884914463452566}"
      ]
     },
     "execution_count": 22,
     "metadata": {},
     "output_type": "execute_result"
    }
   ],
   "source": [
    "# Show the best decision tree model\n",
    "best_model_data_dict['Decision Tree']"
   ]
  },
  {
   "cell_type": "markdown",
   "id": "50f58ee0",
   "metadata": {},
   "source": [
    "**The best decision tree model has an accuracy of 78.85%**\n",
    "\n",
    "[Back to Contents](#back)"
   ]
  },
  {
   "cell_type": "markdown",
   "id": "8ed94ed3",
   "metadata": {},
   "source": [
    "### 4.2 Random Forest <a id='random_forest'></a>\n",
    "\n",
    "Random Forest is an ensemble model using bagging as the ensemble method. The model combines numerous decision trees to generate a more accurate prediction."
   ]
  },
  {
   "cell_type": "code",
   "execution_count": 23,
   "id": "27c2eff5",
   "metadata": {},
   "outputs": [],
   "source": [
    "# Find the best random forest model\n",
    "rf_hyperparams = [{'criterion': ['gini', 'entropy'], \n",
    "                   'n_estimators': [x for x in range(20,81,10)], \n",
    "                   'max_depth': [x for x in range(6,16)]}]\n",
    "\n",
    "rf_result, best_model_dict['Random Forest'], best_model_data_dict['Random Forest'] = custom_GridSearch(\n",
    "    X_train = X_train, y_train = y_train,\n",
    "    X_val = X_val, y_val = y_val,\n",
    "    estimator = RandomForestClassifier,\n",
    "    param_grid = rf_hyperparams,\n",
    "    adaboost_param_grid = None,\n",
    "    feature_scaling = False\n",
    ")"
   ]
  },
  {
   "cell_type": "code",
   "execution_count": 24,
   "id": "c5970c45",
   "metadata": {},
   "outputs": [
    {
     "data": {
      "text/html": [
       "<div>\n",
       "<style scoped>\n",
       "    .dataframe tbody tr th:only-of-type {\n",
       "        vertical-align: middle;\n",
       "    }\n",
       "\n",
       "    .dataframe tbody tr th {\n",
       "        vertical-align: top;\n",
       "    }\n",
       "\n",
       "    .dataframe thead th {\n",
       "        text-align: right;\n",
       "    }\n",
       "</style>\n",
       "<table border=\"1\" class=\"dataframe\">\n",
       "  <thead>\n",
       "    <tr style=\"text-align: right;\">\n",
       "      <th></th>\n",
       "      <th>criterion</th>\n",
       "      <th>n_estimators</th>\n",
       "      <th>max_depth</th>\n",
       "      <th>accuracy</th>\n",
       "    </tr>\n",
       "  </thead>\n",
       "  <tbody>\n",
       "    <tr>\n",
       "      <th>0</th>\n",
       "      <td>entropy</td>\n",
       "      <td>50</td>\n",
       "      <td>10</td>\n",
       "      <td>0.804044</td>\n",
       "    </tr>\n",
       "    <tr>\n",
       "      <th>1</th>\n",
       "      <td>entropy</td>\n",
       "      <td>30</td>\n",
       "      <td>11</td>\n",
       "      <td>0.804044</td>\n",
       "    </tr>\n",
       "    <tr>\n",
       "      <th>2</th>\n",
       "      <td>gini</td>\n",
       "      <td>70</td>\n",
       "      <td>11</td>\n",
       "      <td>0.802488</td>\n",
       "    </tr>\n",
       "    <tr>\n",
       "      <th>3</th>\n",
       "      <td>entropy</td>\n",
       "      <td>80</td>\n",
       "      <td>12</td>\n",
       "      <td>0.802488</td>\n",
       "    </tr>\n",
       "    <tr>\n",
       "      <th>4</th>\n",
       "      <td>gini</td>\n",
       "      <td>50</td>\n",
       "      <td>14</td>\n",
       "      <td>0.802488</td>\n",
       "    </tr>\n",
       "    <tr>\n",
       "      <th>5</th>\n",
       "      <td>entropy</td>\n",
       "      <td>70</td>\n",
       "      <td>14</td>\n",
       "      <td>0.800933</td>\n",
       "    </tr>\n",
       "    <tr>\n",
       "      <th>6</th>\n",
       "      <td>gini</td>\n",
       "      <td>30</td>\n",
       "      <td>12</td>\n",
       "      <td>0.800933</td>\n",
       "    </tr>\n",
       "    <tr>\n",
       "      <th>7</th>\n",
       "      <td>entropy</td>\n",
       "      <td>50</td>\n",
       "      <td>12</td>\n",
       "      <td>0.800933</td>\n",
       "    </tr>\n",
       "    <tr>\n",
       "      <th>8</th>\n",
       "      <td>entropy</td>\n",
       "      <td>40</td>\n",
       "      <td>11</td>\n",
       "      <td>0.800933</td>\n",
       "    </tr>\n",
       "    <tr>\n",
       "      <th>9</th>\n",
       "      <td>entropy</td>\n",
       "      <td>40</td>\n",
       "      <td>9</td>\n",
       "      <td>0.800933</td>\n",
       "    </tr>\n",
       "  </tbody>\n",
       "</table>\n",
       "</div>"
      ],
      "text/plain": [
       "  criterion  n_estimators  max_depth  accuracy\n",
       "0   entropy            50         10  0.804044\n",
       "1   entropy            30         11  0.804044\n",
       "2      gini            70         11  0.802488\n",
       "3   entropy            80         12  0.802488\n",
       "4      gini            50         14  0.802488\n",
       "5   entropy            70         14  0.800933\n",
       "6      gini            30         12  0.800933\n",
       "7   entropy            50         12  0.800933\n",
       "8   entropy            40         11  0.800933\n",
       "9   entropy            40          9  0.800933"
      ]
     },
     "execution_count": 24,
     "metadata": {},
     "output_type": "execute_result"
    }
   ],
   "source": [
    "# Have a look at the top 10 random forest models\n",
    "rf_result.sort_values('accuracy', ascending=False).reset_index(drop=True).head(10)"
   ]
  },
  {
   "cell_type": "code",
   "execution_count": 25,
   "id": "e6164baa",
   "metadata": {},
   "outputs": [
    {
     "data": {
      "image/png": "[encoded data removed]",
      "text/plain": [
       "<Figure size 600x400 with 1 Axes>"
      ]
     },
     "metadata": {},
     "output_type": "display_data"
    }
   ],
   "source": [
    "# Plot a line graph to visualise the training result\n",
    "sns_lineplot(data=rf_result, x='max_depth', y='accuracy', hue='criterion',\n",
    "             figsize=(6,4), title='Random Forest Models')"
   ]
  },
  {
   "cell_type": "markdown",
   "id": "da69c2e5",
   "metadata": {},
   "source": [
    "The random forest models have the best accuracies when the `max_depth` is between `10` to `12` for both criteria."
   ]
  },
  {
   "cell_type": "code",
   "execution_count": 26,
   "id": "d2a0eabf",
   "metadata": {},
   "outputs": [
    {
     "data": {
      "text/plain": [
       "{'hyperparameters': {'criterion': 'entropy',\n",
       "  'n_estimators': 30,\n",
       "  'max_depth': 11},\n",
       " 'accuracy': 0.8040435458786936}"
      ]
     },
     "execution_count": 26,
     "metadata": {},
     "output_type": "execute_result"
    }
   ],
   "source": [
    "# Show the best random forest model\n",
    "best_model_data_dict['Random Forest']"
   ]
  },
  {
   "cell_type": "markdown",
   "id": "a478bfb2",
   "metadata": {},
   "source": [
    "**The best random forest model has an accuracy of 80.40%**\n",
    "\n",
    "[Back to Contents](#back)"
   ]
  },
  {
   "cell_type": "markdown",
   "id": "a1440065",
   "metadata": {},
   "source": [
    "### 4.3 Logistic Regression <a id='logistic_regression'></a>\n",
    "\n",
    "For the logistic regression model, the hyperparameter `C` can be tuned to prevent the model from being overfitting. In this case, feature scaling is needed since the features have different scales (0 to 244 for `calls` and `messages`, 0 to 49745 for `mb_used`). By applying standardisation on the features, it will be easier for the logistic regression algorithm to converge."
   ]
  },
  {
   "cell_type": "code",
   "execution_count": 27,
   "id": "d324f453",
   "metadata": {},
   "outputs": [],
   "source": [
    "# Find the best logistic regression model\n",
    "lr_hyperparams = [{'solver': ['lbfgs', 'liblinear'], \n",
    "                   'C': [0.001, 0.01, 0.1, 1, 10, 100]}]\n",
    "\n",
    "lr_result, best_model_dict['Logistic Regression'], best_model_data_dict['Logistic Regression'] = custom_GridSearch(\n",
    "    X_train = X_train, y_train = y_train,\n",
    "    X_val = X_val, y_val = y_val,\n",
    "    estimator = LogisticRegression,\n",
    "    param_grid = lr_hyperparams,\n",
    "    adaboost_param_grid = None,\n",
    "    feature_scaling = True\n",
    ")"
   ]
  },
  {
   "cell_type": "code",
   "execution_count": 28,
   "id": "308a39dc",
   "metadata": {},
   "outputs": [
    {
     "data": {
      "text/html": [
       "<div>\n",
       "<style scoped>\n",
       "    .dataframe tbody tr th:only-of-type {\n",
       "        vertical-align: middle;\n",
       "    }\n",
       "\n",
       "    .dataframe tbody tr th {\n",
       "        vertical-align: top;\n",
       "    }\n",
       "\n",
       "    .dataframe thead th {\n",
       "        text-align: right;\n",
       "    }\n",
       "</style>\n",
       "<table border=\"1\" class=\"dataframe\">\n",
       "  <thead>\n",
       "    <tr style=\"text-align: right;\">\n",
       "      <th></th>\n",
       "      <th>solver</th>\n",
       "      <th>C</th>\n",
       "      <th>accuracy</th>\n",
       "    </tr>\n",
       "  </thead>\n",
       "  <tbody>\n",
       "    <tr>\n",
       "      <th>0</th>\n",
       "      <td>liblinear</td>\n",
       "      <td>0.10</td>\n",
       "      <td>0.738725</td>\n",
       "    </tr>\n",
       "    <tr>\n",
       "      <th>1</th>\n",
       "      <td>liblinear</td>\n",
       "      <td>0.01</td>\n",
       "      <td>0.737170</td>\n",
       "    </tr>\n",
       "    <tr>\n",
       "      <th>2</th>\n",
       "      <td>lbfgs</td>\n",
       "      <td>0.10</td>\n",
       "      <td>0.735614</td>\n",
       "    </tr>\n",
       "    <tr>\n",
       "      <th>3</th>\n",
       "      <td>lbfgs</td>\n",
       "      <td>1.00</td>\n",
       "      <td>0.735614</td>\n",
       "    </tr>\n",
       "    <tr>\n",
       "      <th>4</th>\n",
       "      <td>liblinear</td>\n",
       "      <td>1.00</td>\n",
       "      <td>0.735614</td>\n",
       "    </tr>\n",
       "    <tr>\n",
       "      <th>5</th>\n",
       "      <td>lbfgs</td>\n",
       "      <td>10.00</td>\n",
       "      <td>0.734059</td>\n",
       "    </tr>\n",
       "    <tr>\n",
       "      <th>6</th>\n",
       "      <td>lbfgs</td>\n",
       "      <td>100.00</td>\n",
       "      <td>0.734059</td>\n",
       "    </tr>\n",
       "    <tr>\n",
       "      <th>7</th>\n",
       "      <td>liblinear</td>\n",
       "      <td>10.00</td>\n",
       "      <td>0.734059</td>\n",
       "    </tr>\n",
       "    <tr>\n",
       "      <th>8</th>\n",
       "      <td>liblinear</td>\n",
       "      <td>100.00</td>\n",
       "      <td>0.734059</td>\n",
       "    </tr>\n",
       "    <tr>\n",
       "      <th>9</th>\n",
       "      <td>lbfgs</td>\n",
       "      <td>0.01</td>\n",
       "      <td>0.732504</td>\n",
       "    </tr>\n",
       "  </tbody>\n",
       "</table>\n",
       "</div>"
      ],
      "text/plain": [
       "      solver       C  accuracy\n",
       "0  liblinear    0.10  0.738725\n",
       "1  liblinear    0.01  0.737170\n",
       "2      lbfgs    0.10  0.735614\n",
       "3      lbfgs    1.00  0.735614\n",
       "4  liblinear    1.00  0.735614\n",
       "5      lbfgs   10.00  0.734059\n",
       "6      lbfgs  100.00  0.734059\n",
       "7  liblinear   10.00  0.734059\n",
       "8  liblinear  100.00  0.734059\n",
       "9      lbfgs    0.01  0.732504"
      ]
     },
     "execution_count": 28,
     "metadata": {},
     "output_type": "execute_result"
    }
   ],
   "source": [
    "# Have a look at the top 10 logistic regression models\n",
    "lr_result.sort_values('accuracy', ascending=False).reset_index(drop=True).head(10)"
   ]
  },
  {
   "cell_type": "code",
   "execution_count": 29,
   "id": "6b816472",
   "metadata": {},
   "outputs": [
    {
     "data": {
      "image/png": "[encoded data removed]",
      "text/plain": [
       "<Figure size 600x400 with 1 Axes>"
      ]
     },
     "metadata": {},
     "output_type": "display_data"
    }
   ],
   "source": [
    "# Plot a line graph to visualise the training result\n",
    "sns_lineplot(data=lr_result, x='C', y='accuracy', hue='solver',\n",
    "             figsize=(6,4), title='Logistic Regression Models')"
   ]
  },
  {
   "cell_type": "code",
   "execution_count": 30,
   "id": "8e198248",
   "metadata": {},
   "outputs": [
    {
     "data": {
      "text/plain": [
       "{'hyperparameters': {'solver': 'liblinear', 'C': 0.1},\n",
       " 'accuracy': 0.7387247278382582}"
      ]
     },
     "execution_count": 30,
     "metadata": {},
     "output_type": "execute_result"
    }
   ],
   "source": [
    "# Show the best logistic regression model\n",
    "best_model_data_dict['Logistic Regression']"
   ]
  },
  {
   "cell_type": "markdown",
   "id": "c94959ba",
   "metadata": {},
   "source": [
    "**The best logistic regression model has an accuracy of 73.87%**\n",
    "\n",
    "[Back to Contents](#back)"
   ]
  },
  {
   "cell_type": "markdown",
   "id": "0808a957",
   "metadata": {},
   "source": [
    "### 4.4 Naive Bayes <a id='naive_bayes'></a>\n",
    "\n",
    "Naive bayes model is a probabilistic classifier based on the Bayes' theorem. There is nothing much we can do to tune the Naive Bayes model."
   ]
  },
  {
   "cell_type": "code",
   "execution_count": 31,
   "id": "b5ff00f8",
   "metadata": {},
   "outputs": [],
   "source": [
    "# Create the Naive Bayes model\n",
    "nb_hyperparams = [{}]\n",
    "\n",
    "nb_result, best_model_dict['Naive Bayes'], best_model_data_dict['Naive Bayes'] = custom_GridSearch(\n",
    "    X_train = X_train, y_train = y_train,\n",
    "    X_val = X_val, y_val = y_val,\n",
    "    estimator = GaussianNB,\n",
    "    param_grid = nb_hyperparams,\n",
    "    adaboost_param_grid = None,\n",
    "    feature_scaling = False\n",
    ")"
   ]
  },
  {
   "cell_type": "code",
   "execution_count": 32,
   "id": "ebeecbd9",
   "metadata": {},
   "outputs": [
    {
     "data": {
      "text/plain": [
       "{'hyperparameters': {}, 'accuracy': 0.7713841368584758}"
      ]
     },
     "execution_count": 32,
     "metadata": {},
     "output_type": "execute_result"
    }
   ],
   "source": [
    "# Show the accuracy of the Naive Bayes model\n",
    "best_model_data_dict['Naive Bayes']"
   ]
  },
  {
   "cell_type": "markdown",
   "id": "5304fe08",
   "metadata": {},
   "source": [
    "**The naive bayes model has an accuracy of 77.14%**\n",
    "\n",
    "[Back to Contents](#back)"
   ]
  },
  {
   "cell_type": "markdown",
   "id": "442ea215",
   "metadata": {},
   "source": [
    "### 4.5 K-Nearest Neighbors (KNN) <a id='knn'></a>\n",
    "\n",
    "KNN is a distance-based algorithm which commonly use the Euclidean distance or Manhattan distance to determine the nearest neighbouring points of a given point. Feature scaling is needed for a distance-based algorithm."
   ]
  },
  {
   "cell_type": "code",
   "execution_count": 33,
   "id": "43f9882b",
   "metadata": {},
   "outputs": [],
   "source": [
    "# Find the best KNN model\n",
    "knn_hyperparams = [{'n_neighbors': [x for x in range(5,11)], 'p': [1, 2]}]\n",
    "\n",
    "knn_result, best_model_dict['K-Nearest Neighbors'], best_model_data_dict['K-Nearest Neighbors'] = custom_GridSearch(\n",
    "    X_train = X_train, y_train = y_train,\n",
    "    X_val = X_val, y_val = y_val,\n",
    "    estimator = KNeighborsClassifier,\n",
    "    param_grid = knn_hyperparams,\n",
    "    adaboost_param_grid = None,\n",
    "    feature_scaling = True\n",
    ")"
   ]
  },
  {
   "cell_type": "code",
   "execution_count": 34,
   "id": "fd37c640",
   "metadata": {},
   "outputs": [
    {
     "data": {
      "text/html": [
       "<div>\n",
       "<style scoped>\n",
       "    .dataframe tbody tr th:only-of-type {\n",
       "        vertical-align: middle;\n",
       "    }\n",
       "\n",
       "    .dataframe tbody tr th {\n",
       "        vertical-align: top;\n",
       "    }\n",
       "\n",
       "    .dataframe thead th {\n",
       "        text-align: right;\n",
       "    }\n",
       "</style>\n",
       "<table border=\"1\" class=\"dataframe\">\n",
       "  <thead>\n",
       "    <tr style=\"text-align: right;\">\n",
       "      <th></th>\n",
       "      <th>n_neighbors</th>\n",
       "      <th>p</th>\n",
       "      <th>accuracy</th>\n",
       "    </tr>\n",
       "  </thead>\n",
       "  <tbody>\n",
       "    <tr>\n",
       "      <th>0</th>\n",
       "      <td>7</td>\n",
       "      <td>1</td>\n",
       "      <td>0.811820</td>\n",
       "    </tr>\n",
       "    <tr>\n",
       "      <th>1</th>\n",
       "      <td>10</td>\n",
       "      <td>1</td>\n",
       "      <td>0.810264</td>\n",
       "    </tr>\n",
       "    <tr>\n",
       "      <th>2</th>\n",
       "      <td>6</td>\n",
       "      <td>1</td>\n",
       "      <td>0.807154</td>\n",
       "    </tr>\n",
       "    <tr>\n",
       "      <th>3</th>\n",
       "      <td>9</td>\n",
       "      <td>2</td>\n",
       "      <td>0.805599</td>\n",
       "    </tr>\n",
       "    <tr>\n",
       "      <th>4</th>\n",
       "      <td>8</td>\n",
       "      <td>1</td>\n",
       "      <td>0.804044</td>\n",
       "    </tr>\n",
       "    <tr>\n",
       "      <th>5</th>\n",
       "      <td>9</td>\n",
       "      <td>1</td>\n",
       "      <td>0.804044</td>\n",
       "    </tr>\n",
       "    <tr>\n",
       "      <th>6</th>\n",
       "      <td>10</td>\n",
       "      <td>2</td>\n",
       "      <td>0.804044</td>\n",
       "    </tr>\n",
       "    <tr>\n",
       "      <th>7</th>\n",
       "      <td>6</td>\n",
       "      <td>2</td>\n",
       "      <td>0.800933</td>\n",
       "    </tr>\n",
       "    <tr>\n",
       "      <th>8</th>\n",
       "      <td>7</td>\n",
       "      <td>2</td>\n",
       "      <td>0.799378</td>\n",
       "    </tr>\n",
       "    <tr>\n",
       "      <th>9</th>\n",
       "      <td>8</td>\n",
       "      <td>2</td>\n",
       "      <td>0.799378</td>\n",
       "    </tr>\n",
       "  </tbody>\n",
       "</table>\n",
       "</div>"
      ],
      "text/plain": [
       "   n_neighbors  p  accuracy\n",
       "0            7  1  0.811820\n",
       "1           10  1  0.810264\n",
       "2            6  1  0.807154\n",
       "3            9  2  0.805599\n",
       "4            8  1  0.804044\n",
       "5            9  1  0.804044\n",
       "6           10  2  0.804044\n",
       "7            6  2  0.800933\n",
       "8            7  2  0.799378\n",
       "9            8  2  0.799378"
      ]
     },
     "execution_count": 34,
     "metadata": {},
     "output_type": "execute_result"
    }
   ],
   "source": [
    "# Have a look at the top 10 KNN models\n",
    "knn_result.sort_values('accuracy', ascending=False).reset_index(drop=True).head(10)"
   ]
  },
  {
   "cell_type": "code",
   "execution_count": 35,
   "id": "44cb973b",
   "metadata": {},
   "outputs": [
    {
     "data": {
      "image/png": "[encoded data removed]",
      "text/plain": [
       "<Figure size 600x400 with 1 Axes>"
      ]
     },
     "metadata": {},
     "output_type": "display_data"
    }
   ],
   "source": [
    "# Plot a line graph to visualise the training result\n",
    "sns_lineplot(data=knn_result, x='n_neighbors', y='accuracy', hue='p',\n",
    "             figsize=(6,4), title='KNN Models')"
   ]
  },
  {
   "cell_type": "markdown",
   "id": "ee9e2b79",
   "metadata": {},
   "source": [
    "The accuracies of the KNN models which based on Manhattan distance are generally better than those based on the Euclidean distance."
   ]
  },
  {
   "cell_type": "code",
   "execution_count": 36,
   "id": "2a6e1025",
   "metadata": {},
   "outputs": [
    {
     "data": {
      "text/plain": [
       "{'hyperparameters': {'n_neighbors': 7, 'p': 1}, 'accuracy': 0.8118195956454122}"
      ]
     },
     "execution_count": 36,
     "metadata": {},
     "output_type": "execute_result"
    }
   ],
   "source": [
    "# Show the best KNN model\n",
    "best_model_data_dict['K-Nearest Neighbors']"
   ]
  },
  {
   "cell_type": "markdown",
   "id": "0552fa4d",
   "metadata": {},
   "source": [
    "**The best KNN model has an accuracy of 81.18%**\n",
    "\n",
    "[Back to Contents](#back)"
   ]
  },
  {
   "cell_type": "markdown",
   "id": "87969f0f",
   "metadata": {},
   "source": [
    "### 4.6 Support Vector Machine (Linear and Non-Linear) <a id='svm'></a>\n",
    "\n",
    "Support vector machine is also a distance-based algorithm and thus feature scaling will be applied."
   ]
  },
  {
   "cell_type": "code",
   "execution_count": 37,
   "id": "603350c7",
   "metadata": {},
   "outputs": [],
   "source": [
    "# Find the best support vector machine model\n",
    "svm_hyperparams = [{'C': [0.001, 0.01, 0.1, 1, 10, 100], 'kernel': ['linear']},\n",
    "                   {'C': [0.001, 0.01, 0.1, 1, 10, 100], 'kernel': ['rbf'], 'gamma': [0.001, 0.01, 0.1, 1, 10, 100]}]\n",
    "\n",
    "svm_result, best_model_dict['Support Vector Machine'], best_model_data_dict['Support Vector Machine'] = custom_GridSearch(\n",
    "    X_train = X_train, y_train = y_train,\n",
    "    X_val = X_val, y_val = y_val,\n",
    "    estimator = SVC,\n",
    "    param_grid = svm_hyperparams,\n",
    "    adaboost_param_grid = None,\n",
    "    feature_scaling = True\n",
    ")"
   ]
  },
  {
   "cell_type": "code",
   "execution_count": 38,
   "id": "1dd7914d",
   "metadata": {},
   "outputs": [
    {
     "data": {
      "text/html": [
       "<div>\n",
       "<style scoped>\n",
       "    .dataframe tbody tr th:only-of-type {\n",
       "        vertical-align: middle;\n",
       "    }\n",
       "\n",
       "    .dataframe tbody tr th {\n",
       "        vertical-align: top;\n",
       "    }\n",
       "\n",
       "    .dataframe thead th {\n",
       "        text-align: right;\n",
       "    }\n",
       "</style>\n",
       "<table border=\"1\" class=\"dataframe\">\n",
       "  <thead>\n",
       "    <tr style=\"text-align: right;\">\n",
       "      <th></th>\n",
       "      <th>C</th>\n",
       "      <th>kernel</th>\n",
       "      <th>gamma</th>\n",
       "      <th>accuracy</th>\n",
       "    </tr>\n",
       "  </thead>\n",
       "  <tbody>\n",
       "    <tr>\n",
       "      <th>0</th>\n",
       "      <td>10.0</td>\n",
       "      <td>rbf</td>\n",
       "      <td>1.00</td>\n",
       "      <td>0.804044</td>\n",
       "    </tr>\n",
       "    <tr>\n",
       "      <th>1</th>\n",
       "      <td>100.0</td>\n",
       "      <td>rbf</td>\n",
       "      <td>1.00</td>\n",
       "      <td>0.802488</td>\n",
       "    </tr>\n",
       "    <tr>\n",
       "      <th>2</th>\n",
       "      <td>100.0</td>\n",
       "      <td>rbf</td>\n",
       "      <td>0.10</td>\n",
       "      <td>0.796267</td>\n",
       "    </tr>\n",
       "    <tr>\n",
       "      <th>3</th>\n",
       "      <td>0.1</td>\n",
       "      <td>rbf</td>\n",
       "      <td>1.00</td>\n",
       "      <td>0.793157</td>\n",
       "    </tr>\n",
       "    <tr>\n",
       "      <th>4</th>\n",
       "      <td>1.0</td>\n",
       "      <td>rbf</td>\n",
       "      <td>1.00</td>\n",
       "      <td>0.793157</td>\n",
       "    </tr>\n",
       "    <tr>\n",
       "      <th>5</th>\n",
       "      <td>1.0</td>\n",
       "      <td>rbf</td>\n",
       "      <td>0.10</td>\n",
       "      <td>0.790047</td>\n",
       "    </tr>\n",
       "    <tr>\n",
       "      <th>6</th>\n",
       "      <td>1.0</td>\n",
       "      <td>rbf</td>\n",
       "      <td>10.00</td>\n",
       "      <td>0.788491</td>\n",
       "    </tr>\n",
       "    <tr>\n",
       "      <th>7</th>\n",
       "      <td>10.0</td>\n",
       "      <td>rbf</td>\n",
       "      <td>0.10</td>\n",
       "      <td>0.786936</td>\n",
       "    </tr>\n",
       "    <tr>\n",
       "      <th>8</th>\n",
       "      <td>100.0</td>\n",
       "      <td>rbf</td>\n",
       "      <td>0.01</td>\n",
       "      <td>0.782271</td>\n",
       "    </tr>\n",
       "    <tr>\n",
       "      <th>9</th>\n",
       "      <td>10.0</td>\n",
       "      <td>rbf</td>\n",
       "      <td>0.01</td>\n",
       "      <td>0.779160</td>\n",
       "    </tr>\n",
       "  </tbody>\n",
       "</table>\n",
       "</div>"
      ],
      "text/plain": [
       "       C kernel  gamma  accuracy\n",
       "0   10.0    rbf   1.00  0.804044\n",
       "1  100.0    rbf   1.00  0.802488\n",
       "2  100.0    rbf   0.10  0.796267\n",
       "3    0.1    rbf   1.00  0.793157\n",
       "4    1.0    rbf   1.00  0.793157\n",
       "5    1.0    rbf   0.10  0.790047\n",
       "6    1.0    rbf  10.00  0.788491\n",
       "7   10.0    rbf   0.10  0.786936\n",
       "8  100.0    rbf   0.01  0.782271\n",
       "9   10.0    rbf   0.01  0.779160"
      ]
     },
     "execution_count": 38,
     "metadata": {},
     "output_type": "execute_result"
    }
   ],
   "source": [
    "# Have a look at the top 10 support vector machine models\n",
    "svm_result.sort_values('accuracy', ascending=False).reset_index(drop=True).head(10)"
   ]
  },
  {
   "cell_type": "code",
   "execution_count": 39,
   "id": "b1edce59",
   "metadata": {},
   "outputs": [
    {
     "data": {
      "image/png": "[encoded data removed]",
      "text/plain": [
       "<Figure size 600x400 with 1 Axes>"
      ]
     },
     "metadata": {},
     "output_type": "display_data"
    }
   ],
   "source": [
    "# Plot a line graph to visualise the training result\n",
    "sns_lineplot(data=svm_result, x='C', y='accuracy', hue='kernel',\n",
    "             figsize=(6,4), title='Support Vector Machine Models')"
   ]
  },
  {
   "cell_type": "markdown",
   "id": "d7ad4ba9",
   "metadata": {},
   "source": [
    "The non-liner support vector classifiers perform better in this dataset."
   ]
  },
  {
   "cell_type": "code",
   "execution_count": 40,
   "id": "7afcd422",
   "metadata": {},
   "outputs": [
    {
     "data": {
      "text/plain": [
       "{'hyperparameters': {'C': 10, 'kernel': 'rbf', 'gamma': 1},\n",
       " 'accuracy': 0.8040435458786936}"
      ]
     },
     "execution_count": 40,
     "metadata": {},
     "output_type": "execute_result"
    }
   ],
   "source": [
    "# Show the best SVM model\n",
    "best_model_data_dict['Support Vector Machine']"
   ]
  },
  {
   "cell_type": "markdown",
   "id": "6f0145e7",
   "metadata": {},
   "source": [
    "**The best support vector machine model has an accuracy of 80.40%**\n",
    "\n",
    "[Back to Contents](#back)"
   ]
  },
  {
   "cell_type": "markdown",
   "id": "91f3b111",
   "metadata": {},
   "source": [
    "### 4.7 Decision Tree with Adaptive Boosting <a id='adaboost_decision_tree'></a>\n",
    "\n",
    "Boosting is another ensemble model which train many weak learners in a sequential way. Each learner adaptively improve the model predictions by learning the mistakes made by the previous learner. Adaptive boosting is relatively slower compared to other boosting algorithms like gradient boosting but it is versatile and can be used with a variety of base estimators.\n",
    "\n",
    "Adaptive boosting is most commonly used with the decision tree. Let's see if the accuracy of decision tree can be improved by applying adaptive boosting."
   ]
  },
  {
   "cell_type": "code",
   "execution_count": 41,
   "id": "14b862ff",
   "metadata": {},
   "outputs": [],
   "source": [
    "# Find the best decision tree model with adaptive boosting\n",
    "dt2_hyperparams = [{'criterion': ['gini'], \n",
    "                    'max_depth': [x for x in range(10,16)]}]\n",
    "dt2_adaboost_hyperparams = [{'n_estimators': [x for x in range(30,71,10)],\n",
    "                             'learning_rate': [0.1, 1]}]\n",
    "\n",
    "adaboost_dt_result, best_model_dict['Adaboost Decision Tree'], best_model_data_dict['Adaboost Decision Tree'] = custom_GridSearch(\n",
    "    X_train = X_train, y_train = y_train,\n",
    "    X_val = X_val, y_val = y_val,\n",
    "    estimator = DecisionTreeClassifier,\n",
    "    param_grid = dt2_hyperparams,\n",
    "    adaboost_param_grid = dt2_adaboost_hyperparams,\n",
    "    feature_scaling = False\n",
    ")"
   ]
  },
  {
   "cell_type": "code",
   "execution_count": 42,
   "id": "03843eac",
   "metadata": {},
   "outputs": [
    {
     "data": {
      "text/html": [
       "<div>\n",
       "<style scoped>\n",
       "    .dataframe tbody tr th:only-of-type {\n",
       "        vertical-align: middle;\n",
       "    }\n",
       "\n",
       "    .dataframe tbody tr th {\n",
       "        vertical-align: top;\n",
       "    }\n",
       "\n",
       "    .dataframe thead th {\n",
       "        text-align: right;\n",
       "    }\n",
       "</style>\n",
       "<table border=\"1\" class=\"dataframe\">\n",
       "  <thead>\n",
       "    <tr style=\"text-align: right;\">\n",
       "      <th></th>\n",
       "      <th>criterion</th>\n",
       "      <th>max_depth</th>\n",
       "      <th>n_estimators</th>\n",
       "      <th>learning_rate</th>\n",
       "      <th>accuracy</th>\n",
       "    </tr>\n",
       "  </thead>\n",
       "  <tbody>\n",
       "    <tr>\n",
       "      <th>0</th>\n",
       "      <td>gini</td>\n",
       "      <td>12</td>\n",
       "      <td>60</td>\n",
       "      <td>1.0</td>\n",
       "      <td>0.799378</td>\n",
       "    </tr>\n",
       "    <tr>\n",
       "      <th>1</th>\n",
       "      <td>gini</td>\n",
       "      <td>15</td>\n",
       "      <td>50</td>\n",
       "      <td>1.0</td>\n",
       "      <td>0.797823</td>\n",
       "    </tr>\n",
       "    <tr>\n",
       "      <th>2</th>\n",
       "      <td>gini</td>\n",
       "      <td>12</td>\n",
       "      <td>50</td>\n",
       "      <td>1.0</td>\n",
       "      <td>0.796267</td>\n",
       "    </tr>\n",
       "    <tr>\n",
       "      <th>3</th>\n",
       "      <td>gini</td>\n",
       "      <td>11</td>\n",
       "      <td>60</td>\n",
       "      <td>1.0</td>\n",
       "      <td>0.794712</td>\n",
       "    </tr>\n",
       "    <tr>\n",
       "      <th>4</th>\n",
       "      <td>gini</td>\n",
       "      <td>12</td>\n",
       "      <td>30</td>\n",
       "      <td>1.0</td>\n",
       "      <td>0.794712</td>\n",
       "    </tr>\n",
       "    <tr>\n",
       "      <th>5</th>\n",
       "      <td>gini</td>\n",
       "      <td>11</td>\n",
       "      <td>70</td>\n",
       "      <td>1.0</td>\n",
       "      <td>0.793157</td>\n",
       "    </tr>\n",
       "    <tr>\n",
       "      <th>6</th>\n",
       "      <td>gini</td>\n",
       "      <td>12</td>\n",
       "      <td>40</td>\n",
       "      <td>1.0</td>\n",
       "      <td>0.793157</td>\n",
       "    </tr>\n",
       "    <tr>\n",
       "      <th>7</th>\n",
       "      <td>gini</td>\n",
       "      <td>15</td>\n",
       "      <td>70</td>\n",
       "      <td>1.0</td>\n",
       "      <td>0.793157</td>\n",
       "    </tr>\n",
       "    <tr>\n",
       "      <th>8</th>\n",
       "      <td>gini</td>\n",
       "      <td>12</td>\n",
       "      <td>70</td>\n",
       "      <td>1.0</td>\n",
       "      <td>0.793157</td>\n",
       "    </tr>\n",
       "    <tr>\n",
       "      <th>9</th>\n",
       "      <td>gini</td>\n",
       "      <td>11</td>\n",
       "      <td>50</td>\n",
       "      <td>1.0</td>\n",
       "      <td>0.791602</td>\n",
       "    </tr>\n",
       "  </tbody>\n",
       "</table>\n",
       "</div>"
      ],
      "text/plain": [
       "  criterion  max_depth  n_estimators  learning_rate  accuracy\n",
       "0      gini         12            60            1.0  0.799378\n",
       "1      gini         15            50            1.0  0.797823\n",
       "2      gini         12            50            1.0  0.796267\n",
       "3      gini         11            60            1.0  0.794712\n",
       "4      gini         12            30            1.0  0.794712\n",
       "5      gini         11            70            1.0  0.793157\n",
       "6      gini         12            40            1.0  0.793157\n",
       "7      gini         15            70            1.0  0.793157\n",
       "8      gini         12            70            1.0  0.793157\n",
       "9      gini         11            50            1.0  0.791602"
      ]
     },
     "execution_count": 42,
     "metadata": {},
     "output_type": "execute_result"
    }
   ],
   "source": [
    "# Have a look at the top 10 decision tree model with adaptive boosting\n",
    "adaboost_dt_result.sort_values('accuracy', ascending=False).reset_index(drop=True).head(10)"
   ]
  },
  {
   "cell_type": "code",
   "execution_count": 43,
   "id": "b5a07071",
   "metadata": {},
   "outputs": [
    {
     "data": {
      "image/png": "[encoded data removed]",
      "text/plain": [
       "<Figure size 600x400 with 1 Axes>"
      ]
     },
     "metadata": {},
     "output_type": "display_data"
    }
   ],
   "source": [
    "# Plot a line graph to visualise the training result\n",
    "sns_lineplot(data=adaboost_dt_result, x='max_depth', y='accuracy', hue='learning_rate',\n",
    "             figsize=(6,4), title='Decision Tree Models with Adaptive Boosting')"
   ]
  },
  {
   "cell_type": "markdown",
   "id": "e63a9bfd",
   "metadata": {},
   "source": [
    "The boosting models with a `learning rate` of 1 have better accuracies than those of 0.1 `learning rate`. The accuracy start dropping after a `max_depth` of 12."
   ]
  },
  {
   "cell_type": "code",
   "execution_count": 44,
   "id": "0b9b55e2",
   "metadata": {},
   "outputs": [
    {
     "data": {
      "text/plain": [
       "{'hyperparameters': {'criterion': 'gini',\n",
       "  'max_depth': 12,\n",
       "  'n_estimators': 60,\n",
       "  'learning_rate': 1},\n",
       " 'accuracy': 0.7993779160186625}"
      ]
     },
     "execution_count": 44,
     "metadata": {},
     "output_type": "execute_result"
    }
   ],
   "source": [
    "# Show the best decision tree models with adaptive boosting\n",
    "best_model_data_dict['Adaboost Decision Tree']"
   ]
  },
  {
   "cell_type": "markdown",
   "id": "b5d33652",
   "metadata": {},
   "source": [
    "**The best decision tree model with adaptive boosting has an accuracy of 79.94%**\n",
    "\n",
    "[Back to Contents](#back)"
   ]
  },
  {
   "cell_type": "markdown",
   "id": "3e41ac20",
   "metadata": {},
   "source": [
    "### 4.8 Random Forest with Adaptive Boosting <a id='adaboost_random_forest'></a>\n",
    "\n",
    "Random forest works similar to a decision tree and it achieved the second highest accuracy of 80.40% among the previously created model. Let's see if we can improve the performance of random forest with adaptive boosting."
   ]
  },
  {
   "cell_type": "code",
   "execution_count": 45,
   "id": "9c1b17a3",
   "metadata": {},
   "outputs": [],
   "source": [
    "# Find the best random forest with adaptive boosting\n",
    "rf2_hyperparams = [{'n_estimators':[30],\n",
    "                    'criterion': ['entropy'],\n",
    "                    'max_depth': [x for x in range(5,10)]}]\n",
    "rf2_adaboost_hyperparams = [{'n_estimators': [40, 50], \n",
    "                             'learning_rate': [0.1]}]\n",
    "\n",
    "adaboost_rf_result, best_model_dict['Adaboost Random Forest'], best_model_data_dict['Adaboost Random Forest'] = custom_GridSearch(\n",
    "    X_train = X_train, y_train = y_train,\n",
    "    X_val = X_val, y_val = y_val,\n",
    "    estimator = RandomForestClassifier,\n",
    "    param_grid = rf2_hyperparams,\n",
    "    adaboost_param_grid = rf2_adaboost_hyperparams,\n",
    "    feature_scaling = False\n",
    ")"
   ]
  },
  {
   "cell_type": "code",
   "execution_count": 46,
   "id": "5d9c74d7",
   "metadata": {},
   "outputs": [
    {
     "data": {
      "text/html": [
       "<div>\n",
       "<style scoped>\n",
       "    .dataframe tbody tr th:only-of-type {\n",
       "        vertical-align: middle;\n",
       "    }\n",
       "\n",
       "    .dataframe tbody tr th {\n",
       "        vertical-align: top;\n",
       "    }\n",
       "\n",
       "    .dataframe thead th {\n",
       "        text-align: right;\n",
       "    }\n",
       "</style>\n",
       "<table border=\"1\" class=\"dataframe\">\n",
       "  <thead>\n",
       "    <tr style=\"text-align: right;\">\n",
       "      <th></th>\n",
       "      <th>n_estimators</th>\n",
       "      <th>criterion</th>\n",
       "      <th>max_depth</th>\n",
       "      <th>learning_rate</th>\n",
       "      <th>accuracy</th>\n",
       "    </tr>\n",
       "  </thead>\n",
       "  <tbody>\n",
       "    <tr>\n",
       "      <th>0</th>\n",
       "      <td>50</td>\n",
       "      <td>entropy</td>\n",
       "      <td>6</td>\n",
       "      <td>0.1</td>\n",
       "      <td>0.805599</td>\n",
       "    </tr>\n",
       "    <tr>\n",
       "      <th>1</th>\n",
       "      <td>40</td>\n",
       "      <td>entropy</td>\n",
       "      <td>8</td>\n",
       "      <td>0.1</td>\n",
       "      <td>0.804044</td>\n",
       "    </tr>\n",
       "    <tr>\n",
       "      <th>2</th>\n",
       "      <td>40</td>\n",
       "      <td>entropy</td>\n",
       "      <td>7</td>\n",
       "      <td>0.1</td>\n",
       "      <td>0.800933</td>\n",
       "    </tr>\n",
       "    <tr>\n",
       "      <th>3</th>\n",
       "      <td>50</td>\n",
       "      <td>entropy</td>\n",
       "      <td>8</td>\n",
       "      <td>0.1</td>\n",
       "      <td>0.800933</td>\n",
       "    </tr>\n",
       "    <tr>\n",
       "      <th>4</th>\n",
       "      <td>40</td>\n",
       "      <td>entropy</td>\n",
       "      <td>6</td>\n",
       "      <td>0.1</td>\n",
       "      <td>0.799378</td>\n",
       "    </tr>\n",
       "    <tr>\n",
       "      <th>5</th>\n",
       "      <td>50</td>\n",
       "      <td>entropy</td>\n",
       "      <td>7</td>\n",
       "      <td>0.1</td>\n",
       "      <td>0.799378</td>\n",
       "    </tr>\n",
       "    <tr>\n",
       "      <th>6</th>\n",
       "      <td>40</td>\n",
       "      <td>entropy</td>\n",
       "      <td>5</td>\n",
       "      <td>0.1</td>\n",
       "      <td>0.796267</td>\n",
       "    </tr>\n",
       "    <tr>\n",
       "      <th>7</th>\n",
       "      <td>50</td>\n",
       "      <td>entropy</td>\n",
       "      <td>5</td>\n",
       "      <td>0.1</td>\n",
       "      <td>0.796267</td>\n",
       "    </tr>\n",
       "    <tr>\n",
       "      <th>8</th>\n",
       "      <td>50</td>\n",
       "      <td>entropy</td>\n",
       "      <td>9</td>\n",
       "      <td>0.1</td>\n",
       "      <td>0.791602</td>\n",
       "    </tr>\n",
       "    <tr>\n",
       "      <th>9</th>\n",
       "      <td>40</td>\n",
       "      <td>entropy</td>\n",
       "      <td>9</td>\n",
       "      <td>0.1</td>\n",
       "      <td>0.788491</td>\n",
       "    </tr>\n",
       "  </tbody>\n",
       "</table>\n",
       "</div>"
      ],
      "text/plain": [
       "   n_estimators criterion  max_depth  learning_rate  accuracy\n",
       "0            50   entropy          6            0.1  0.805599\n",
       "1            40   entropy          8            0.1  0.804044\n",
       "2            40   entropy          7            0.1  0.800933\n",
       "3            50   entropy          8            0.1  0.800933\n",
       "4            40   entropy          6            0.1  0.799378\n",
       "5            50   entropy          7            0.1  0.799378\n",
       "6            40   entropy          5            0.1  0.796267\n",
       "7            50   entropy          5            0.1  0.796267\n",
       "8            50   entropy          9            0.1  0.791602\n",
       "9            40   entropy          9            0.1  0.788491"
      ]
     },
     "execution_count": 46,
     "metadata": {},
     "output_type": "execute_result"
    }
   ],
   "source": [
    "# Have a look at the top 10 random forest models with adaptive boosting\n",
    "adaboost_rf_result.sort_values('accuracy', ascending=False).reset_index(drop=True).head(10)"
   ]
  },
  {
   "cell_type": "code",
   "execution_count": 47,
   "id": "d935313c",
   "metadata": {},
   "outputs": [
    {
     "data": {
      "image/png": "[encoded data removed]",
      "text/plain": [
       "<Figure size 600x400 with 1 Axes>"
      ]
     },
     "metadata": {},
     "output_type": "display_data"
    }
   ],
   "source": [
    "# Plot a line graph to visualise the training result\n",
    "sns_lineplot(data=adaboost_rf_result, x='max_depth', y='accuracy', hue='n_estimators',\n",
    "             figsize=(6,4), title='Random Forest Models with Adaptive Boosting')"
   ]
  },
  {
   "cell_type": "markdown",
   "id": "cd24a7c6",
   "metadata": {},
   "source": [
    "The accuracy has a peak with a `max_depth` of 6 and `n_estimators` of 50."
   ]
  },
  {
   "cell_type": "code",
   "execution_count": 48,
   "id": "4b41f4a8",
   "metadata": {},
   "outputs": [
    {
     "data": {
      "text/plain": [
       "{'hyperparameters': {'n_estimators': 50,\n",
       "  'criterion': 'entropy',\n",
       "  'max_depth': 6,\n",
       "  'learning_rate': 0.1},\n",
       " 'accuracy': 0.8055987558320373}"
      ]
     },
     "execution_count": 48,
     "metadata": {},
     "output_type": "execute_result"
    }
   ],
   "source": [
    "# Show the best decision tree models with adaptive boosting\n",
    "best_model_data_dict['Adaboost Random Forest']"
   ]
  },
  {
   "cell_type": "markdown",
   "id": "ea8dff3d",
   "metadata": {},
   "source": [
    "**The best random forest model with adaptive boosting has an accuracy of 80.56%**\n",
    "\n",
    "[Back to Contents](#back)"
   ]
  },
  {
   "cell_type": "markdown",
   "id": "d1d178ab",
   "metadata": {},
   "source": [
    "## 5. Final Model Selection and Evaluation <a id='final_model'></a>"
   ]
  },
  {
   "cell_type": "code",
   "execution_count": 49,
   "id": "1ccdb191",
   "metadata": {},
   "outputs": [
    {
     "data": {
      "text/html": [
       "<div>\n",
       "<style scoped>\n",
       "    .dataframe tbody tr th:only-of-type {\n",
       "        vertical-align: middle;\n",
       "    }\n",
       "\n",
       "    .dataframe tbody tr th {\n",
       "        vertical-align: top;\n",
       "    }\n",
       "\n",
       "    .dataframe thead th {\n",
       "        text-align: right;\n",
       "    }\n",
       "</style>\n",
       "<table border=\"1\" class=\"dataframe\">\n",
       "  <thead>\n",
       "    <tr style=\"text-align: right;\">\n",
       "      <th></th>\n",
       "      <th>model</th>\n",
       "      <th>hyperparameters</th>\n",
       "      <th>accuracy</th>\n",
       "    </tr>\n",
       "  </thead>\n",
       "  <tbody>\n",
       "    <tr>\n",
       "      <th>0</th>\n",
       "      <td>K-Nearest Neighbors</td>\n",
       "      <td>{'n_neighbors': 7, 'p': 1}</td>\n",
       "      <td>0.811820</td>\n",
       "    </tr>\n",
       "    <tr>\n",
       "      <th>1</th>\n",
       "      <td>Adaboost Random Forest</td>\n",
       "      <td>{'n_estimators': 50, 'criterion': 'entropy', '...</td>\n",
       "      <td>0.805599</td>\n",
       "    </tr>\n",
       "    <tr>\n",
       "      <th>2</th>\n",
       "      <td>Random Forest</td>\n",
       "      <td>{'criterion': 'entropy', 'n_estimators': 30, '...</td>\n",
       "      <td>0.804044</td>\n",
       "    </tr>\n",
       "    <tr>\n",
       "      <th>3</th>\n",
       "      <td>Support Vector Machine</td>\n",
       "      <td>{'C': 10, 'kernel': 'rbf', 'gamma': 1}</td>\n",
       "      <td>0.804044</td>\n",
       "    </tr>\n",
       "    <tr>\n",
       "      <th>4</th>\n",
       "      <td>Adaboost Decision Tree</td>\n",
       "      <td>{'criterion': 'gini', 'max_depth': 12, 'n_esti...</td>\n",
       "      <td>0.799378</td>\n",
       "    </tr>\n",
       "    <tr>\n",
       "      <th>5</th>\n",
       "      <td>Decision Tree</td>\n",
       "      <td>{'criterion': 'gini', 'max_depth': 6}</td>\n",
       "      <td>0.788491</td>\n",
       "    </tr>\n",
       "    <tr>\n",
       "      <th>6</th>\n",
       "      <td>Naive Bayes</td>\n",
       "      <td>{}</td>\n",
       "      <td>0.771384</td>\n",
       "    </tr>\n",
       "    <tr>\n",
       "      <th>7</th>\n",
       "      <td>Logistic Regression</td>\n",
       "      <td>{'solver': 'liblinear', 'C': 0.1}</td>\n",
       "      <td>0.738725</td>\n",
       "    </tr>\n",
       "  </tbody>\n",
       "</table>\n",
       "</div>"
      ],
      "text/plain": [
       "                    model                                    hyperparameters  \\\n",
       "0     K-Nearest Neighbors                         {'n_neighbors': 7, 'p': 1}   \n",
       "1  Adaboost Random Forest  {'n_estimators': 50, 'criterion': 'entropy', '...   \n",
       "2           Random Forest  {'criterion': 'entropy', 'n_estimators': 30, '...   \n",
       "3  Support Vector Machine             {'C': 10, 'kernel': 'rbf', 'gamma': 1}   \n",
       "4  Adaboost Decision Tree  {'criterion': 'gini', 'max_depth': 12, 'n_esti...   \n",
       "5           Decision Tree              {'criterion': 'gini', 'max_depth': 6}   \n",
       "6             Naive Bayes                                                 {}   \n",
       "7     Logistic Regression                  {'solver': 'liblinear', 'C': 0.1}   \n",
       "\n",
       "   accuracy  \n",
       "0  0.811820  \n",
       "1  0.805599  \n",
       "2  0.804044  \n",
       "3  0.804044  \n",
       "4  0.799378  \n",
       "5  0.788491  \n",
       "6  0.771384  \n",
       "7  0.738725  "
      ]
     },
     "execution_count": 49,
     "metadata": {},
     "output_type": "execute_result"
    }
   ],
   "source": [
    "# Create two lists containing the information of best models\n",
    "best_model_type = []\n",
    "best_model_data = []\n",
    "\n",
    "for classifier_type, classifier_data in best_model_data_dict.items():\n",
    "    best_model_type.append(classifier_type)\n",
    "    best_model_data.append(classifier_data)\n",
    "\n",
    "# Create a dataframe containing all the best models and the accuracies\n",
    "best_model_df = pd.DataFrame({'model': best_model_type, 'data': best_model_data})\n",
    "best_model_df = pd.concat([best_model_df['model'], pd.json_normalize(best_model_df['data'], max_level=0)], axis=1)\n",
    "best_model_df = best_model_df.sort_values('accuracy', ascending=False).reset_index(drop=True)\n",
    "\n",
    "# Have a look at the dataframe\n",
    "best_model_df"
   ]
  },
  {
   "cell_type": "markdown",
   "id": "740041fc",
   "metadata": {},
   "source": [
    "The accuracies of the top five models are very close. Therefore, 5-fold cross validation will be performed to have more precise accuracy scores. The model with the highest mean accuracy score in the 5-fold corss validation will be selected as the final model."
   ]
  },
  {
   "cell_type": "code",
   "execution_count": 50,
   "id": "813ec459",
   "metadata": {},
   "outputs": [],
   "source": [
    "# Create a function to perform the 5-fold cross validation\n",
    "def calc_cross_val_score(model, model_name, X_train, y_train):\n",
    "    \"\"\"\n",
    "    This function performs 5-fold cross validation on each model\n",
    "    and return the mean of the 5 accuracy scores\n",
    "    \"\"\"\n",
    "    \n",
    "    if model_name in ['Logistic Regression', 'K-Nearest Neighbors', 'Support Vector Classifier']:\n",
    "        sc = StandardScaler()\n",
    "        X_train = sc.fit_transform(X_train)\n",
    "        \n",
    "    accuracies = cross_val_score(model[model_name], X=X_train, y=y_train, cv=5, n_jobs=-1)\n",
    "    \n",
    "    return accuracies.mean()"
   ]
  },
  {
   "cell_type": "code",
   "execution_count": 51,
   "id": "53f8f522",
   "metadata": {},
   "outputs": [],
   "source": [
    "# Apply the function to find the mean of 5-fold cross validation accuracies\n",
    "best_model_df['cross_val_accuracy'] = best_model_df['model'].apply(\n",
    "    lambda x: calc_cross_val_score(best_model_dict, x, X_train_val, y_train_val)\n",
    ")"
   ]
  },
  {
   "cell_type": "code",
   "execution_count": 52,
   "id": "35cf7ec7",
   "metadata": {},
   "outputs": [
    {
     "data": {
      "text/html": [
       "<div>\n",
       "<style scoped>\n",
       "    .dataframe tbody tr th:only-of-type {\n",
       "        vertical-align: middle;\n",
       "    }\n",
       "\n",
       "    .dataframe tbody tr th {\n",
       "        vertical-align: top;\n",
       "    }\n",
       "\n",
       "    .dataframe thead th {\n",
       "        text-align: right;\n",
       "    }\n",
       "</style>\n",
       "<table border=\"1\" class=\"dataframe\">\n",
       "  <thead>\n",
       "    <tr style=\"text-align: right;\">\n",
       "      <th></th>\n",
       "      <th>model</th>\n",
       "      <th>hyperparameters</th>\n",
       "      <th>accuracy</th>\n",
       "      <th>cross_val_accuracy</th>\n",
       "    </tr>\n",
       "  </thead>\n",
       "  <tbody>\n",
       "    <tr>\n",
       "      <th>0</th>\n",
       "      <td>Adaboost Random Forest</td>\n",
       "      <td>{'n_estimators': 50, 'criterion': 'entropy', '...</td>\n",
       "      <td>0.805599</td>\n",
       "      <td>0.812139</td>\n",
       "    </tr>\n",
       "    <tr>\n",
       "      <th>1</th>\n",
       "      <td>Random Forest</td>\n",
       "      <td>{'criterion': 'entropy', 'n_estimators': 30, '...</td>\n",
       "      <td>0.804044</td>\n",
       "      <td>0.803191</td>\n",
       "    </tr>\n",
       "    <tr>\n",
       "      <th>2</th>\n",
       "      <td>K-Nearest Neighbors</td>\n",
       "      <td>{'n_neighbors': 7, 'p': 1}</td>\n",
       "      <td>0.811820</td>\n",
       "      <td>0.801247</td>\n",
       "    </tr>\n",
       "    <tr>\n",
       "      <th>3</th>\n",
       "      <td>Decision Tree</td>\n",
       "      <td>{'criterion': 'gini', 'max_depth': 6}</td>\n",
       "      <td>0.788491</td>\n",
       "      <td>0.793463</td>\n",
       "    </tr>\n",
       "    <tr>\n",
       "      <th>4</th>\n",
       "      <td>Adaboost Decision Tree</td>\n",
       "      <td>{'criterion': 'gini', 'max_depth': 12, 'n_esti...</td>\n",
       "      <td>0.799378</td>\n",
       "      <td>0.787240</td>\n",
       "    </tr>\n",
       "    <tr>\n",
       "      <th>5</th>\n",
       "      <td>Naive Bayes</td>\n",
       "      <td>{}</td>\n",
       "      <td>0.771384</td>\n",
       "      <td>0.785297</td>\n",
       "    </tr>\n",
       "    <tr>\n",
       "      <th>6</th>\n",
       "      <td>Logistic Regression</td>\n",
       "      <td>{'solver': 'liblinear', 'C': 0.1}</td>\n",
       "      <td>0.738725</td>\n",
       "      <td>0.748348</td>\n",
       "    </tr>\n",
       "    <tr>\n",
       "      <th>7</th>\n",
       "      <td>Support Vector Machine</td>\n",
       "      <td>{'C': 10, 'kernel': 'rbf', 'gamma': 1}</td>\n",
       "      <td>0.804044</td>\n",
       "      <td>0.691949</td>\n",
       "    </tr>\n",
       "  </tbody>\n",
       "</table>\n",
       "</div>"
      ],
      "text/plain": [
       "                    model                                    hyperparameters  \\\n",
       "0  Adaboost Random Forest  {'n_estimators': 50, 'criterion': 'entropy', '...   \n",
       "1           Random Forest  {'criterion': 'entropy', 'n_estimators': 30, '...   \n",
       "2     K-Nearest Neighbors                         {'n_neighbors': 7, 'p': 1}   \n",
       "3           Decision Tree              {'criterion': 'gini', 'max_depth': 6}   \n",
       "4  Adaboost Decision Tree  {'criterion': 'gini', 'max_depth': 12, 'n_esti...   \n",
       "5             Naive Bayes                                                 {}   \n",
       "6     Logistic Regression                  {'solver': 'liblinear', 'C': 0.1}   \n",
       "7  Support Vector Machine             {'C': 10, 'kernel': 'rbf', 'gamma': 1}   \n",
       "\n",
       "   accuracy  cross_val_accuracy  \n",
       "0  0.805599            0.812139  \n",
       "1  0.804044            0.803191  \n",
       "2  0.811820            0.801247  \n",
       "3  0.788491            0.793463  \n",
       "4  0.799378            0.787240  \n",
       "5  0.771384            0.785297  \n",
       "6  0.738725            0.748348  \n",
       "7  0.804044            0.691949  "
      ]
     },
     "execution_count": 52,
     "metadata": {},
     "output_type": "execute_result"
    }
   ],
   "source": [
    "# Check the 5-fold cross validation result\n",
    "best_model_df.sort_values('cross_val_accuracy', ascending=False).reset_index(drop=True)"
   ]
  },
  {
   "cell_type": "markdown",
   "id": "4caf5849",
   "metadata": {},
   "source": [
    "The `adaboost random forest` has the highest cross validation score of 81.21%.\n",
    "\n",
    "**The selected final model is the adaboost random forest model.**"
   ]
  },
  {
   "cell_type": "markdown",
   "id": "29b4f592",
   "metadata": {},
   "source": [
    "### Evaluating the Performance of the Final Model with the Test Set"
   ]
  },
  {
   "cell_type": "code",
   "execution_count": 53,
   "id": "1dbd7ded",
   "metadata": {},
   "outputs": [
    {
     "name": "stdout",
     "output_type": "stream",
     "text": [
      "The accuracy of the adaboost random forest model on the test set: 81.65%\n"
     ]
    }
   ],
   "source": [
    "# Assign adaboost random forest model as the final model\n",
    "final_model = best_model_dict['Adaboost Random Forest']\n",
    "\n",
    "# Find the accuracy of the final model\n",
    "y_pred = final_model.predict(X_test)\n",
    "adaboost_rf_accuracy = accuracy_score(y_test, y_pred)\n",
    "print('The accuracy of the adaboost random forest model on the test set: ', end='')\n",
    "print(f'{adaboost_rf_accuracy:.2%}')"
   ]
  },
  {
   "cell_type": "markdown",
   "id": "54963e03",
   "metadata": {},
   "source": [
    "**The accuracy of the adaboost random forest model on the test set is 81.65% which meets the expectation of the phone carrier Megaline.**\n",
    "\n",
    "[Back to Contents](#back)"
   ]
  },
  {
   "cell_type": "markdown",
   "id": "a17bc07a",
   "metadata": {},
   "source": [
    "## 6. Sanity Check on the Final Model <a id='sanity_check'></a>"
   ]
  },
  {
   "cell_type": "markdown",
   "id": "9ff2b655",
   "metadata": {},
   "source": [
    "### 6.1 Learning Curve Analysis <a id='learning_curve'></a>"
   ]
  },
  {
   "cell_type": "code",
   "execution_count": 54,
   "id": "66822217",
   "metadata": {},
   "outputs": [
    {
     "name": "stdout",
     "output_type": "stream",
     "text": [
      "The accuracy of the adaboost random forest model on the training set: 81.65%\n",
      "The accuracy of the adaboost random forest model on the test set: 88.95%\n",
      "Difference of the scores:7.30%\n"
     ]
    }
   ],
   "source": [
    "# Find the difference between the accuracy scores on the training and test sets\n",
    "print('The accuracy of the adaboost random forest model on the training set: ', end='')\n",
    "print(f'{adaboost_rf_accuracy:.2%}')\n",
    "print('The accuracy of the adaboost random forest model on the test set: ', end='')\n",
    "print(f'{final_model.score(X_train, y_train):.2%}')\n",
    "print('Difference of the scores:', end='')\n",
    "print(f'{final_model.score(X_train, y_train) - adaboost_rf_accuracy:.2%}')"
   ]
  },
  {
   "cell_type": "markdown",
   "id": "e4cb22ff",
   "metadata": {},
   "source": [
    "The accuracy of the model on the traning set is 7.3% higher than than on the test sets, indicating a potential issue of overfitting. Lets check this issue by using different sizes of training sets and plot the learning curves of the model on the training and validation sets."
   ]
  },
  {
   "cell_type": "code",
   "execution_count": 55,
   "id": "eb3fc80e",
   "metadata": {},
   "outputs": [],
   "source": [
    "# Train and test the final model with different sizes of training sets\n",
    "train_sizes, train_accuracies, test_accuracies = learning_curve(\n",
    "    final_model, X_train_val, y_train_val,\n",
    "    cv=5, train_sizes=np.linspace(0.2, 1.0, 5),\n",
    "    scoring='accuracy', n_jobs=-1\n",
    ")\n",
    "\n",
    "# find the mean values to plot the learning curves\n",
    "train_accuracies_mean = np.mean(train_accuracies, axis=1)\n",
    "test_accuracies_mean = np.mean(test_accuracies, axis=1)"
   ]
  },
  {
   "cell_type": "code",
   "execution_count": 56,
   "id": "a1384c70",
   "metadata": {},
   "outputs": [
    {
     "data": {
      "image/png": "[encoded data removed]",
      "text/plain": [
       "<Figure size 600x400 with 1 Axes>"
      ]
     },
     "metadata": {},
     "output_type": "display_data"
    }
   ],
   "source": [
    "# Plot the learning curves\n",
    "sns.set_style('whitegrid')\n",
    "plt.figure(figsize=(6,4))\n",
    "\n",
    "plt.plot(train_sizes, train_accuracies_mean, marker='o', ls='-', \n",
    "         label='Accuracy on Training Set')\n",
    "plt.plot(train_sizes, test_accuracies_mean, marker='x', ls='--', \n",
    "         label='Accuracy on Validation Set')\n",
    "\n",
    "plt.title('Learning Curve (Adaboost Random Forest Model)', \n",
    "          fontsize=14, fontweight='bold', y=1.05)\n",
    "plt.xlabel('Size of Training Set', fontsize=12, fontweight='bold')\n",
    "plt.ylabel('Accuracy', fontsize=12, fontweight='bold')\n",
    "plt.legend()\n",
    "\n",
    "plt.show()"
   ]
  },
  {
   "cell_type": "markdown",
   "id": "9deb0df5",
   "metadata": {},
   "source": [
    "From the graph above, the gap between the two curves decreases with the increasing sizes of training set. By collecting more data of minority class, the training curve and the validation curve might converge and give a better model. Convergence of the training and validation curves is often a sign that the model is benefiting from a larger training set, and it is less likely to overfit the data.\n",
    "\n",
    "[Back to Contents](#back)"
   ]
  },
  {
   "cell_type": "markdown",
   "id": "c9ad12aa",
   "metadata": {},
   "source": [
    "### 6.2 Classification Report Analysis <a id='classification_report'></a>"
   ]
  },
  {
   "cell_type": "code",
   "execution_count": 57,
   "id": "32f02457",
   "metadata": {},
   "outputs": [
    {
     "name": "stdout",
     "output_type": "stream",
     "text": [
      "Confusion Matrix:\n"
     ]
    },
    {
     "data": {
      "text/html": [
       "<div>\n",
       "<style scoped>\n",
       "    .dataframe tbody tr th:only-of-type {\n",
       "        vertical-align: middle;\n",
       "    }\n",
       "\n",
       "    .dataframe tbody tr th {\n",
       "        vertical-align: top;\n",
       "    }\n",
       "\n",
       "    .dataframe thead th {\n",
       "        text-align: right;\n",
       "    }\n",
       "</style>\n",
       "<table border=\"1\" class=\"dataframe\">\n",
       "  <thead>\n",
       "    <tr style=\"text-align: right;\">\n",
       "      <th></th>\n",
       "      <th>0</th>\n",
       "      <th>1</th>\n",
       "    </tr>\n",
       "  </thead>\n",
       "  <tbody>\n",
       "    <tr>\n",
       "      <th>0</th>\n",
       "      <td>417</td>\n",
       "      <td>33</td>\n",
       "    </tr>\n",
       "    <tr>\n",
       "      <th>1</th>\n",
       "      <td>85</td>\n",
       "      <td>108</td>\n",
       "    </tr>\n",
       "  </tbody>\n",
       "</table>\n",
       "</div>"
      ],
      "text/plain": [
       "     0    1\n",
       "0  417   33\n",
       "1   85  108"
      ]
     },
     "metadata": {},
     "output_type": "display_data"
    },
    {
     "name": "stdout",
     "output_type": "stream",
     "text": [
      "------------------------------------------------------------\n",
      "Classification Report\n",
      "              precision    recall  f1-score   support\n",
      "\n",
      "           0       0.83      0.93      0.88       450\n",
      "           1       0.77      0.56      0.65       193\n",
      "\n",
      "    accuracy                           0.82       643\n",
      "   macro avg       0.80      0.74      0.76       643\n",
      "weighted avg       0.81      0.82      0.81       643\n",
      "\n"
     ]
    }
   ],
   "source": [
    "# Show the confusion matrix and the classification report\n",
    "print('Confusion Matrix:')\n",
    "display(pd.DataFrame(confusion_matrix(y_test, y_pred)))\n",
    "print('-'*60)\n",
    "print('Classification Report')\n",
    "print(classification_report(y_test, y_pred))"
   ]
  },
  {
   "cell_type": "markdown",
   "id": "1cb5daee",
   "metadata": {},
   "source": [
    "From the classification report, it can be seen that the model performs better at predicting the `0` class (`Smart` users), with a f1-score of 88%.\n",
    "\n",
    "The precision for the `0` class (`Smart` users) and the `1` class (`Ultra` users) are 83% and 77% respectively. This indicates most of the recommendations made by the model for both classes are correct.\n",
    "\n",
    "On the other hand, a high recall rate of 93% for the `0` group implies that the model can almost capture all the potentail `Smart` users. Nevertheless, a low recall rate of 56% for the `1` class (`Ultra` users) infers that the model cannot effectively identify the potential `Ultra` users.\n",
    "\n",
    "Since the target variable has an imbalanced classes of 70:30, this could be one of the reasons that the model is poor at predicting the `1` class. This can be verified by the slightly higher weighted avg scores than the macro avg scores. To improve the model, we can consider to use upsampling or downsampling to balance the classes.\n",
    "\n",
    "[Back to Contents](#back)"
   ]
  },
  {
   "cell_type": "markdown",
   "id": "a7d5396f",
   "metadata": {},
   "source": [
    "### 6.3 ROC Curve and AUC-ROC Score <a id='auc_roc'></a>\n",
    "\n",
    "The ROC curve is a plot of the true positive rate against the false positive rate at different thresholds. The AUC-ROC score meausres the ability of a model to distinguish between positive and negative classes. Let's evaluate the final model with the ROC curve and the AUC-ROC score. "
   ]
  },
  {
   "cell_type": "code",
   "execution_count": 58,
   "id": "9697abb8",
   "metadata": {},
   "outputs": [
    {
     "data": {
      "image/png": "[encoded data removed]",
      "text/plain": [
       "<Figure size 600x400 with 1 Axes>"
      ]
     },
     "metadata": {},
     "output_type": "display_data"
    }
   ],
   "source": [
    "# Find the probabilities for the model to classify a user as the `1` class\n",
    "y_scores = final_model.predict_proba(X_test)[:, 1]\n",
    "\n",
    "# Calculate the ROC curve\n",
    "fpr, tpr, thresholds = roc_curve(y_test, y_scores)\n",
    "\n",
    "# Calculate the AUC-ROC score\n",
    "roc_auc = roc_auc_score(y_test, y_scores)\n",
    "\n",
    "# Plot the ROC curve\n",
    "sns.set_style('whitegrid')\n",
    "plt.figure(figsize=(6,4))\n",
    "\n",
    "plt.plot(fpr, tpr, lw=2, label=f'ROC curve (AUC = {roc_auc:.2%})')\n",
    "plt.plot([0, 1], [0, 1], ls='--')\n",
    "\n",
    "plt.title('Receiver Operating Characteristic (ROC) Curve', fontsize=14, fontweight='bold')\n",
    "plt.xlabel('False Positive Rate', fontsize=12, fontweight='bold')\n",
    "plt.ylabel('True Positive Rate', fontsize=12, fontweight='bold')\n",
    "\n",
    "plt.xlim([0.0, 1.0])\n",
    "plt.ylim([0.0, 1.05])\n",
    "plt.legend(loc='upper left')\n",
    "\n",
    "plt.show()"
   ]
  },
  {
   "cell_type": "markdown",
   "id": "65fd888f",
   "metadata": {},
   "source": [
    "**A AUC-ROC score of 80.17% implies that the model can generally be considered as a good model.**\n",
    "\n",
    "\n",
    "**Possible Improvement on the Model**\n",
    "\n",
    "1. Use more data to train the model so that the learning curves can converge better.\n",
    "2. Use upsampling, downpling or other methods to balance the class.\n",
    "3. Adjusting the classification threshold by analysing the ROC curve and the need of the Megaline company.\n",
    "\n",
    "[Back to Contents](#back)"
   ]
  },
  {
   "cell_type": "markdown",
   "id": "41c1e3ad",
   "metadata": {},
   "source": [
    "## 7.0 General Conclusion <a id='general_conclusion'></a>\n",
    "\n",
    "**Data Exploration**\n",
    "\n",
    "In this stage, the dataset has been verified to be in a good condition as stated by the Megaline company to develop a binary classification model to to recommend one of the two newer phone plans, Smart and Ultra.\n",
    "\n",
    "**Exploratory Data Analysis**\n",
    "\n",
    "The distributions of features data are not perfectly normal, especially there are quite a large portion of outliers in `message` data. Some of the machine learning algorithms require feature scaling before the model is trained. Since the distributions of the data are close to normal, standardisation will be applied to the features to preserve the distributions. \n",
    "\n",
    "**Development and Fine Tuning of Different Models**\n",
    "\n",
    "\n",
    "The dataset has been split into a ratio of 60:20:20 for training:validation:test.A total of eight machine learning models have been developed, namely `decision tree`, `random forest`, `logistic regression`, `naive bayes`, `k-nearest neighbors(KNN)`, `support vector machine` and two `adaptive boosting models` with decision tree and random forest as base estimators h\n",
    "\n",
    "**Selecting the Final Model**\n",
    "\n",
    "After conducting a 5-fold cross validation, **the `adaboost random forest` has the highest cross validation score of 81.21%** and is selected as the final model. **The accuracy of the adaboost random forest model on the test set is 81.65%** which meets the expectation of the phone carrier Megaline.\n",
    "\n",
    "**Sanity Check on the Final Model**\n",
    "\n",
    "By conducting the learning curve analysis, it is found that the model can perform better with more data input.From the classification report, it can be concluded that the model is better at identifying and predicting the `0` class (`Smart` user). **A ROC-AUC score of 80.17% indicating that the model is considered as a good model.**\n",
    "\n",
    "**Possible Improvement on the Model**\n",
    "\n",
    "1. Use more data to train the model for the learning curves to be converged.\n",
    "2. Use upsampling, downpling or other methods to balance the class.\n",
    "3. Adjusting the classification threshold by analysing the ROC curve and the need of the Megaline company.\n",
    "\n",
    "[Back to Contents](#back)"
   ]
  }
 ],
 "metadata": {
  "kernelspec": {
   "display_name": "Python 3 (ipykernel)",
   "language": "python",
   "name": "python3"
  },
  "language_info": {
   "codemirror_mode": {
    "name": "ipython",
    "version": 3
   },
   "file_extension": ".py",
   "mimetype": "text/x-python",
   "name": "python",
   "nbconvert_exporter": "python",
   "pygments_lexer": "ipython3",
   "version": "3.11.5"
  }
 },
 "nbformat": 4,
 "nbformat_minor": 5
}
