{
 "cells": [
  {
   "cell_type": "markdown",
   "id": "ccf5a6e3",
   "metadata": {},
   "source": [
    "# Customer Insurance Benefits Evaluation and Data Obfuscation: Applications of Machine Learning and Linear Algebra"
   ]
  },
  {
   "cell_type": "markdown",
   "id": "d4117027",
   "metadata": {},
   "source": [
    "# Contents <a id='back'></a>\n",
    "* [1. Introduction](#intro)\n",
    "* [2. Data Exploration and Preprocessing](#data_exploration)\n",
    "* [3. Exploratory Data Analysis (EDA)](#eda)\n",
    "* [4. Solving the Tasks Given by the Sure Tomorrow Company](#tasks)\n",
    "    * [4.1 Similar Customers](#similar_customers)\n",
    "    * [4.2 Is Customer Likely to Receive Insurance Benefit?](#insurance_benefit1)\n",
    "    * [4.3 Regression (with Linear Regression)](#regression)\n",
    "    * [4.4 Obfuscating Data](#data_obfuscation)\n",
    "* [5. Proving That Data Obfuscation Can Work with Linear Regression](#data_obfuscation_lr)\n",
    "* [6. Test Linear Regression With Data Obfuscation](#data_obfuscation_test)\n",
    "* [7. General Conclusion](#general_conclusion)"
   ]
  },
  {
   "cell_type": "markdown",
   "id": "dffa0f24",
   "metadata": {},
   "source": [
    "## 1. Introduction <a id='intro'></a>\n",
    "\n",
    "The Sure Tomorrow insurance company wants to solve several tasks related to the customer insurance benefits. This project aims to solve the given tasks with machine learning models and secure the privacy of customer data."
   ]
  },
  {
   "cell_type": "markdown",
   "id": "00a7584c",
   "metadata": {},
   "source": [
    "### Purpose\n",
    "To solve the following tasks given by the Sure Tomorrow insurance company:\n",
    "\n",
    "- Task 1: Find customers who are similar to a given customer. This will help the company's agents with marketing.\n",
    "- Task 2: Predict whether a new customer is likely to receive an insurance benefit. Can a prediction model do better than a dummy model?\n",
    "- Task 3: Predict the number of insurance benefits a new customer is likely to receive using a linear regression model.\n",
    "- Task 4: Protect clients' personal data without breaking the model from the previous task. It's necessary to develop a data transformation algorithm that would make it hard to recover personal information if the data fell into the wrong hands. This is called data masking, or data obfuscation. But the data should be protected in such a way that the quality of machine learning models doesn't suffer. You don't need to pick the best model, just prove that the algorithm works correctly."
   ]
  },
  {
   "cell_type": "code",
   "execution_count": 1,
   "id": "41d04c38",
   "metadata": {},
   "outputs": [],
   "source": [
    "# Data preprocessing and manipulation\n",
    "import pandas as pd\n",
    "import numpy as np\n",
    "from sklearn.model_selection import train_test_split\n",
    "from sklearn.preprocessing import MaxAbsScaler\n",
    "from sklearn.utils import shuffle\n",
    "\n",
    "# Data visualisation\n",
    "import matplotlib.pyplot as plt\n",
    "import seaborn as sns\n",
    "\n",
    "# Model buildling and evaluation\n",
    "from sklearn.linear_model import LinearRegression\n",
    "from sklearn.metrics import f1_score, confusion_matrix\n",
    "from sklearn.metrics import mean_squared_error, r2_score\n",
    "\n",
    "# Suppress warning messages\n",
    "import warnings\n",
    "warnings.filterwarnings('ignore')"
   ]
  },
  {
   "cell_type": "markdown",
   "id": "45dcc516",
   "metadata": {},
   "source": [
    "[Back to Contents](#back)"
   ]
  },
  {
   "cell_type": "markdown",
   "id": "159d7cd5",
   "metadata": {},
   "source": [
    "## 2. Data Exploration and Preprocessing <a id='data_exploration'></a>\n",
    "\n",
    "Load the dataset provided by the Sure Tomorrow Insurance company and check for any obvious issus."
   ]
  },
  {
   "cell_type": "code",
   "execution_count": 2,
   "id": "1c4f6d13",
   "metadata": {},
   "outputs": [],
   "source": [
    "# Load the dataset\n",
    "try:\n",
    "    data = pd.read_csv('insurance_us.csv')\n",
    "except:\n",
    "    data = pd.read_csv('/datasets/insurance_us.csv')"
   ]
  },
  {
   "cell_type": "code",
   "execution_count": 3,
   "id": "95b70812",
   "metadata": {},
   "outputs": [
    {
     "data": {
      "text/html": [
       "<div>\n",
       "<style scoped>\n",
       "    .dataframe tbody tr th:only-of-type {\n",
       "        vertical-align: middle;\n",
       "    }\n",
       "\n",
       "    .dataframe tbody tr th {\n",
       "        vertical-align: top;\n",
       "    }\n",
       "\n",
       "    .dataframe thead th {\n",
       "        text-align: right;\n",
       "    }\n",
       "</style>\n",
       "<table border=\"1\" class=\"dataframe\">\n",
       "  <thead>\n",
       "    <tr style=\"text-align: right;\">\n",
       "      <th></th>\n",
       "      <th>Gender</th>\n",
       "      <th>Age</th>\n",
       "      <th>Salary</th>\n",
       "      <th>Family members</th>\n",
       "      <th>Insurance benefits</th>\n",
       "    </tr>\n",
       "  </thead>\n",
       "  <tbody>\n",
       "    <tr>\n",
       "      <th>0</th>\n",
       "      <td>1</td>\n",
       "      <td>41.0</td>\n",
       "      <td>49600.0</td>\n",
       "      <td>1</td>\n",
       "      <td>0</td>\n",
       "    </tr>\n",
       "    <tr>\n",
       "      <th>1</th>\n",
       "      <td>0</td>\n",
       "      <td>46.0</td>\n",
       "      <td>38000.0</td>\n",
       "      <td>1</td>\n",
       "      <td>1</td>\n",
       "    </tr>\n",
       "    <tr>\n",
       "      <th>2</th>\n",
       "      <td>0</td>\n",
       "      <td>29.0</td>\n",
       "      <td>21000.0</td>\n",
       "      <td>0</td>\n",
       "      <td>0</td>\n",
       "    </tr>\n",
       "    <tr>\n",
       "      <th>3</th>\n",
       "      <td>0</td>\n",
       "      <td>21.0</td>\n",
       "      <td>41700.0</td>\n",
       "      <td>2</td>\n",
       "      <td>0</td>\n",
       "    </tr>\n",
       "    <tr>\n",
       "      <th>4</th>\n",
       "      <td>1</td>\n",
       "      <td>28.0</td>\n",
       "      <td>26100.0</td>\n",
       "      <td>0</td>\n",
       "      <td>0</td>\n",
       "    </tr>\n",
       "    <tr>\n",
       "      <th>...</th>\n",
       "      <td>...</td>\n",
       "      <td>...</td>\n",
       "      <td>...</td>\n",
       "      <td>...</td>\n",
       "      <td>...</td>\n",
       "    </tr>\n",
       "    <tr>\n",
       "      <th>4995</th>\n",
       "      <td>0</td>\n",
       "      <td>28.0</td>\n",
       "      <td>35700.0</td>\n",
       "      <td>2</td>\n",
       "      <td>0</td>\n",
       "    </tr>\n",
       "    <tr>\n",
       "      <th>4996</th>\n",
       "      <td>0</td>\n",
       "      <td>34.0</td>\n",
       "      <td>52400.0</td>\n",
       "      <td>1</td>\n",
       "      <td>0</td>\n",
       "    </tr>\n",
       "    <tr>\n",
       "      <th>4997</th>\n",
       "      <td>0</td>\n",
       "      <td>20.0</td>\n",
       "      <td>33900.0</td>\n",
       "      <td>2</td>\n",
       "      <td>0</td>\n",
       "    </tr>\n",
       "    <tr>\n",
       "      <th>4998</th>\n",
       "      <td>1</td>\n",
       "      <td>22.0</td>\n",
       "      <td>32700.0</td>\n",
       "      <td>3</td>\n",
       "      <td>0</td>\n",
       "    </tr>\n",
       "    <tr>\n",
       "      <th>4999</th>\n",
       "      <td>1</td>\n",
       "      <td>28.0</td>\n",
       "      <td>40600.0</td>\n",
       "      <td>1</td>\n",
       "      <td>0</td>\n",
       "    </tr>\n",
       "  </tbody>\n",
       "</table>\n",
       "<p>5000 rows × 5 columns</p>\n",
       "</div>"
      ],
      "text/plain": [
       "      Gender   Age   Salary  Family members  Insurance benefits\n",
       "0          1  41.0  49600.0               1                   0\n",
       "1          0  46.0  38000.0               1                   1\n",
       "2          0  29.0  21000.0               0                   0\n",
       "3          0  21.0  41700.0               2                   0\n",
       "4          1  28.0  26100.0               0                   0\n",
       "...      ...   ...      ...             ...                 ...\n",
       "4995       0  28.0  35700.0               2                   0\n",
       "4996       0  34.0  52400.0               1                   0\n",
       "4997       0  20.0  33900.0               2                   0\n",
       "4998       1  22.0  32700.0               3                   0\n",
       "4999       1  28.0  40600.0               1                   0\n",
       "\n",
       "[5000 rows x 5 columns]"
      ]
     },
     "execution_count": 3,
     "metadata": {},
     "output_type": "execute_result"
    }
   ],
   "source": [
    "# Have a look at the dataset\n",
    "data"
   ]
  },
  {
   "cell_type": "markdown",
   "id": "411f3298",
   "metadata": {},
   "source": [
    "The dataset has 5000 rows (customers) and 5 columns of information related to each customer.\n",
    "\n",
    "**Description of data**\n",
    "\n",
    "*Features*\n",
    "\n",
    "- Gender -  insured person's gender\n",
    "- Age -  insured person's age\n",
    "- Salary -  insured person's yearly income\n",
    "- Family members -  number of insured person's famliy members\n",
    "\n",
    "*Target*\n",
    "- Insurance benefits - number of insurance benefits received by an insured person over the last five years\n",
    "\n",
    "\n",
    "The columns will be renamed in the snake case style."
   ]
  },
  {
   "cell_type": "code",
   "execution_count": 4,
   "id": "6bd7cc9f",
   "metadata": {},
   "outputs": [],
   "source": [
    "# Rename the columns\n",
    "data = data.rename(columns={\n",
    "    'Gender': 'gender', \n",
    "    'Age': 'age', \n",
    "    'Salary': 'income', \n",
    "    'Family members': 'family_members', \n",
    "    'Insurance benefits': 'insurance_benefits'    \n",
    "})"
   ]
  },
  {
   "cell_type": "code",
   "execution_count": 5,
   "id": "a054107d",
   "metadata": {},
   "outputs": [
    {
     "name": "stdout",
     "output_type": "stream",
     "text": [
      "<class 'pandas.core.frame.DataFrame'>\n",
      "RangeIndex: 5000 entries, 0 to 4999\n",
      "Data columns (total 5 columns):\n",
      " #   Column              Non-Null Count  Dtype  \n",
      "---  ------              --------------  -----  \n",
      " 0   gender              5000 non-null   int64  \n",
      " 1   age                 5000 non-null   float64\n",
      " 2   income              5000 non-null   float64\n",
      " 3   family_members      5000 non-null   int64  \n",
      " 4   insurance_benefits  5000 non-null   int64  \n",
      "dtypes: float64(2), int64(3)\n",
      "memory usage: 195.4 KB\n"
     ]
    }
   ],
   "source": [
    "# Check the data types and missing value\n",
    "data.info()"
   ]
  },
  {
   "cell_type": "markdown",
   "id": "c20dc54f",
   "metadata": {},
   "source": [
    "There is no missing value. The data types are all correct except that the `age` should have `int64` as the data type."
   ]
  },
  {
   "cell_type": "code",
   "execution_count": 6,
   "id": "a18a6b0d",
   "metadata": {},
   "outputs": [
    {
     "data": {
      "text/plain": [
       "gender                  int64\n",
       "age                     int64\n",
       "income                float64\n",
       "family_members          int64\n",
       "insurance_benefits      int64\n",
       "dtype: object"
      ]
     },
     "execution_count": 6,
     "metadata": {},
     "output_type": "execute_result"
    }
   ],
   "source": [
    "# Convert the data type of age to int64\n",
    "data['age'] = data['age'].astype('int64')\n",
    "\n",
    "# Check if the data type has been converted\n",
    "data.dtypes"
   ]
  },
  {
   "cell_type": "markdown",
   "id": "19e851a4",
   "metadata": {},
   "source": [
    "All the data types are correct now. Let's check if there is any duplicate."
   ]
  },
  {
   "cell_type": "code",
   "execution_count": 7,
   "id": "9af702b8",
   "metadata": {},
   "outputs": [
    {
     "data": {
      "text/plain": [
       "153"
      ]
     },
     "execution_count": 7,
     "metadata": {},
     "output_type": "execute_result"
    }
   ],
   "source": [
    "# Check for duplicates\n",
    "data.duplicated().sum()"
   ]
  },
  {
   "cell_type": "code",
   "execution_count": 8,
   "id": "f258292e",
   "metadata": {},
   "outputs": [
    {
     "data": {
      "text/html": [
       "<div>\n",
       "<style scoped>\n",
       "    .dataframe tbody tr th:only-of-type {\n",
       "        vertical-align: middle;\n",
       "    }\n",
       "\n",
       "    .dataframe tbody tr th {\n",
       "        vertical-align: top;\n",
       "    }\n",
       "\n",
       "    .dataframe thead th {\n",
       "        text-align: right;\n",
       "    }\n",
       "</style>\n",
       "<table border=\"1\" class=\"dataframe\">\n",
       "  <thead>\n",
       "    <tr style=\"text-align: right;\">\n",
       "      <th></th>\n",
       "      <th>gender</th>\n",
       "      <th>age</th>\n",
       "      <th>income</th>\n",
       "      <th>family_members</th>\n",
       "      <th>insurance_benefits</th>\n",
       "    </tr>\n",
       "  </thead>\n",
       "  <tbody>\n",
       "    <tr>\n",
       "      <th>281</th>\n",
       "      <td>1</td>\n",
       "      <td>39</td>\n",
       "      <td>48100.0</td>\n",
       "      <td>1</td>\n",
       "      <td>0</td>\n",
       "    </tr>\n",
       "    <tr>\n",
       "      <th>488</th>\n",
       "      <td>1</td>\n",
       "      <td>24</td>\n",
       "      <td>32900.0</td>\n",
       "      <td>1</td>\n",
       "      <td>0</td>\n",
       "    </tr>\n",
       "    <tr>\n",
       "      <th>513</th>\n",
       "      <td>0</td>\n",
       "      <td>31</td>\n",
       "      <td>37400.0</td>\n",
       "      <td>2</td>\n",
       "      <td>0</td>\n",
       "    </tr>\n",
       "    <tr>\n",
       "      <th>718</th>\n",
       "      <td>1</td>\n",
       "      <td>22</td>\n",
       "      <td>32600.0</td>\n",
       "      <td>1</td>\n",
       "      <td>0</td>\n",
       "    </tr>\n",
       "    <tr>\n",
       "      <th>785</th>\n",
       "      <td>0</td>\n",
       "      <td>20</td>\n",
       "      <td>35800.0</td>\n",
       "      <td>0</td>\n",
       "      <td>0</td>\n",
       "    </tr>\n",
       "  </tbody>\n",
       "</table>\n",
       "</div>"
      ],
      "text/plain": [
       "     gender  age   income  family_members  insurance_benefits\n",
       "281       1   39  48100.0               1                   0\n",
       "488       1   24  32900.0               1                   0\n",
       "513       0   31  37400.0               2                   0\n",
       "718       1   22  32600.0               1                   0\n",
       "785       0   20  35800.0               0                   0"
      ]
     },
     "execution_count": 8,
     "metadata": {},
     "output_type": "execute_result"
    }
   ],
   "source": [
    "# have a look at the duplicated rows\n",
    "data[data.duplicated()].head()"
   ]
  },
  {
   "cell_type": "markdown",
   "id": "8af1d9ba",
   "metadata": {},
   "source": [
    "It is unlikely to have 153 duplicated rows since the total combinations of `age` and `income` are huge. Therefore, we can consider to drop these duplicated rows."
   ]
  },
  {
   "cell_type": "code",
   "execution_count": 9,
   "id": "1f220a54",
   "metadata": {},
   "outputs": [
    {
     "name": "stdout",
     "output_type": "stream",
     "text": [
      "Total number of rows: 5000\n",
      "Number of duplicated rows: 153\n",
      "Percentage of duplicated rows 3.06%\n",
      "\n",
      "Remaining number of rows if duplicated rows are dropped 4847\n"
     ]
    }
   ],
   "source": [
    "# Find out the number and percentage of duplicated rows\n",
    "print('Total number of rows:', data.shape[0])\n",
    "print('Number of duplicated rows:', data.duplicated().sum())\n",
    "print(f'Percentage of duplicated rows {data.duplicated().mean():.2%}')\n",
    "\n",
    "print()\n",
    "print('Remaining number of rows if duplicated rows are dropped ', end='')\n",
    "print(data.shape[0] - data.duplicated().sum())"
   ]
  },
  {
   "cell_type": "markdown",
   "id": "d37b2143",
   "metadata": {},
   "source": [
    "The percentage of duplicated rows is 3.06% and we can safely drop these rows as the remaining 4847 samples are enough to conduct the analysis tasks."
   ]
  },
  {
   "cell_type": "code",
   "execution_count": 10,
   "id": "7f5c3546",
   "metadata": {},
   "outputs": [
    {
     "data": {
      "text/plain": [
       "4847"
      ]
     },
     "execution_count": 10,
     "metadata": {},
     "output_type": "execute_result"
    }
   ],
   "source": [
    "# Drop duplicates\n",
    "data = data.drop_duplicates().reset_index(drop=True)\n",
    "\n",
    "# Check if the duplicates have been dropped\n",
    "data.shape[0]"
   ]
  },
  {
   "cell_type": "code",
   "execution_count": 11,
   "id": "7ae3cd5d",
   "metadata": {},
   "outputs": [
    {
     "data": {
      "text/html": [
       "<div>\n",
       "<style scoped>\n",
       "    .dataframe tbody tr th:only-of-type {\n",
       "        vertical-align: middle;\n",
       "    }\n",
       "\n",
       "    .dataframe tbody tr th {\n",
       "        vertical-align: top;\n",
       "    }\n",
       "\n",
       "    .dataframe thead th {\n",
       "        text-align: right;\n",
       "    }\n",
       "</style>\n",
       "<table border=\"1\" class=\"dataframe\">\n",
       "  <thead>\n",
       "    <tr style=\"text-align: right;\">\n",
       "      <th></th>\n",
       "      <th>gender</th>\n",
       "      <th>age</th>\n",
       "      <th>income</th>\n",
       "      <th>family_members</th>\n",
       "      <th>insurance_benefits</th>\n",
       "    </tr>\n",
       "  </thead>\n",
       "  <tbody>\n",
       "    <tr>\n",
       "      <th>count</th>\n",
       "      <td>4847.000000</td>\n",
       "      <td>4847.000000</td>\n",
       "      <td>4847.000000</td>\n",
       "      <td>4847.000000</td>\n",
       "      <td>4847.000000</td>\n",
       "    </tr>\n",
       "    <tr>\n",
       "      <th>mean</th>\n",
       "      <td>0.498453</td>\n",
       "      <td>31.023932</td>\n",
       "      <td>39895.811842</td>\n",
       "      <td>1.203425</td>\n",
       "      <td>0.152259</td>\n",
       "    </tr>\n",
       "    <tr>\n",
       "      <th>std</th>\n",
       "      <td>0.500049</td>\n",
       "      <td>8.487995</td>\n",
       "      <td>9972.953985</td>\n",
       "      <td>1.098664</td>\n",
       "      <td>0.468934</td>\n",
       "    </tr>\n",
       "    <tr>\n",
       "      <th>min</th>\n",
       "      <td>0.000000</td>\n",
       "      <td>18.000000</td>\n",
       "      <td>5300.000000</td>\n",
       "      <td>0.000000</td>\n",
       "      <td>0.000000</td>\n",
       "    </tr>\n",
       "    <tr>\n",
       "      <th>25%</th>\n",
       "      <td>0.000000</td>\n",
       "      <td>24.000000</td>\n",
       "      <td>33200.000000</td>\n",
       "      <td>0.000000</td>\n",
       "      <td>0.000000</td>\n",
       "    </tr>\n",
       "    <tr>\n",
       "      <th>50%</th>\n",
       "      <td>0.000000</td>\n",
       "      <td>30.000000</td>\n",
       "      <td>40200.000000</td>\n",
       "      <td>1.000000</td>\n",
       "      <td>0.000000</td>\n",
       "    </tr>\n",
       "    <tr>\n",
       "      <th>75%</th>\n",
       "      <td>1.000000</td>\n",
       "      <td>37.000000</td>\n",
       "      <td>46600.000000</td>\n",
       "      <td>2.000000</td>\n",
       "      <td>0.000000</td>\n",
       "    </tr>\n",
       "    <tr>\n",
       "      <th>max</th>\n",
       "      <td>1.000000</td>\n",
       "      <td>65.000000</td>\n",
       "      <td>79000.000000</td>\n",
       "      <td>6.000000</td>\n",
       "      <td>5.000000</td>\n",
       "    </tr>\n",
       "  </tbody>\n",
       "</table>\n",
       "</div>"
      ],
      "text/plain": [
       "            gender          age        income  family_members  \\\n",
       "count  4847.000000  4847.000000   4847.000000     4847.000000   \n",
       "mean      0.498453    31.023932  39895.811842        1.203425   \n",
       "std       0.500049     8.487995   9972.953985        1.098664   \n",
       "min       0.000000    18.000000   5300.000000        0.000000   \n",
       "25%       0.000000    24.000000  33200.000000        0.000000   \n",
       "50%       0.000000    30.000000  40200.000000        1.000000   \n",
       "75%       1.000000    37.000000  46600.000000        2.000000   \n",
       "max       1.000000    65.000000  79000.000000        6.000000   \n",
       "\n",
       "       insurance_benefits  \n",
       "count         4847.000000  \n",
       "mean             0.152259  \n",
       "std              0.468934  \n",
       "min              0.000000  \n",
       "25%              0.000000  \n",
       "50%              0.000000  \n",
       "75%              0.000000  \n",
       "max              5.000000  "
      ]
     },
     "execution_count": 11,
     "metadata": {},
     "output_type": "execute_result"
    }
   ],
   "source": [
    "# Have a look at the descriptive statistics\n",
    "data.describe()"
   ]
  },
  {
   "cell_type": "markdown",
   "id": "3e5f0b85",
   "metadata": {},
   "source": [
    "No obvious anomaly or outlier.\n",
    "\n",
    "[Back to Contents](#back)"
   ]
  },
  {
   "cell_type": "markdown",
   "id": "8893b1b9",
   "metadata": {},
   "source": [
    "## 3. Exploratory Data Analysis (EDA) <a id='eda'></a>\n",
    "\n",
    "One of the tasks is to Find customers who are similar to a given customer. Let's have a quick check on the scatter plots between the variables to detect if there are certain groups (clusters) of customers."
   ]
  },
  {
   "cell_type": "code",
   "execution_count": 12,
   "id": "d37b3a34",
   "metadata": {},
   "outputs": [
    {
     "data": {
      "image/png": "[encoded data removed]",
      "text/plain": [
       "<Figure size 500x300 with 1 Axes>"
      ]
     },
     "metadata": {},
     "output_type": "display_data"
    }
   ],
   "source": [
    "# Check the distributions of the target\n",
    "plt.figure(figsize=(5,3))\n",
    "sns.countplot(data, x='insurance_benefits', color='steelblue')\n",
    "\n",
    "plt.title('Distribution of Insurance Benefits (Target)', fontsize=14, fontweight='bold')\n",
    "plt.xlabel('Number of Insurance Benefits', fontweight='bold')\n",
    "plt.ylabel('Number of Customers', fontweight='bold')\n",
    "\n",
    "plt.show()"
   ]
  },
  {
   "cell_type": "code",
   "execution_count": 13,
   "id": "67b67822",
   "metadata": {},
   "outputs": [
    {
     "data": {
      "text/plain": [
       "insurance_benefits\n",
       "0    0.883846\n",
       "1    0.087270\n",
       "2    0.023520\n",
       "3    0.003714\n",
       "4    0.001444\n",
       "5    0.000206\n",
       "Name: proportion, dtype: float64"
      ]
     },
     "execution_count": 13,
     "metadata": {},
     "output_type": "execute_result"
    }
   ],
   "source": [
    "# Check the percentage of different groups in target\n",
    "data['insurance_benefits'].value_counts(normalize=True)"
   ]
  },
  {
   "cell_type": "markdown",
   "id": "99c96830",
   "metadata": {},
   "source": [
    "There are 88.38% of customers did not received any insurance benefit before. The imbalanced targets could be an issue if we deploy a classification model to solve the given tasks."
   ]
  },
  {
   "cell_type": "code",
   "execution_count": 14,
   "id": "3161818e",
   "metadata": {},
   "outputs": [
    {
     "data": {
      "text/plain": [
       "<Figure size 1200x1200 with 0 Axes>"
      ]
     },
     "metadata": {},
     "output_type": "display_data"
    },
    {
     "data": {
      "image/png": "[encoded data removed]",
      "text/plain": [
       "<Figure size 1250x1250 with 30 Axes>"
      ]
     },
     "metadata": {},
     "output_type": "display_data"
    }
   ],
   "source": [
    "# Plot the histograms and scatter plots of the variables.\n",
    "plt.figure(figsize=(12,12))\n",
    "sns.pairplot(data)\n",
    "\n",
    "plt.show()"
   ]
  },
  {
   "cell_type": "markdown",
   "id": "504f27e4",
   "metadata": {},
   "source": [
    "It is quite difficult to spot obvious clustesr by observing these scatter plots. Machine learning algorithms will be deployed to solve the tasks.\n",
    "\n",
    "[Back to Contents](#back)"
   ]
  },
  {
   "cell_type": "markdown",
   "id": "648f59ca",
   "metadata": {},
   "source": [
    "## 4. Solving the Tasks Given by the Sure Tomorrow Company <a id='tasks'></a>"
   ]
  },
  {
   "cell_type": "markdown",
   "id": "cd9a2931",
   "metadata": {},
   "source": [
    "---"
   ]
  },
  {
   "cell_type": "markdown",
   "id": "bb43b10d",
   "metadata": {},
   "source": [
    "The following classes and functions will be used in this section."
   ]
  },
  {
   "cell_type": "code",
   "execution_count": 15,
   "id": "7a7ad096",
   "metadata": {},
   "outputs": [],
   "source": [
    "class MyKNNClassifier():\n",
    "    def __init__(self, k=5, metric='Euclidean'):\n",
    "        self.k = k\n",
    "        self.metric = metric        \n",
    "        \n",
    "    def fit(self, X_train, y_train):\n",
    "        self.X_train = X_train\n",
    "        self.y_train = y_train\n",
    "    \n",
    "    def predict(self, X_test):\n",
    "        predictions = []\n",
    "        for x in X_test.values:\n",
    "            if self.metric == 'Manhattan':\n",
    "                distances = np.abs(x - self.X_train.values).sum(axis=1)\n",
    "            elif self.metric == 'Euclidean':\n",
    "                distances = np.linalg.norm(x - self.X_train.values, axis=1)\n",
    "               \n",
    "            knn_indices = distances.argsort()[:self.k]\n",
    "            knn_classes = self.y_train.iloc[knn_indices]            \n",
    "            pred = knn_classes.mode()[0]\n",
    "            \n",
    "            predictions.append(pred)\n",
    "        \n",
    "        return np.array(predictions)"
   ]
  },
  {
   "cell_type": "code",
   "execution_count": 16,
   "id": "bae328b3",
   "metadata": {},
   "outputs": [],
   "source": [
    "class MyLinearRegression:\n",
    "    def __init__(self):\n",
    "        self.weights = None\n",
    "        \n",
    "    def fit(self, X_train, y_train):\n",
    "        # Adding the unities for bias\n",
    "        X2 = np.append(np.ones([len(X_train), 1]), X_train, axis=1)\n",
    "        self.weights = np.linalg.inv(X2.T @ X2) @ X2.T @ y_train\n",
    "    \n",
    "    def predict(self, X_test):\n",
    "        # Adding the unities for bias\n",
    "        X3 = np.append(np.ones([len(X_test), 1]), X_test, axis=1)\n",
    "        y_pred = X3 @ self.weights\n",
    "        \n",
    "        return y_pred"
   ]
  },
  {
   "cell_type": "code",
   "execution_count": 17,
   "id": "1c8602d8",
   "metadata": {},
   "outputs": [],
   "source": [
    "def get_knn(data, target_index, k, metric):\n",
    "    '''\n",
    "    Returns k nearest neighbors\n",
    "\n",
    "    :param data: pandas DataFrame used to find similar objects within\n",
    "    :param target_index: object index for which the nearest neighbours are looked for\n",
    "    :param k: the number of the nearest neighbours to return\n",
    "    :param metric: name of distance metric\n",
    "    '''\n",
    "    feature_names = ['gender', 'age', 'income', 'family_members']\n",
    "    target_vector = data[feature_names].iloc[target_index].values\n",
    "    eval_matrix = data[feature_names].values\n",
    "      \n",
    "    if metric == 'Manhattan':\n",
    "        distances = np.abs(target_vector - eval_matrix).sum(axis=1)\n",
    "    elif metric == 'Euclidean':\n",
    "        distances = np.linalg.norm(target_vector - eval_matrix, axis=1)\n",
    "    \n",
    "    knn_indices = distances.argsort()[:k + 1]\n",
    "        \n",
    "    knn_original_df = data.iloc[knn_indices]\n",
    "    knn_distance_df = pd.DataFrame(\n",
    "        distances[knn_indices], index=knn_indices, columns=[metric + '_distance']\n",
    "    )\n",
    "    knn_df = pd.concat([knn_original_df, knn_distance_df], axis=1)\n",
    "    \n",
    "    return knn_df"
   ]
  },
  {
   "cell_type": "code",
   "execution_count": 18,
   "id": "5ec0277e",
   "metadata": {},
   "outputs": [],
   "source": [
    "def eval_classifier(y_true, y_pred):\n",
    "    '''\n",
    "    Evaluate a classifier based on the f1 metric\n",
    "    Print the confusion matrix\n",
    "    Return the f1 score\n",
    "    '''\n",
    "    f1 = f1_score(y_true, y_pred)\n",
    "    print(f'F1: {f1:.2f}')    \n",
    "\n",
    "    cm = confusion_matrix(y_true, y_pred, normalize='all')\n",
    "    print('Confusion Matrix')\n",
    "    print(cm)\n",
    "    \n",
    "    return f1"
   ]
  },
  {
   "cell_type": "code",
   "execution_count": 19,
   "id": "1d6e6a90",
   "metadata": {},
   "outputs": [],
   "source": [
    "# Create a function to generate output of a random model\n",
    "def rnd_model_predict(P, size, seed=42):\n",
    "    '''\n",
    "    Return random output for a binary classifier\n",
    "    '''\n",
    "    rng = np.random.default_rng(seed=seed)\n",
    "    return rng.binomial(n=1, p=P, size=size)"
   ]
  },
  {
   "cell_type": "code",
   "execution_count": 20,
   "id": "c6097072",
   "metadata": {},
   "outputs": [],
   "source": [
    "def eval_regressor(y_true, y_pred):\n",
    "    '''\n",
    "    Evaluate a regressor based on RMSE and r squared metrics\n",
    "    Print the RMSE score\n",
    "    Print the r squared score\n",
    "    '''\n",
    "    rmse = np.sqrt(mean_squared_error(y_true, y_pred))\n",
    "    print(f'RMSE: {rmse:.2f}')\n",
    "    \n",
    "    r2 = r2_score(y_true, y_pred)\n",
    "    print(f'R2: {r2:.2f}')"
   ]
  },
  {
   "cell_type": "markdown",
   "id": "c528fa09",
   "metadata": {},
   "source": [
    "[Back to Contents](#back)"
   ]
  },
  {
   "cell_type": "markdown",
   "id": "6621646d",
   "metadata": {},
   "source": [
    "---"
   ]
  },
  {
   "cell_type": "markdown",
   "id": "eae52271",
   "metadata": {},
   "source": [
    "### 4.1 Similar Customers <a id='similar_customers'></a>\n",
    "\n",
    "To find the similar customers who are similar to a given customer, we can evaluate the similarity of characteristics (features) between customers. In the language of machine learning, this can be done by calculating the distance between the objects (customers) based on the values of a set of features. The smaller the distance, the greater the degree of similarity.\n",
    "\n",
    "In this project, we will use the `manhattan distance` and `euclidean distance` to calculate the similarity and find the k nearest neighbor (KNN). Since the KNN algorithm is distance-based, the values of features should be scaled to the same range so that the algorithm will treat these features in the same order of importance. \n",
    "\n",
    "The result will be incorrect if the features are not scaled, we can have a check by finding the distances in the following four combination of two cases:\n",
    "\n",
    "- Scaling\n",
    "  - features are not scaled\n",
    "  - features are scaled with the `MaxAbsScaler`\n",
    "- Distance Metrics\n",
    "  - `Euclidean`\n",
    "  - `Manhattan`\n",
    "  \n",
    "The `insurance_benefits` will not be used to calculate the distances."
   ]
  },
  {
   "cell_type": "code",
   "execution_count": 21,
   "id": "0c426e54",
   "metadata": {},
   "outputs": [
    {
     "data": {
      "text/html": [
       "<div>\n",
       "<style scoped>\n",
       "    .dataframe tbody tr th:only-of-type {\n",
       "        vertical-align: middle;\n",
       "    }\n",
       "\n",
       "    .dataframe tbody tr th {\n",
       "        vertical-align: top;\n",
       "    }\n",
       "\n",
       "    .dataframe thead th {\n",
       "        text-align: right;\n",
       "    }\n",
       "</style>\n",
       "<table border=\"1\" class=\"dataframe\">\n",
       "  <thead>\n",
       "    <tr style=\"text-align: right;\">\n",
       "      <th></th>\n",
       "      <th>gender</th>\n",
       "      <th>age</th>\n",
       "      <th>income</th>\n",
       "      <th>family_members</th>\n",
       "      <th>insurance_benefits</th>\n",
       "    </tr>\n",
       "  </thead>\n",
       "  <tbody>\n",
       "    <tr>\n",
       "      <th>3974</th>\n",
       "      <td>0.0</td>\n",
       "      <td>0.323077</td>\n",
       "      <td>0.546835</td>\n",
       "      <td>0.500000</td>\n",
       "      <td>0.0</td>\n",
       "    </tr>\n",
       "    <tr>\n",
       "      <th>3601</th>\n",
       "      <td>1.0</td>\n",
       "      <td>0.630769</td>\n",
       "      <td>0.443038</td>\n",
       "      <td>0.166667</td>\n",
       "      <td>0.0</td>\n",
       "    </tr>\n",
       "    <tr>\n",
       "      <th>1927</th>\n",
       "      <td>1.0</td>\n",
       "      <td>0.492308</td>\n",
       "      <td>0.465823</td>\n",
       "      <td>0.166667</td>\n",
       "      <td>0.0</td>\n",
       "    </tr>\n",
       "    <tr>\n",
       "      <th>1786</th>\n",
       "      <td>1.0</td>\n",
       "      <td>0.338462</td>\n",
       "      <td>0.727848</td>\n",
       "      <td>0.000000</td>\n",
       "      <td>0.0</td>\n",
       "    </tr>\n",
       "    <tr>\n",
       "      <th>3568</th>\n",
       "      <td>1.0</td>\n",
       "      <td>0.492308</td>\n",
       "      <td>0.463291</td>\n",
       "      <td>0.166667</td>\n",
       "      <td>0.0</td>\n",
       "    </tr>\n",
       "  </tbody>\n",
       "</table>\n",
       "</div>"
      ],
      "text/plain": [
       "      gender       age    income  family_members  insurance_benefits\n",
       "3974     0.0  0.323077  0.546835        0.500000                 0.0\n",
       "3601     1.0  0.630769  0.443038        0.166667                 0.0\n",
       "1927     1.0  0.492308  0.465823        0.166667                 0.0\n",
       "1786     1.0  0.338462  0.727848        0.000000                 0.0\n",
       "3568     1.0  0.492308  0.463291        0.166667                 0.0"
      ]
     },
     "execution_count": 21,
     "metadata": {},
     "output_type": "execute_result"
    }
   ],
   "source": [
    "# Scaling data\n",
    "mas = MaxAbsScaler()\n",
    "data_scaled = pd.DataFrame(mas.fit_transform(data), columns=data.columns)\n",
    "\n",
    "# Have a look at the scaled data\n",
    "data_scaled.sample(5)"
   ]
  },
  {
   "cell_type": "markdown",
   "id": "3cd894a4",
   "metadata": {},
   "source": [
    "Now, the range of all the features is [0, 1], let's get similar records for a given one for every combination"
   ]
  },
  {
   "cell_type": "code",
   "execution_count": 22,
   "id": "9dfc2e47",
   "metadata": {
    "scrolled": false
   },
   "outputs": [
    {
     "name": "stdout",
     "output_type": "stream",
     "text": [
      "\u001b[1m Original Data\n"
     ]
    },
    {
     "data": {
      "text/html": [
       "<div>\n",
       "<style scoped>\n",
       "    .dataframe tbody tr th:only-of-type {\n",
       "        vertical-align: middle;\n",
       "    }\n",
       "\n",
       "    .dataframe tbody tr th {\n",
       "        vertical-align: top;\n",
       "    }\n",
       "\n",
       "    .dataframe thead th {\n",
       "        text-align: right;\n",
       "    }\n",
       "</style>\n",
       "<table border=\"1\" class=\"dataframe\">\n",
       "  <thead>\n",
       "    <tr style=\"text-align: right;\">\n",
       "      <th></th>\n",
       "      <th>gender</th>\n",
       "      <th>age</th>\n",
       "      <th>income</th>\n",
       "      <th>family_members</th>\n",
       "      <th>insurance_benefits</th>\n",
       "      <th>Euclidean_distance</th>\n",
       "    </tr>\n",
       "  </thead>\n",
       "  <tbody>\n",
       "    <tr>\n",
       "      <th>3</th>\n",
       "      <td>0</td>\n",
       "      <td>21</td>\n",
       "      <td>41700.0</td>\n",
       "      <td>2</td>\n",
       "      <td>0</td>\n",
       "      <td>0.000000</td>\n",
       "    </tr>\n",
       "    <tr>\n",
       "      <th>2071</th>\n",
       "      <td>0</td>\n",
       "      <td>23</td>\n",
       "      <td>41700.0</td>\n",
       "      <td>0</td>\n",
       "      <td>0</td>\n",
       "      <td>2.828427</td>\n",
       "    </tr>\n",
       "    <tr>\n",
       "      <th>415</th>\n",
       "      <td>0</td>\n",
       "      <td>25</td>\n",
       "      <td>41700.0</td>\n",
       "      <td>2</td>\n",
       "      <td>0</td>\n",
       "      <td>4.000000</td>\n",
       "    </tr>\n",
       "    <tr>\n",
       "      <th>4723</th>\n",
       "      <td>1</td>\n",
       "      <td>26</td>\n",
       "      <td>41700.0</td>\n",
       "      <td>2</td>\n",
       "      <td>0</td>\n",
       "      <td>5.099020</td>\n",
       "    </tr>\n",
       "    <tr>\n",
       "      <th>4144</th>\n",
       "      <td>0</td>\n",
       "      <td>26</td>\n",
       "      <td>41700.0</td>\n",
       "      <td>0</td>\n",
       "      <td>0</td>\n",
       "      <td>5.385165</td>\n",
       "    </tr>\n",
       "  </tbody>\n",
       "</table>\n",
       "</div>"
      ],
      "text/plain": [
       "      gender  age   income  family_members  insurance_benefits  \\\n",
       "3          0   21  41700.0               2                   0   \n",
       "2071       0   23  41700.0               0                   0   \n",
       "415        0   25  41700.0               2                   0   \n",
       "4723       1   26  41700.0               2                   0   \n",
       "4144       0   26  41700.0               0                   0   \n",
       "\n",
       "      Euclidean_distance  \n",
       "3               0.000000  \n",
       "2071            2.828427  \n",
       "415             4.000000  \n",
       "4723            5.099020  \n",
       "4144            5.385165  "
      ]
     },
     "metadata": {},
     "output_type": "display_data"
    },
    {
     "data": {
      "text/html": [
       "<div>\n",
       "<style scoped>\n",
       "    .dataframe tbody tr th:only-of-type {\n",
       "        vertical-align: middle;\n",
       "    }\n",
       "\n",
       "    .dataframe tbody tr th {\n",
       "        vertical-align: top;\n",
       "    }\n",
       "\n",
       "    .dataframe thead th {\n",
       "        text-align: right;\n",
       "    }\n",
       "</style>\n",
       "<table border=\"1\" class=\"dataframe\">\n",
       "  <thead>\n",
       "    <tr style=\"text-align: right;\">\n",
       "      <th></th>\n",
       "      <th>gender</th>\n",
       "      <th>age</th>\n",
       "      <th>income</th>\n",
       "      <th>family_members</th>\n",
       "      <th>insurance_benefits</th>\n",
       "      <th>Manhattan_distance</th>\n",
       "    </tr>\n",
       "  </thead>\n",
       "  <tbody>\n",
       "    <tr>\n",
       "      <th>3</th>\n",
       "      <td>0</td>\n",
       "      <td>21</td>\n",
       "      <td>41700.0</td>\n",
       "      <td>2</td>\n",
       "      <td>0</td>\n",
       "      <td>0.0</td>\n",
       "    </tr>\n",
       "    <tr>\n",
       "      <th>415</th>\n",
       "      <td>0</td>\n",
       "      <td>25</td>\n",
       "      <td>41700.0</td>\n",
       "      <td>2</td>\n",
       "      <td>0</td>\n",
       "      <td>4.0</td>\n",
       "    </tr>\n",
       "    <tr>\n",
       "      <th>2071</th>\n",
       "      <td>0</td>\n",
       "      <td>23</td>\n",
       "      <td>41700.0</td>\n",
       "      <td>0</td>\n",
       "      <td>0</td>\n",
       "      <td>4.0</td>\n",
       "    </tr>\n",
       "    <tr>\n",
       "      <th>4723</th>\n",
       "      <td>1</td>\n",
       "      <td>26</td>\n",
       "      <td>41700.0</td>\n",
       "      <td>2</td>\n",
       "      <td>0</td>\n",
       "      <td>6.0</td>\n",
       "    </tr>\n",
       "    <tr>\n",
       "      <th>4144</th>\n",
       "      <td>0</td>\n",
       "      <td>26</td>\n",
       "      <td>41700.0</td>\n",
       "      <td>0</td>\n",
       "      <td>0</td>\n",
       "      <td>7.0</td>\n",
       "    </tr>\n",
       "  </tbody>\n",
       "</table>\n",
       "</div>"
      ],
      "text/plain": [
       "      gender  age   income  family_members  insurance_benefits  \\\n",
       "3          0   21  41700.0               2                   0   \n",
       "415        0   25  41700.0               2                   0   \n",
       "2071       0   23  41700.0               0                   0   \n",
       "4723       1   26  41700.0               2                   0   \n",
       "4144       0   26  41700.0               0                   0   \n",
       "\n",
       "      Manhattan_distance  \n",
       "3                    0.0  \n",
       "415                  4.0  \n",
       "2071                 4.0  \n",
       "4723                 6.0  \n",
       "4144                 7.0  "
      ]
     },
     "metadata": {},
     "output_type": "display_data"
    }
   ],
   "source": [
    "# Case 1 and 2: Original data, Euclidean and Manhattan distances\n",
    "print('\\033[1m', 'Original Data')\n",
    "display(get_knn(data=data, target_index=3, k=4, metric='Euclidean'))\n",
    "display(get_knn(data=data, target_index=3, k=4, metric='Manhattan'))"
   ]
  },
  {
   "cell_type": "markdown",
   "id": "a308a000",
   "metadata": {},
   "source": [
    "**Intermediate Conclusion**\n",
    "\n",
    "When the data is not scaled, the feature with a larger scale of values will have a higher impact on the KNN algorithm result if the calculation metric is the `Euclidean distance`. \n",
    "\n",
    "For example, both the customer `2071` and the customer `415` have the same similarity score of 4 to the customer `3` under the `Manhattan distance` metric . However, if the metric is switched to the `Euclidean distance`, the customer `2071` is more similar to the customer `3`. The difference lies in the `age` and the `family_members` columns, the customer `2071` with a smaller difference in `age` has a smaller `Euclidean distance`, even though the difference in `family members` is higher."
   ]
  },
  {
   "cell_type": "code",
   "execution_count": 23,
   "id": "87e68105",
   "metadata": {
    "scrolled": false
   },
   "outputs": [
    {
     "name": "stdout",
     "output_type": "stream",
     "text": [
      "\u001b[1m Scaled Data\n"
     ]
    },
    {
     "data": {
      "text/html": [
       "<div>\n",
       "<style scoped>\n",
       "    .dataframe tbody tr th:only-of-type {\n",
       "        vertical-align: middle;\n",
       "    }\n",
       "\n",
       "    .dataframe tbody tr th {\n",
       "        vertical-align: top;\n",
       "    }\n",
       "\n",
       "    .dataframe thead th {\n",
       "        text-align: right;\n",
       "    }\n",
       "</style>\n",
       "<table border=\"1\" class=\"dataframe\">\n",
       "  <thead>\n",
       "    <tr style=\"text-align: right;\">\n",
       "      <th></th>\n",
       "      <th>gender</th>\n",
       "      <th>age</th>\n",
       "      <th>income</th>\n",
       "      <th>family_members</th>\n",
       "      <th>insurance_benefits</th>\n",
       "      <th>Euclidean_distance</th>\n",
       "    </tr>\n",
       "  </thead>\n",
       "  <tbody>\n",
       "    <tr>\n",
       "      <th>3</th>\n",
       "      <td>0.0</td>\n",
       "      <td>0.323077</td>\n",
       "      <td>0.527848</td>\n",
       "      <td>0.333333</td>\n",
       "      <td>0.0</td>\n",
       "      <td>0.000000</td>\n",
       "    </tr>\n",
       "    <tr>\n",
       "      <th>29</th>\n",
       "      <td>0.0</td>\n",
       "      <td>0.323077</td>\n",
       "      <td>0.534177</td>\n",
       "      <td>0.333333</td>\n",
       "      <td>0.0</td>\n",
       "      <td>0.006329</td>\n",
       "    </tr>\n",
       "    <tr>\n",
       "      <th>1594</th>\n",
       "      <td>0.0</td>\n",
       "      <td>0.323077</td>\n",
       "      <td>0.518987</td>\n",
       "      <td>0.333333</td>\n",
       "      <td>0.0</td>\n",
       "      <td>0.008861</td>\n",
       "    </tr>\n",
       "    <tr>\n",
       "      <th>3808</th>\n",
       "      <td>0.0</td>\n",
       "      <td>0.307692</td>\n",
       "      <td>0.525316</td>\n",
       "      <td>0.333333</td>\n",
       "      <td>0.0</td>\n",
       "      <td>0.015592</td>\n",
       "    </tr>\n",
       "    <tr>\n",
       "      <th>3326</th>\n",
       "      <td>0.0</td>\n",
       "      <td>0.307692</td>\n",
       "      <td>0.530380</td>\n",
       "      <td>0.333333</td>\n",
       "      <td>0.0</td>\n",
       "      <td>0.015592</td>\n",
       "    </tr>\n",
       "  </tbody>\n",
       "</table>\n",
       "</div>"
      ],
      "text/plain": [
       "      gender       age    income  family_members  insurance_benefits  \\\n",
       "3        0.0  0.323077  0.527848        0.333333                 0.0   \n",
       "29       0.0  0.323077  0.534177        0.333333                 0.0   \n",
       "1594     0.0  0.323077  0.518987        0.333333                 0.0   \n",
       "3808     0.0  0.307692  0.525316        0.333333                 0.0   \n",
       "3326     0.0  0.307692  0.530380        0.333333                 0.0   \n",
       "\n",
       "      Euclidean_distance  \n",
       "3               0.000000  \n",
       "29              0.006329  \n",
       "1594            0.008861  \n",
       "3808            0.015592  \n",
       "3326            0.015592  "
      ]
     },
     "metadata": {},
     "output_type": "display_data"
    },
    {
     "data": {
      "text/html": [
       "<div>\n",
       "<style scoped>\n",
       "    .dataframe tbody tr th:only-of-type {\n",
       "        vertical-align: middle;\n",
       "    }\n",
       "\n",
       "    .dataframe tbody tr th {\n",
       "        vertical-align: top;\n",
       "    }\n",
       "\n",
       "    .dataframe thead th {\n",
       "        text-align: right;\n",
       "    }\n",
       "</style>\n",
       "<table border=\"1\" class=\"dataframe\">\n",
       "  <thead>\n",
       "    <tr style=\"text-align: right;\">\n",
       "      <th></th>\n",
       "      <th>gender</th>\n",
       "      <th>age</th>\n",
       "      <th>income</th>\n",
       "      <th>family_members</th>\n",
       "      <th>insurance_benefits</th>\n",
       "      <th>Manhattan_distance</th>\n",
       "    </tr>\n",
       "  </thead>\n",
       "  <tbody>\n",
       "    <tr>\n",
       "      <th>3</th>\n",
       "      <td>0.0</td>\n",
       "      <td>0.323077</td>\n",
       "      <td>0.527848</td>\n",
       "      <td>0.333333</td>\n",
       "      <td>0.0</td>\n",
       "      <td>0.000000</td>\n",
       "    </tr>\n",
       "    <tr>\n",
       "      <th>29</th>\n",
       "      <td>0.0</td>\n",
       "      <td>0.323077</td>\n",
       "      <td>0.534177</td>\n",
       "      <td>0.333333</td>\n",
       "      <td>0.0</td>\n",
       "      <td>0.006329</td>\n",
       "    </tr>\n",
       "    <tr>\n",
       "      <th>1594</th>\n",
       "      <td>0.0</td>\n",
       "      <td>0.323077</td>\n",
       "      <td>0.518987</td>\n",
       "      <td>0.333333</td>\n",
       "      <td>0.0</td>\n",
       "      <td>0.008861</td>\n",
       "    </tr>\n",
       "    <tr>\n",
       "      <th>3808</th>\n",
       "      <td>0.0</td>\n",
       "      <td>0.307692</td>\n",
       "      <td>0.525316</td>\n",
       "      <td>0.333333</td>\n",
       "      <td>0.0</td>\n",
       "      <td>0.017916</td>\n",
       "    </tr>\n",
       "    <tr>\n",
       "      <th>3326</th>\n",
       "      <td>0.0</td>\n",
       "      <td>0.307692</td>\n",
       "      <td>0.530380</td>\n",
       "      <td>0.333333</td>\n",
       "      <td>0.0</td>\n",
       "      <td>0.017916</td>\n",
       "    </tr>\n",
       "  </tbody>\n",
       "</table>\n",
       "</div>"
      ],
      "text/plain": [
       "      gender       age    income  family_members  insurance_benefits  \\\n",
       "3        0.0  0.323077  0.527848        0.333333                 0.0   \n",
       "29       0.0  0.323077  0.534177        0.333333                 0.0   \n",
       "1594     0.0  0.323077  0.518987        0.333333                 0.0   \n",
       "3808     0.0  0.307692  0.525316        0.333333                 0.0   \n",
       "3326     0.0  0.307692  0.530380        0.333333                 0.0   \n",
       "\n",
       "      Manhattan_distance  \n",
       "3               0.000000  \n",
       "29              0.006329  \n",
       "1594            0.008861  \n",
       "3808            0.017916  \n",
       "3326            0.017916  "
      ]
     },
     "metadata": {},
     "output_type": "display_data"
    }
   ],
   "source": [
    "# Case 3 and 4: Scaled Data, Euclidean and Manhattan distances\n",
    "print('\\033[1m', 'Scaled Data')\n",
    "display(get_knn(data=data_scaled, target_index = 3, k=4, metric = 'Euclidean'))\n",
    "display(get_knn(data=data_scaled, target_index = 3, k=4, metric = 'Manhattan'))"
   ]
  },
  {
   "cell_type": "markdown",
   "id": "28463fb5",
   "metadata": {},
   "source": [
    "**Intermediate Conclusion**\n",
    "\n",
    "In the scaled data, all the features are of same order of importance to the algorithm. Thus, the results for both the metrics are totally different from those without scaling.\n",
    "\n",
    "By taking the `Manhattan distance` metric as an example, if the data is not scaled, the four most similar customers to the customer `3` have the same `income`. This indicates that the larger scale of the `income` values have more impact on the KNN algorithm. After scaling the data, all the features have the same scale and contribute to the distance (similarity) equally.\n",
    "\n",
    "**Conclusion**\n",
    "\n",
    "Without knowing which feature is more important, the data should be scaled accordingly so that the distance-based algorithm KNN takes these features in the same order of importance. \n",
    "\n",
    "[Back to Contents](#back)"
   ]
  },
  {
   "cell_type": "markdown",
   "id": "806052ce",
   "metadata": {},
   "source": [
    "### 4.2 Is Customer Likely to Receive Insurance Benefit? <a id='insurance_benefit1'></a>\n",
    "\n",
    "To solve this task, we can deploy the KNN algorithm to classify the customers.\n",
    "\n",
    "First of all, an additional (target) column will be added to identify if a customer has received insurance benefit(s) before. A dummy model and a KNN-based classifier will be build for the original and the scaled data. The model performance will be measured by the F1 metric. "
   ]
  },
  {
   "cell_type": "code",
   "execution_count": 24,
   "id": "cb909f57",
   "metadata": {},
   "outputs": [],
   "source": [
    "# Calculate the target\n",
    "data['insurance_benefits_received'] = (data['insurance_benefits'] > 0).astype('int64')"
   ]
  },
  {
   "cell_type": "markdown",
   "id": "7974fdf1",
   "metadata": {},
   "source": [
    "In the EDA stage, we have seen that there is a potential issue of imbalanced targets, let's have a check."
   ]
  },
  {
   "cell_type": "code",
   "execution_count": 25,
   "id": "0d66ab89",
   "metadata": {},
   "outputs": [
    {
     "data": {
      "text/plain": [
       "insurance_benefits_received\n",
       "0    0.883846\n",
       "1    0.116154\n",
       "Name: proportion, dtype: float64"
      ]
     },
     "execution_count": 25,
     "metadata": {},
     "output_type": "execute_result"
    }
   ],
   "source": [
    "# Check for the class imbalance\n",
    "data['insurance_benefits_received'].value_counts(normalize=True)"
   ]
  },
  {
   "cell_type": "markdown",
   "id": "5f738a55",
   "metadata": {},
   "source": [
    "The classes are highly imbalanced. This could pose a challenge for the KNN algorithm to classify them correctly since the algorithm has a higher chance to classify them `0`, which is the majority class. We can upsampling the minority class before training the model."
   ]
  },
  {
   "cell_type": "code",
   "execution_count": 26,
   "id": "bac306c9",
   "metadata": {},
   "outputs": [],
   "source": [
    "# Get the features and target\n",
    "feature_names = ['gender', 'age', 'income', 'family_members']\n",
    "X = data[feature_names]\n",
    "y = data['insurance_benefits_received']"
   ]
  },
  {
   "cell_type": "code",
   "execution_count": 27,
   "id": "6b53dbe6",
   "metadata": {},
   "outputs": [],
   "source": [
    "# Split the dataset into a ratio of 70:30 for training set and test set\n",
    "X_train, X_test, y_train, y_test = train_test_split(X, y, test_size=0.3, random_state=12345)"
   ]
  },
  {
   "cell_type": "markdown",
   "id": "8471c85d",
   "metadata": {},
   "source": [
    "To benchmark the KNN classifiers, four dummy models will be built. Each of them should return \"1\" with a specific probability. Let's test the model with four probability values: 0, the probability of paying any insurance benefit, 0.5, 1.\n",
    "\n",
    "The probability of paying any insurance benefit can be defined as\n",
    "\n",
    "$$\n",
    "P\\{\\text{insurance benefit received}\\}=\\frac{\\text{number of clients received any insurance benefit}}{\\text{total number of clients}}.\n",
    "$$"
   ]
  },
  {
   "cell_type": "code",
   "execution_count": 28,
   "id": "b0a3e9fe",
   "metadata": {},
   "outputs": [
    {
     "name": "stdout",
     "output_type": "stream",
     "text": [
      "\u001b[1m The probability: 0.00 \u001b[0m\n",
      "F1: 0.00\n",
      "Confusion Matrix\n",
      "[[0.88453608 0.        ]\n",
      " [0.11546392 0.        ]]\n",
      "\n",
      "\u001b[1m The probability: 0.12 \u001b[0m\n",
      "F1: 0.16\n",
      "Confusion Matrix\n",
      "[[0.78350515 0.10103093]\n",
      " [0.09690722 0.0185567 ]]\n",
      "\n",
      "\u001b[1m The probability: 0.50 \u001b[0m\n",
      "F1: 0.22\n",
      "Confusion Matrix\n",
      "[[0.45498282 0.42955326]\n",
      " [0.04948454 0.06597938]]\n",
      "\n",
      "\u001b[1m The probability: 1.00 \u001b[0m\n",
      "F1: 0.21\n",
      "Confusion Matrix\n",
      "[[0.         0.88453608]\n",
      " [0.         0.11546392]]\n",
      "\n"
     ]
    }
   ],
   "source": [
    "for P in [0, y_test.sum() / len(y_test), 0.5, 1]:\n",
    "    print('\\033[1m', f'The probability: {P:.2f}', '\\033[0m')\n",
    "    \n",
    "    # Generate random predictions based on the probability\n",
    "    y_pred_rnd = rnd_model_predict(P=P, size=len(y_test))\n",
    "    \n",
    "    # Evaluate the model\n",
    "    eval_classifier(y_test, y_pred_rnd)\n",
    "    print()"
   ]
  },
  {
   "cell_type": "markdown",
   "id": "2a61d64b",
   "metadata": {},
   "source": [
    "The performance of the dummy models are not great, the `f1_score` are 0%, 16% 22% and 21% for the four probabilites.\n",
    "\n",
    "**Original Data**\n",
    "\n",
    "Next, we will upsample the training set and build a KNN-based classifier and measure its quality with the F1 metric for the original data. The model will be tested with k=1,2,...,10 and `Euclidean distance`."
   ]
  },
  {
   "cell_type": "code",
   "execution_count": 29,
   "id": "fd37815a",
   "metadata": {},
   "outputs": [
    {
     "data": {
      "text/html": [
       "<div>\n",
       "<style scoped>\n",
       "    .dataframe tbody tr th:only-of-type {\n",
       "        vertical-align: middle;\n",
       "    }\n",
       "\n",
       "    .dataframe tbody tr th {\n",
       "        vertical-align: top;\n",
       "    }\n",
       "\n",
       "    .dataframe thead th {\n",
       "        text-align: right;\n",
       "    }\n",
       "</style>\n",
       "<table border=\"1\" class=\"dataframe\">\n",
       "  <thead>\n",
       "    <tr style=\"text-align: right;\">\n",
       "      <th></th>\n",
       "      <th>gender</th>\n",
       "      <th>age</th>\n",
       "      <th>income</th>\n",
       "      <th>family_members</th>\n",
       "    </tr>\n",
       "  </thead>\n",
       "  <tbody>\n",
       "    <tr>\n",
       "      <th>3883</th>\n",
       "      <td>1</td>\n",
       "      <td>50</td>\n",
       "      <td>41100.0</td>\n",
       "      <td>1</td>\n",
       "    </tr>\n",
       "    <tr>\n",
       "      <th>3341</th>\n",
       "      <td>1</td>\n",
       "      <td>47</td>\n",
       "      <td>54200.0</td>\n",
       "      <td>3</td>\n",
       "    </tr>\n",
       "    <tr>\n",
       "      <th>3485</th>\n",
       "      <td>1</td>\n",
       "      <td>36</td>\n",
       "      <td>55900.0</td>\n",
       "      <td>0</td>\n",
       "    </tr>\n",
       "    <tr>\n",
       "      <th>631</th>\n",
       "      <td>1</td>\n",
       "      <td>29</td>\n",
       "      <td>50500.0</td>\n",
       "      <td>1</td>\n",
       "    </tr>\n",
       "    <tr>\n",
       "      <th>3691</th>\n",
       "      <td>0</td>\n",
       "      <td>33</td>\n",
       "      <td>60200.0</td>\n",
       "      <td>0</td>\n",
       "    </tr>\n",
       "  </tbody>\n",
       "</table>\n",
       "</div>"
      ],
      "text/plain": [
       "      gender  age   income  family_members\n",
       "3883       1   50  41100.0               1\n",
       "3341       1   47  54200.0               3\n",
       "3485       1   36  55900.0               0\n",
       "631        1   29  50500.0               1\n",
       "3691       0   33  60200.0               0"
      ]
     },
     "metadata": {},
     "output_type": "display_data"
    },
    {
     "data": {
      "text/plain": [
       "3883    1\n",
       "3341    1\n",
       "3485    0\n",
       "631     0\n",
       "3691    0\n",
       "Name: insurance_benefits_received, dtype: int64"
      ]
     },
     "metadata": {},
     "output_type": "display_data"
    }
   ],
   "source": [
    "# Get the features and target of the majority class\n",
    "X_major = X_train[y == 0]\n",
    "y_major = y_train[y == 0]\n",
    "\n",
    "# Upsampling the minority class\n",
    "upsize = X_major.shape[0]\n",
    "X_minor = X_train[y == 1].sample(n=upsize, replace=True, random_state=12345)\n",
    "y_minor = y_train[y == 1].sample(n=upsize, replace=True, random_state=12345)\n",
    "\n",
    "# Merge and shuffle\n",
    "X_up = pd.concat([X_major, X_minor])\n",
    "y_up = pd.concat([y_major, y_minor])\n",
    "X_up, y_up = shuffle(X_up, y_up, random_state=12345)\n",
    "\n",
    "# Have a check at the X_up and y_up\n",
    "display(X_up.head())\n",
    "display(y_up.head())"
   ]
  },
  {
   "cell_type": "code",
   "execution_count": 30,
   "id": "731e77ef",
   "metadata": {},
   "outputs": [
    {
     "name": "stdout",
     "output_type": "stream",
     "text": [
      "\u001b[1m\n",
      "Original Data\n",
      "\u001b[1m k = 1 \u001b[0m\n",
      "F1: 0.68\n",
      "Confusion Matrix\n",
      "[[0.86254296 0.02199313]\n",
      " [0.04536082 0.07010309]]\n",
      "\n",
      "\u001b[1m k = 2 \u001b[0m\n",
      "F1: 0.68\n",
      "Confusion Matrix\n",
      "[[0.86254296 0.02199313]\n",
      " [0.04536082 0.07010309]]\n",
      "\n",
      "\u001b[1m k = 3 \u001b[0m\n",
      "F1: 0.62\n",
      "Confusion Matrix\n",
      "[[0.83505155 0.04948454]\n",
      " [0.04054983 0.07491409]]\n",
      "\n",
      "\u001b[1m k = 4 \u001b[0m\n",
      "F1: 0.62\n",
      "Confusion Matrix\n",
      "[[0.83642612 0.04810997]\n",
      " [0.04123711 0.0742268 ]]\n",
      "\n",
      "\u001b[1m k = 5 \u001b[0m\n",
      "F1: 0.57\n",
      "Confusion Matrix\n",
      "[[0.80206186 0.08247423]\n",
      " [0.03573883 0.07972509]]\n",
      "\n",
      "\u001b[1m k = 6 \u001b[0m\n",
      "F1: 0.57\n",
      "Confusion Matrix\n",
      "[[0.80412371 0.08041237]\n",
      " [0.0371134  0.07835052]]\n",
      "\n",
      "\u001b[1m k = 7 \u001b[0m\n",
      "F1: 0.54\n",
      "Confusion Matrix\n",
      "[[0.77044674 0.11408935]\n",
      " [0.03161512 0.0838488 ]]\n",
      "\n",
      "\u001b[1m k = 8 \u001b[0m\n",
      "F1: 0.52\n",
      "Confusion Matrix\n",
      "[[0.78006873 0.10446735]\n",
      " [0.03848797 0.07697595]]\n",
      "\n",
      "\u001b[1m k = 9 \u001b[0m\n",
      "F1: 0.48\n",
      "Confusion Matrix\n",
      "[[0.7443299  0.14020619]\n",
      " [0.03505155 0.08041237]]\n",
      "\n",
      "\u001b[1m k = 10 \u001b[0m\n",
      "F1: 0.47\n",
      "Confusion Matrix\n",
      "[[0.76013746 0.12439863]\n",
      " [0.04123711 0.0742268 ]]\n",
      "\n"
     ]
    }
   ],
   "source": [
    "# Test the model with different values of k for original data\n",
    "original_result = []\n",
    "\n",
    "print('\\033[1m')\n",
    "print('Original Data')\n",
    "\n",
    "for k in range(1, 11):\n",
    "    print('\\033[1m', f'k = {k}', '\\033[0m')    \n",
    "    \n",
    "    # Train and evaluate the model    \n",
    "    knn = MyKNNClassifier(k=k, metric='Euclidean')\n",
    "    knn.fit(X_up, y_up)\n",
    "    \n",
    "    y_pred = knn.predict(X_test)    \n",
    "    score = eval_classifier(y_test, y_pred)\n",
    "    \n",
    "    # Store the f1 score\n",
    "    original_result.append(score)\n",
    "    print()"
   ]
  },
  {
   "cell_type": "markdown",
   "id": "4c435da3",
   "metadata": {},
   "source": [
    "For the original data, all the KNN classifiers perform better than the dummy models. The KNN classifier with the lowest value of k (k=1) has the highest f1 score of 68%. the performance of the classifier gradually goes down with increasing value of k. This is most likely because the classifier considers `income`, the largest scale feature, way more important than the other features."
   ]
  },
  {
   "cell_type": "markdown",
   "id": "93dccc45",
   "metadata": {},
   "source": [
    "**Scaled Data**\n",
    "\n",
    "Theoretically, the KNN classifier will perform better if the data is scaled, let's have a check."
   ]
  },
  {
   "cell_type": "code",
   "execution_count": 31,
   "id": "c39b6c6b",
   "metadata": {},
   "outputs": [],
   "source": [
    "# Scale the training data\n",
    "mas = MaxAbsScaler()\n",
    "X_up_scaled = pd.DataFrame(mas.fit_transform(X_up), columns=X_up.columns)\n",
    "X_test_scaled = pd.DataFrame(mas.transform(X_test), columns=X_test.columns)"
   ]
  },
  {
   "cell_type": "code",
   "execution_count": 32,
   "id": "55e7d795",
   "metadata": {},
   "outputs": [
    {
     "name": "stdout",
     "output_type": "stream",
     "text": [
      "\u001b[1m\n",
      "Scaled Data\n",
      "\u001b[1m k = 1 \u001b[0m\n",
      "F1: 0.92\n",
      "Confusion Matrix\n",
      "[[0.87972509 0.004811  ]\n",
      " [0.01237113 0.10309278]]\n",
      "\n",
      "\u001b[1m k = 2 \u001b[0m\n",
      "F1: 0.92\n",
      "Confusion Matrix\n",
      "[[0.87972509 0.004811  ]\n",
      " [0.01237113 0.10309278]]\n",
      "\n",
      "\u001b[1m k = 3 \u001b[0m\n",
      "F1: 0.94\n",
      "Confusion Matrix\n",
      "[[0.8742268  0.01030928]\n",
      " [0.004811   0.11065292]]\n",
      "\n",
      "\u001b[1m k = 4 \u001b[0m\n",
      "F1: 0.94\n",
      "Confusion Matrix\n",
      "[[0.8742268  0.01030928]\n",
      " [0.004811   0.11065292]]\n",
      "\n",
      "\u001b[1m k = 5 \u001b[0m\n",
      "F1: 0.91\n",
      "Confusion Matrix\n",
      "[[0.8652921  0.01924399]\n",
      " [0.00412371 0.11134021]]\n",
      "\n",
      "\u001b[1m k = 6 \u001b[0m\n",
      "F1: 0.91\n",
      "Confusion Matrix\n",
      "[[0.8652921  0.01924399]\n",
      " [0.00412371 0.11134021]]\n",
      "\n",
      "\u001b[1m k = 7 \u001b[0m\n",
      "F1: 0.89\n",
      "Confusion Matrix\n",
      "[[0.8604811  0.02405498]\n",
      " [0.00274914 0.11271478]]\n",
      "\n",
      "\u001b[1m k = 8 \u001b[0m\n",
      "F1: 0.89\n",
      "Confusion Matrix\n",
      "[[0.86254296 0.02199313]\n",
      " [0.004811   0.11065292]]\n",
      "\n",
      "\u001b[1m k = 9 \u001b[0m\n",
      "F1: 0.88\n",
      "Confusion Matrix\n",
      "[[0.85429553 0.03024055]\n",
      " [0.00206186 0.11340206]]\n",
      "\n",
      "\u001b[1m k = 10 \u001b[0m\n",
      "F1: 0.88\n",
      "Confusion Matrix\n",
      "[[0.85704467 0.02749141]\n",
      " [0.00274914 0.11271478]]\n",
      "\n"
     ]
    }
   ],
   "source": [
    "# Test the model with different values of k for scaling data\n",
    "scaled_result = []\n",
    "\n",
    "print('\\033[1m')\n",
    "print('Scaled Data')\n",
    "\n",
    "for k in range(1, 11):\n",
    "    print('\\033[1m', f'k = {k}', '\\033[0m')    \n",
    "    \n",
    "    # Train and evaluate the model    \n",
    "    knn = MyKNNClassifier(k=k, metric='Euclidean')\n",
    "    knn.fit(X_up_scaled, y_up)\n",
    "    \n",
    "    y_pred = knn.predict(X_test_scaled)    \n",
    "    score = eval_classifier(y_test, y_pred)\n",
    "    \n",
    "    # Store the f1 score\n",
    "    scaled_result.append(score)\n",
    "    print()"
   ]
  },
  {
   "cell_type": "markdown",
   "id": "3f426da6",
   "metadata": {},
   "source": [
    "Indeed, the distance-based classifier, KNN, has a great result when the features are scaled. In this instance, the KNN classifier has the best f1 score of 94% when k is equal to 3 and 4."
   ]
  },
  {
   "cell_type": "code",
   "execution_count": 33,
   "id": "58af0731",
   "metadata": {},
   "outputs": [
    {
     "data": {
      "image/png": "[encoded data removed]",
      "text/plain": [
       "<Figure size 600x400 with 1 Axes>"
      ]
     },
     "metadata": {},
     "output_type": "display_data"
    }
   ],
   "source": [
    "# Create a dataframe to store the result\n",
    "f1_result = pd.DataFrame({\n",
    "    'data': ['original' for x in range(10)] + ['scaled' for x in range(10)],\n",
    "    'k': [x for x in range(1, 11)] + [x for x in range(1, 11)],\n",
    "    'f1': original_result + scaled_result\n",
    "})\n",
    "\n",
    "# Plot the result for scaled and not scaled data\n",
    "sns.set_style('whitegrid')\n",
    "plt.figure(figsize=(6,4))\n",
    "\n",
    "sns.lineplot(data=f1_result, x='k', y='f1', hue='data',\n",
    "             style='data', markers=True)\n",
    "\n",
    "plt.title('F1 Scores for Different Values of k', fontsize=14, fontweight='bold')\n",
    "plt.xlabel('Value of k', fontweight='bold')\n",
    "plt.ylabel('F1 Score', fontweight='bold')\n",
    "plt.legend(title='Data', loc='upper left', bbox_to_anchor=(1,1))\n",
    "\n",
    "plt.show()"
   ]
  },
  {
   "cell_type": "markdown",
   "id": "276b7349",
   "metadata": {},
   "source": [
    "**Conclusion**\n",
    "\n",
    "The KNN algorithm is able to predict if a new customer will received a insureance benefit. With feature scaling, KNN classifier produces more consistent and meaningful result.\n",
    "\n",
    "[Back to Contents](#back)"
   ]
  },
  {
   "cell_type": "markdown",
   "id": "42339390",
   "metadata": {},
   "source": [
    "### 4.3 Regression (with Linear Regression) <a id='regression'></a>\n",
    "\n",
    "In this section, a linear regression model will be used to predict the number of insurance benefits received by a new customer. The model will be evaluated with the RMSE and r squared metrics for both the original data and the scaled data. Before developing the model, let's take a look on how the linear algebra works behind the linear regression algorithm.\n",
    "\n",
    "Let's denote\n",
    "- $X$ — feature matrix, each row is a case, each column is a feature, the first column consists of unities (for bias)\n",
    "- $y$ — target (a vector)\n",
    "- $\\hat{y}$ — estimated target (a vector)\n",
    "- $w$ — weight vector\n",
    "- $\\epsilon$ — residual vector\n",
    "- $n$ — number of cases\n",
    "\n",
    "The task of linear regression in the language of matrices can be formulated as\n",
    "\n",
    "$$\n",
    "y = Xw\n",
    "$$\n",
    "\n",
    "In real world application, there are factors influencing $y$ which are not captured by the features $X$, these factors are represented by the error term $\\epsilon$ (residual). Thus, $y$ is represented as\n",
    "\n",
    "$$\\begin{align*}\n",
    "y &= Xw + \\epsilon \\\\\n",
    "\\epsilon &= y - Xw\n",
    "\\end{align*}$$\n",
    "\n",
    "The training objective then is to find such $w$ that it would minimize the L2-distance (MSE) between $Xw$ and $y$:\n",
    "\n",
    "$$\n",
    "\\min_w d_2(Xw, y) \\quad \\text{or} \\quad \\min_w \\text{MSE}(Xw, y)\n",
    "$$\n",
    "\n",
    "where\n",
    "\n",
    "$$\\begin{align*}\n",
    "\\text{MSE}(Xw, y) &= \\frac{1}{n} \\sum_{i=1}^{n} (X^{(i)} w - y^{(i)})^2 \\\\\n",
    "&= \\frac{1}{n} (Xw - y)^T (Xw - y)\n",
    "\\end{align*}$$\n",
    "\n",
    "Take the partial derivative of MSE with respect to $w$ to find the gradient\n",
    "\n",
    "$$\n",
    "\\nabla \\text{MSE}(Xw, y) = \\frac{2}{n} X^T (Xw - y)\n",
    "$$\n",
    "\n",
    "To minimise the MSE, let the gradient equal to 0\n",
    "\n",
    "$$\\begin{align*}\n",
    "\\nabla \\text{MSE}(Xw, y) &= 0 \\\\\n",
    "\\frac{2}{n} X^T (Xw - y) &= 0 \\\\\n",
    "X^T Xw - X^Ty &= 0 \\\\\n",
    "X^T Xw &= X^Ty \\\\\n",
    "(X^T X)^{-1} (X^T X)w &= (X^T X)^{-1} X^Ty  \\\\\n",
    "Iw &= (X^T X)^{-1} X^Ty \n",
    "\\end{align*}$$\n",
    "\n",
    "Therefore, the analytical solution for $w$ which minimise the MSE is\n",
    "\n",
    "$$\n",
    "w = (X^T X)^{-1} X^T y\n",
    "$$\n",
    "\n",
    "The formula above can be used to find the weights $w$ and the latter can be used to calculate predicted values\n",
    "\n",
    "$$\n",
    "\\hat{y} = X_{val}w\n",
    "$$"
   ]
  },
  {
   "cell_type": "markdown",
   "id": "8a6160b4",
   "metadata": {},
   "source": [
    "**Original Data**\n",
    "\n",
    "We have seen that the results of KNN algorithm are different for the original data and scaled data. Let's have an investigate if this is an issue for the linear regression algorithm.\n",
    "\n",
    "First, we will look at the original data."
   ]
  },
  {
   "cell_type": "code",
   "execution_count": 34,
   "id": "c8994c58",
   "metadata": {},
   "outputs": [
    {
     "name": "stdout",
     "output_type": "stream",
     "text": [
      "RMSE: 0.24\n",
      "R2: 0.44\n"
     ]
    }
   ],
   "source": [
    "# Train and evaluate the linear regression model\n",
    "lr_1 = MyLinearRegression()\n",
    "lr_1.fit(X_train, y_train)\n",
    "lr_1_pred = lr_1.predict(X_test)\n",
    "eval_regressor(y_test, lr_1_pred)"
   ]
  },
  {
   "cell_type": "markdown",
   "id": "a3f74253",
   "metadata": {},
   "source": [
    "The model has a fairly good RMSE score of 0.24"
   ]
  },
  {
   "cell_type": "markdown",
   "id": "25e654f3",
   "metadata": {},
   "source": [
    "**Scaled Data**\n",
    "\n",
    "Now, let's see if the RMSE and r2 scores for the scaled data are different from those of the original data."
   ]
  },
  {
   "cell_type": "code",
   "execution_count": 35,
   "id": "856ab9a9",
   "metadata": {},
   "outputs": [],
   "source": [
    "# Scaled the data\n",
    "mas = MaxAbsScaler()\n",
    "X_train_scaled = mas.fit_transform(X_train)\n",
    "X_test_scaled = mas.transform(X_test)"
   ]
  },
  {
   "cell_type": "code",
   "execution_count": 36,
   "id": "bb4d1027",
   "metadata": {},
   "outputs": [
    {
     "name": "stdout",
     "output_type": "stream",
     "text": [
      "RMSE: 0.24\n",
      "R2: 0.44\n"
     ]
    }
   ],
   "source": [
    "# Train and evaluate the linear regression model\n",
    "lr_2 = MyLinearRegression()\n",
    "lr_2.fit(X_train_scaled, y_train)\n",
    "lr_2_pred = lr_2.predict(X_test_scaled)\n",
    "eval_regressor(y_test, lr_2_pred)"
   ]
  },
  {
   "cell_type": "markdown",
   "id": "07effc6b",
   "metadata": {},
   "source": [
    "For the sacled data, the RMSE and r squared scores are same as those of the original data. \n",
    "\n",
    "This result shows that feature scaling has not effect on the result of a linear regression model. In this instance, the original features $X$ is scaled by dividing the maximum values of features, the linear regression algorithm will compensate this by multiplying the original weights $w$ with the maximum values of features. Let's have a check on this reasoning."
   ]
  },
  {
   "cell_type": "code",
   "execution_count": 37,
   "id": "161e9318",
   "metadata": {},
   "outputs": [
    {
     "name": "stdout",
     "output_type": "stream",
     "text": [
      "The maximum values of the original features\n",
      "[1.00e+00 6.50e+01 7.48e+04 6.00e+00] \n",
      "\n",
      "Weights from the original data\n",
      "[ 4.40575926e-03  2.49959715e-02  4.78518715e-07 -8.71639714e-03] \n",
      "\n",
      "Original weights multiplied by the maximum values of the original features\n",
      "[ 0.00440576  1.62473815  0.0357932  -0.05229838] \n",
      "\n",
      "Weights from the scaled data\n",
      "[ 0.00440576  1.62473815  0.0357932  -0.05229838]\n"
     ]
    }
   ],
   "source": [
    "# Print the weights of features for original data\n",
    "print('The maximum values of the original features')\n",
    "print(X_train.max().values, '\\n')\n",
    "\n",
    "print('Weights from the original data')\n",
    "print(lr_1.weights[1:5], '\\n')\n",
    "\n",
    "print('Original weights multiplied by the maximum values of the original features')\n",
    "print((lr_1.weights[1:5] * X_train.max()).values, '\\n')\n",
    "\n",
    "print('Weights from the scaled data')\n",
    "print(lr_2.weights[1:5])"
   ]
  },
  {
   "cell_type": "code",
   "execution_count": 38,
   "id": "85840bc4",
   "metadata": {},
   "outputs": [
    {
     "data": {
      "text/plain": [
       "True"
      ]
     },
     "execution_count": 38,
     "metadata": {},
     "output_type": "execute_result"
    }
   ],
   "source": [
    "# Check if the two arrays are element-wise equal within a tolerance.\n",
    "np.allclose((lr_1.weights[1:5] * X_train.max()).values, lr_2.weights[1:5])"
   ]
  },
  {
   "cell_type": "markdown",
   "id": "fc9a6ad5",
   "metadata": {},
   "source": [
    "Here shows the reason why the linear regression model is not affected by feature scaling."
   ]
  },
  {
   "cell_type": "markdown",
   "id": "78f877d0",
   "metadata": {},
   "source": [
    "**Conclusion**\n",
    "\n",
    "The number of insurance benefits received by a customer can be predicted with a linear regression model. Unlike KNN model, linear regression model does not required feature scaling for the model to work correctly.\n",
    "\n",
    "[Back to Contents](#back)"
   ]
  },
  {
   "cell_type": "markdown",
   "id": "59862a5d",
   "metadata": {},
   "source": [
    "### 4.4 Obfuscating Data <a id='data_obfuscation'></a>\n",
    "\n",
    "To protect the customer privacy, the numerical features in the data can be obfuscated by multiplying by an invertible matrix $P$.\n",
    "\n",
    "$$\n",
    "X_{p} = XP\n",
    "$$\n",
    "\n",
    "where\n",
    "\n",
    "$$\n",
    "X_{p}: \\text{Obfuscated Features}\n",
    "$$"
   ]
  },
  {
   "cell_type": "code",
   "execution_count": 39,
   "id": "189ee20b",
   "metadata": {},
   "outputs": [],
   "source": [
    "# Create a dataframe to store the customers perfonal information\n",
    "personal_info_column_list = ['gender', 'age', 'income', 'family_members']\n",
    "data_pn = data[personal_info_column_list]"
   ]
  },
  {
   "cell_type": "code",
   "execution_count": 40,
   "id": "d373983f",
   "metadata": {},
   "outputs": [
    {
     "data": {
      "text/plain": [
       "array([[0.77395605, 0.43887844, 0.85859792, 0.69736803],\n",
       "       [0.09417735, 0.97562235, 0.7611397 , 0.78606431],\n",
       "       [0.12811363, 0.45038594, 0.37079802, 0.92676499],\n",
       "       [0.64386512, 0.82276161, 0.4434142 , 0.22723872]])"
      ]
     },
     "execution_count": 40,
     "metadata": {},
     "output_type": "execute_result"
    }
   ],
   "source": [
    "# Create the matrix of personal information\n",
    "X = data_pn.values\n",
    "\n",
    "# Generating a random matrix P\n",
    "rng = np.random.default_rng(seed=42)\n",
    "P = rng.random(size=(X.shape[1], X.shape[1]))\n",
    "\n",
    "# Have a look at P\n",
    "P"
   ]
  },
  {
   "cell_type": "code",
   "execution_count": 41,
   "id": "f244bd1b",
   "metadata": {},
   "outputs": [
    {
     "data": {
      "text/plain": [
       "array([[ 0.41467992, -1.43783972,  0.62798546,  1.14001268],\n",
       "       [-1.06101789,  0.44219337,  0.1329549 ,  1.18425933],\n",
       "       [ 1.42362442,  1.60461607, -2.0553823 , -1.53699695],\n",
       "       [-0.11128575, -0.65813802,  1.74995517, -0.11816316]])"
      ]
     },
     "execution_count": 41,
     "metadata": {},
     "output_type": "execute_result"
    }
   ],
   "source": [
    "# Check if P is invertible\n",
    "np.linalg.inv(P)"
   ]
  },
  {
   "cell_type": "code",
   "execution_count": 42,
   "id": "0ba851e9",
   "metadata": {},
   "outputs": [
    {
     "data": {
      "text/html": [
       "<div>\n",
       "<style scoped>\n",
       "    .dataframe tbody tr th:only-of-type {\n",
       "        vertical-align: middle;\n",
       "    }\n",
       "\n",
       "    .dataframe tbody tr th {\n",
       "        vertical-align: top;\n",
       "    }\n",
       "\n",
       "    .dataframe thead th {\n",
       "        text-align: right;\n",
       "    }\n",
       "</style>\n",
       "<table border=\"1\" class=\"dataframe\">\n",
       "  <thead>\n",
       "    <tr style=\"text-align: right;\">\n",
       "      <th></th>\n",
       "      <th>gender</th>\n",
       "      <th>age</th>\n",
       "      <th>income</th>\n",
       "      <th>family_members</th>\n",
       "    </tr>\n",
       "  </thead>\n",
       "  <tbody>\n",
       "    <tr>\n",
       "      <th>0</th>\n",
       "      <td>6359.715273</td>\n",
       "      <td>22380.404676</td>\n",
       "      <td>18424.090742</td>\n",
       "      <td>46000.696690</td>\n",
       "    </tr>\n",
       "    <tr>\n",
       "      <th>1</th>\n",
       "      <td>4873.294065</td>\n",
       "      <td>17160.367030</td>\n",
       "      <td>14125.780761</td>\n",
       "      <td>35253.455773</td>\n",
       "    </tr>\n",
       "    <tr>\n",
       "      <th>2</th>\n",
       "      <td>2693.117429</td>\n",
       "      <td>9486.397744</td>\n",
       "      <td>7808.831560</td>\n",
       "      <td>19484.860631</td>\n",
       "    </tr>\n",
       "    <tr>\n",
       "      <th>3</th>\n",
       "      <td>5345.603937</td>\n",
       "      <td>18803.227203</td>\n",
       "      <td>15479.148373</td>\n",
       "      <td>38663.061863</td>\n",
       "    </tr>\n",
       "    <tr>\n",
       "      <th>4</th>\n",
       "      <td>3347.176735</td>\n",
       "      <td>11782.829283</td>\n",
       "      <td>9699.998942</td>\n",
       "      <td>24211.273378</td>\n",
       "    </tr>\n",
       "  </tbody>\n",
       "</table>\n",
       "</div>"
      ],
      "text/plain": [
       "        gender           age        income  family_members\n",
       "0  6359.715273  22380.404676  18424.090742    46000.696690\n",
       "1  4873.294065  17160.367030  14125.780761    35253.455773\n",
       "2  2693.117429   9486.397744   7808.831560    19484.860631\n",
       "3  5345.603937  18803.227203  15479.148373    38663.061863\n",
       "4  3347.176735  11782.829283   9699.998942    24211.273378"
      ]
     },
     "execution_count": 42,
     "metadata": {},
     "output_type": "execute_result"
    }
   ],
   "source": [
    "# Encrypt the original data by multipling P and store in data_pn\n",
    "X_obfuscated = X @ P\n",
    "data_obfuscated = pd.DataFrame(X_obfuscated, columns=personal_info_column_list)\n",
    "\n",
    "# Have a look at the enrypted data\n",
    "data_obfuscated.head()"
   ]
  },
  {
   "cell_type": "markdown",
   "id": "7ecdc632",
   "metadata": {},
   "source": [
    "After obfuscating the data, it is impossible to know the original values and thus the personal information of customers is secured. In the event of a data breach, sensitive data will be useless without having the decryption key. Here, the decryption key is $P^{-1}$, the inverse matrix of $P$.\n",
    "\n",
    "$$\\begin{align*}\n",
    "X_{p} &= XP \\\\\n",
    "X_{p} P^{-1} &= XPP^{-1} \\\\\n",
    "X_{p} P^{-1} &= XI \\\\\n",
    "\\therefore X &= X_{p} P^{-1}\n",
    "\\end{align*}$$\n",
    "\n",
    "Therefore, it is important that the matrix $P$ is invertible so that we can decrypt the obfuscated data with $P^{-1}$. Now, let's try to recover the data."
   ]
  },
  {
   "cell_type": "code",
   "execution_count": 43,
   "id": "cc383c40",
   "metadata": {},
   "outputs": [
    {
     "data": {
      "text/html": [
       "<div>\n",
       "<style scoped>\n",
       "    .dataframe tbody tr th:only-of-type {\n",
       "        vertical-align: middle;\n",
       "    }\n",
       "\n",
       "    .dataframe tbody tr th {\n",
       "        vertical-align: top;\n",
       "    }\n",
       "\n",
       "    .dataframe thead th {\n",
       "        text-align: right;\n",
       "    }\n",
       "</style>\n",
       "<table border=\"1\" class=\"dataframe\">\n",
       "  <thead>\n",
       "    <tr style=\"text-align: right;\">\n",
       "      <th></th>\n",
       "      <th>gender</th>\n",
       "      <th>age</th>\n",
       "      <th>income</th>\n",
       "      <th>family_members</th>\n",
       "    </tr>\n",
       "  </thead>\n",
       "  <tbody>\n",
       "    <tr>\n",
       "      <th>0</th>\n",
       "      <td>1.000000e+00</td>\n",
       "      <td>41.0</td>\n",
       "      <td>49600.0</td>\n",
       "      <td>1.000000e+00</td>\n",
       "    </tr>\n",
       "    <tr>\n",
       "      <th>1</th>\n",
       "      <td>-3.637979e-12</td>\n",
       "      <td>46.0</td>\n",
       "      <td>38000.0</td>\n",
       "      <td>1.000000e+00</td>\n",
       "    </tr>\n",
       "    <tr>\n",
       "      <th>2</th>\n",
       "      <td>1.818989e-12</td>\n",
       "      <td>29.0</td>\n",
       "      <td>21000.0</td>\n",
       "      <td>0.000000e+00</td>\n",
       "    </tr>\n",
       "    <tr>\n",
       "      <th>3</th>\n",
       "      <td>0.000000e+00</td>\n",
       "      <td>21.0</td>\n",
       "      <td>41700.0</td>\n",
       "      <td>2.000000e+00</td>\n",
       "    </tr>\n",
       "    <tr>\n",
       "      <th>4</th>\n",
       "      <td>1.000000e+00</td>\n",
       "      <td>28.0</td>\n",
       "      <td>26100.0</td>\n",
       "      <td>3.637979e-12</td>\n",
       "    </tr>\n",
       "  </tbody>\n",
       "</table>\n",
       "</div>"
      ],
      "text/plain": [
       "         gender   age   income  family_members\n",
       "0  1.000000e+00  41.0  49600.0    1.000000e+00\n",
       "1 -3.637979e-12  46.0  38000.0    1.000000e+00\n",
       "2  1.818989e-12  29.0  21000.0    0.000000e+00\n",
       "3  0.000000e+00  21.0  41700.0    2.000000e+00\n",
       "4  1.000000e+00  28.0  26100.0    3.637979e-12"
      ]
     },
     "execution_count": 43,
     "metadata": {},
     "output_type": "execute_result"
    }
   ],
   "source": [
    "# Recover the data with the decryption key, P inverse\n",
    "X_decrypted = X_obfuscated @ np.linalg.inv(P)\n",
    "data_decrypted = pd.DataFrame(X_decrypted, columns=personal_info_column_list)\n",
    "\n",
    "# Have a look at data_decrypted\n",
    "data_decrypted[:5]"
   ]
  },
  {
   "cell_type": "markdown",
   "id": "839ccbb6",
   "metadata": {},
   "source": [
    "It seems like the data is recovered with a small margin of rounding error. This error is likely due to the finite precision of floting-point numbers. This error may occur when the calculation involves small numbers close to zero especally in a matrix inversion. Let's check if this error is tolerable."
   ]
  },
  {
   "cell_type": "code",
   "execution_count": 44,
   "id": "ee01c6b3",
   "metadata": {},
   "outputs": [
    {
     "data": {
      "text/plain": [
       "True"
      ]
     },
     "execution_count": 44,
     "metadata": {},
     "output_type": "execute_result"
    }
   ],
   "source": [
    "# Check if the two datasets are element-wise equal within a tolerance.\n",
    "np.allclose(X, X_decrypted)"
   ]
  },
  {
   "cell_type": "code",
   "execution_count": 45,
   "id": "488817f6",
   "metadata": {},
   "outputs": [],
   "source": [
    "# Round the decrypted data and update the data_pn\n",
    "data_decrypted.update(\n",
    "    pd.DataFrame(abs(X_decrypted.round()), columns=personal_info_column_list)\n",
    ")"
   ]
  },
  {
   "cell_type": "code",
   "execution_count": 46,
   "id": "ab18a0f3",
   "metadata": {},
   "outputs": [
    {
     "name": "stdout",
     "output_type": "stream",
     "text": [
      "\u001b[1m Original Data\n"
     ]
    },
    {
     "data": {
      "text/html": [
       "<div>\n",
       "<style scoped>\n",
       "    .dataframe tbody tr th:only-of-type {\n",
       "        vertical-align: middle;\n",
       "    }\n",
       "\n",
       "    .dataframe tbody tr th {\n",
       "        vertical-align: top;\n",
       "    }\n",
       "\n",
       "    .dataframe thead th {\n",
       "        text-align: right;\n",
       "    }\n",
       "</style>\n",
       "<table border=\"1\" class=\"dataframe\">\n",
       "  <thead>\n",
       "    <tr style=\"text-align: right;\">\n",
       "      <th></th>\n",
       "      <th>gender</th>\n",
       "      <th>age</th>\n",
       "      <th>income</th>\n",
       "      <th>family_members</th>\n",
       "    </tr>\n",
       "  </thead>\n",
       "  <tbody>\n",
       "    <tr>\n",
       "      <th>0</th>\n",
       "      <td>1</td>\n",
       "      <td>41</td>\n",
       "      <td>49600.0</td>\n",
       "      <td>1</td>\n",
       "    </tr>\n",
       "    <tr>\n",
       "      <th>1</th>\n",
       "      <td>0</td>\n",
       "      <td>46</td>\n",
       "      <td>38000.0</td>\n",
       "      <td>1</td>\n",
       "    </tr>\n",
       "    <tr>\n",
       "      <th>2</th>\n",
       "      <td>0</td>\n",
       "      <td>29</td>\n",
       "      <td>21000.0</td>\n",
       "      <td>0</td>\n",
       "    </tr>\n",
       "  </tbody>\n",
       "</table>\n",
       "</div>"
      ],
      "text/plain": [
       "   gender  age   income  family_members\n",
       "0       1   41  49600.0               1\n",
       "1       0   46  38000.0               1\n",
       "2       0   29  21000.0               0"
      ]
     },
     "metadata": {},
     "output_type": "display_data"
    },
    {
     "name": "stdout",
     "output_type": "stream",
     "text": [
      "**************************************************\n",
      "\u001b[1m Obfuscating data with P\n"
     ]
    },
    {
     "data": {
      "text/html": [
       "<div>\n",
       "<style scoped>\n",
       "    .dataframe tbody tr th:only-of-type {\n",
       "        vertical-align: middle;\n",
       "    }\n",
       "\n",
       "    .dataframe tbody tr th {\n",
       "        vertical-align: top;\n",
       "    }\n",
       "\n",
       "    .dataframe thead th {\n",
       "        text-align: right;\n",
       "    }\n",
       "</style>\n",
       "<table border=\"1\" class=\"dataframe\">\n",
       "  <thead>\n",
       "    <tr style=\"text-align: right;\">\n",
       "      <th></th>\n",
       "      <th>gender</th>\n",
       "      <th>age</th>\n",
       "      <th>income</th>\n",
       "      <th>family_members</th>\n",
       "    </tr>\n",
       "  </thead>\n",
       "  <tbody>\n",
       "    <tr>\n",
       "      <th>0</th>\n",
       "      <td>6359.715273</td>\n",
       "      <td>22380.404676</td>\n",
       "      <td>18424.090742</td>\n",
       "      <td>46000.696690</td>\n",
       "    </tr>\n",
       "    <tr>\n",
       "      <th>1</th>\n",
       "      <td>4873.294065</td>\n",
       "      <td>17160.367030</td>\n",
       "      <td>14125.780761</td>\n",
       "      <td>35253.455773</td>\n",
       "    </tr>\n",
       "    <tr>\n",
       "      <th>2</th>\n",
       "      <td>2693.117429</td>\n",
       "      <td>9486.397744</td>\n",
       "      <td>7808.831560</td>\n",
       "      <td>19484.860631</td>\n",
       "    </tr>\n",
       "  </tbody>\n",
       "</table>\n",
       "</div>"
      ],
      "text/plain": [
       "        gender           age        income  family_members\n",
       "0  6359.715273  22380.404676  18424.090742    46000.696690\n",
       "1  4873.294065  17160.367030  14125.780761    35253.455773\n",
       "2  2693.117429   9486.397744   7808.831560    19484.860631"
      ]
     },
     "metadata": {},
     "output_type": "display_data"
    },
    {
     "name": "stdout",
     "output_type": "stream",
     "text": [
      "**************************************************\n",
      "\u001b[1m Decrypting Data with P inverse\n"
     ]
    },
    {
     "data": {
      "text/html": [
       "<div>\n",
       "<style scoped>\n",
       "    .dataframe tbody tr th:only-of-type {\n",
       "        vertical-align: middle;\n",
       "    }\n",
       "\n",
       "    .dataframe tbody tr th {\n",
       "        vertical-align: top;\n",
       "    }\n",
       "\n",
       "    .dataframe thead th {\n",
       "        text-align: right;\n",
       "    }\n",
       "</style>\n",
       "<table border=\"1\" class=\"dataframe\">\n",
       "  <thead>\n",
       "    <tr style=\"text-align: right;\">\n",
       "      <th></th>\n",
       "      <th>gender</th>\n",
       "      <th>age</th>\n",
       "      <th>income</th>\n",
       "      <th>family_members</th>\n",
       "    </tr>\n",
       "  </thead>\n",
       "  <tbody>\n",
       "    <tr>\n",
       "      <th>0</th>\n",
       "      <td>1.0</td>\n",
       "      <td>41.0</td>\n",
       "      <td>49600.0</td>\n",
       "      <td>1.0</td>\n",
       "    </tr>\n",
       "    <tr>\n",
       "      <th>1</th>\n",
       "      <td>0.0</td>\n",
       "      <td>46.0</td>\n",
       "      <td>38000.0</td>\n",
       "      <td>1.0</td>\n",
       "    </tr>\n",
       "    <tr>\n",
       "      <th>2</th>\n",
       "      <td>0.0</td>\n",
       "      <td>29.0</td>\n",
       "      <td>21000.0</td>\n",
       "      <td>0.0</td>\n",
       "    </tr>\n",
       "  </tbody>\n",
       "</table>\n",
       "</div>"
      ],
      "text/plain": [
       "   gender   age   income  family_members\n",
       "0     1.0  41.0  49600.0             1.0\n",
       "1     0.0  46.0  38000.0             1.0\n",
       "2     0.0  29.0  21000.0             0.0"
      ]
     },
     "metadata": {},
     "output_type": "display_data"
    }
   ],
   "source": [
    "# Show the important results in the data encryption and decryption process\n",
    "print('\\033[1m', 'Original Data')\n",
    "display(data_pn.head(3))\n",
    "print('*' * 50)\n",
    "\n",
    "print('\\033[1m', 'Obfuscating data with P')\n",
    "display(data_obfuscated.head(3))\n",
    "print('*' * 50)\n",
    "\n",
    "print('\\033[1m', 'Decrypting Data with P inverse')\n",
    "display(data_decrypted.head(3))"
   ]
  },
  {
   "cell_type": "markdown",
   "id": "b8ed3df9",
   "metadata": {},
   "source": [
    "Nice, we have successfully obfuscated and decrypted the data. \n",
    "\n",
    "**Conculsion**\n",
    "\n",
    "The customer private information can be obfuscated by multiplying a square matrix $P$. However, we have to make sure $P$ is invertible so that the data can be recovered if needed.\n",
    "\n",
    "[Back to Contents](#back)"
   ]
  },
  {
   "cell_type": "markdown",
   "id": "80db2d8c",
   "metadata": {},
   "source": [
    "## 5. Proving That Data Obfuscation Can Work with Linear Regression <a id='data_obfuscation_lr'></a>\n",
    "\n",
    "A mathematical proof will be provided here to show that a linear regression model can work with the obsfuscated data. \n",
    "\n",
    "$$\\begin{align*}\n",
    "y &= Xw \\tag{1} \\\\\n",
    "y_{p} &= X_{p}w_{p} \\tag{2} \\\\\n",
    "\\end{align*}$$\n",
    "\n",
    "where\n",
    "\n",
    "$$\\begin{align*}\n",
    "X_{p} &= XP \\tag{3} \\\\\n",
    "w &= (X^T X)^{-1} X^T y \\tag{4} \\\\\n",
    "w_{p} &= [(XP)^T XP]^{-1} (XP)^T y \\tag{5}\n",
    "\\end{align*}$$\n",
    "\n",
    "To prove that the linear regression work correctly with the obfuscated data, it is equivalent to prove that\n",
    "\n",
    "$$\n",
    "y_{p} = y\n",
    "$$\n",
    "\n",
    "Proof:\n",
    "\n",
    "From (5)\n",
    "$$\\begin{align*}\n",
    "w_{p} &= [(XP)^T XP]^{-1} (XP)^T y \\\\\n",
    "&= (P^T X^T XP)^{-1} (XP)^T y \\\\\n",
    "&= [(P^T X^T X) P]^{-1} (XP)^T y \\\\\n",
    "&= P^{-1} (P^T X^T X)^{-1} (XP)^T y \\\\\n",
    "&= P^{-1} [P^T (X^T X)]^{-1} (XP)^T y \\\\\n",
    "&= P^{-1} (X^T X)^{-1} (P^T)^{-1} P^T X^T y \\\\\n",
    "&= P^{-1} (X^T X)^{-1} [(P^T)^{-1} P^T] X^T y \\\\\n",
    "&= P^{-1} (X^T X)^{-1} I X^T y \\\\\n",
    "&= P^{-1} (X^T X)^{-1} (I X^T) y \\\\\n",
    "\\therefore w_{p} &= P^{-1} [(X^T X)]^{-1} X^T y \\tag{6} \\\\\n",
    "\\end{align*}$$\n",
    "\n",
    "Substitute (4) into (6)\n",
    "\n",
    "$$\\begin{align*}\n",
    "w_{p} &= P^{-1} w \\tag{7} \\\\\n",
    "\\end{align*}$$\n",
    "\n",
    "Substitute (3) and (7) into (2)\n",
    "$$\\begin{align*}\n",
    "y_{p} &= XP P^{-1}w \\tag{2} \\\\\n",
    "&= X(P P^{-1}) w \\\\\n",
    "&= XIw \\\\\n",
    "&= Xw \\\\\n",
    "\\therefore y_{p} &= y\n",
    "\\end{align*}$$\n",
    "\n",
    "The above proof provides the evidence that the values of $y_{p}$ from the obfuscated data are equal to the values of $y$ from the original data.\n",
    "\n",
    "[Back to Contents](#back)"
   ]
  },
  {
   "cell_type": "markdown",
   "id": "384e784a",
   "metadata": {},
   "source": [
    "### 6.  Test Linear Regression With Data Obfuscation <a id='data_obfuscation_test'></a>\n",
    "\n",
    "We have prove that the linear regression model can work with the obfuscated data to give the same prediction as the original data. Now, we will verify this by running the linear regression model for both the original data and the obfuscated data. The results will be compared by using the RMSE and r squared metrics."
   ]
  },
  {
   "cell_type": "code",
   "execution_count": 47,
   "id": "853d50a7",
   "metadata": {},
   "outputs": [],
   "source": [
    "class MyLinearRegression:\n",
    "    def __init__(self):\n",
    "        self.weights = None\n",
    "        \n",
    "    def fit(self, X_train, y_train):\n",
    "        # Adding the unities for bias\n",
    "        X2 = np.append(np.ones([len(X_train), 1]), X_train, axis=1)\n",
    "        self.weights = np.linalg.inv(X2.T @ X2) @ X2.T @ y_train\n",
    "    \n",
    "    def predict(self, X_test):\n",
    "        # Adding the unities for bias\n",
    "        X3 = np.append(np.ones([len(X_test), 1]), X_test, axis=1)\n",
    "        y_pred = X3 @ self.weights\n",
    "        \n",
    "        return y_pred"
   ]
  },
  {
   "cell_type": "markdown",
   "id": "27ea38fc",
   "metadata": {},
   "source": [
    "**Original Data**"
   ]
  },
  {
   "cell_type": "code",
   "execution_count": 48,
   "id": "0df0430d",
   "metadata": {},
   "outputs": [
    {
     "name": "stdout",
     "output_type": "stream",
     "text": [
      "RMSE: 0.24\n",
      "R2: 0.44\n"
     ]
    }
   ],
   "source": [
    "# Train and evaluate the linear regression model\n",
    "lr_3 = MyLinearRegression()\n",
    "lr_3.fit(X_train, y_train)\n",
    "lr_3_pred = lr_3.predict(X_test)\n",
    "eval_regressor(y_test, lr_3_pred)"
   ]
  },
  {
   "cell_type": "markdown",
   "id": "eb34c338",
   "metadata": {},
   "source": [
    "**Obfuscated Data**\n",
    "\n",
    "**Procedure**\n",
    "\n",
    "- Create a square matrix $P$ of random numbers.\n",
    "- Check if $P$ is invertible. If not, repeat the first point until we get an invertible matrix.\n",
    "- Multiply the training feature matrix $X_{train}$ and the test feature matrix $X_{test}$ by $P$.\n",
    "- Use $X_{train}P$ to train and $X_{test}P$ to evaluate the model."
   ]
  },
  {
   "cell_type": "code",
   "execution_count": 49,
   "id": "05ee03d2",
   "metadata": {},
   "outputs": [],
   "source": [
    "# Create a random nxn square matrix P\n",
    "# n is the number of features\n",
    "n = X_train.shape[1]\n",
    "rng = np.random.default_rng(seed=12345)\n",
    "P = rng.random(size=(n, n))"
   ]
  },
  {
   "cell_type": "code",
   "execution_count": 50,
   "id": "c8673b43",
   "metadata": {},
   "outputs": [
    {
     "data": {
      "text/plain": [
       "array([[-1.97240014,  1.76004024, -0.08309671,  1.22285233],\n",
       "       [ 0.14111106,  0.32873452,  1.02824721, -1.27752175],\n",
       "       [ 0.8908452 ,  0.90302415, -0.59501472, -0.23290483],\n",
       "       [ 1.02530945, -1.81039816,  0.24787878,  0.46192295]])"
      ]
     },
     "execution_count": 50,
     "metadata": {},
     "output_type": "execute_result"
    }
   ],
   "source": [
    "# Check if P is invertible\n",
    "np.linalg.inv(P)"
   ]
  },
  {
   "cell_type": "markdown",
   "id": "c8a1ba24",
   "metadata": {},
   "source": [
    "With an invertible P, the linear regression algorithm can work correctly with the obfuscated data"
   ]
  },
  {
   "cell_type": "code",
   "execution_count": 51,
   "id": "f7ebe95c",
   "metadata": {},
   "outputs": [
    {
     "name": "stdout",
     "output_type": "stream",
     "text": [
      "\u001b[1m Obfuscated training set\n"
     ]
    },
    {
     "data": {
      "text/html": [
       "<div>\n",
       "<style scoped>\n",
       "    .dataframe tbody tr th:only-of-type {\n",
       "        vertical-align: middle;\n",
       "    }\n",
       "\n",
       "    .dataframe tbody tr th {\n",
       "        vertical-align: top;\n",
       "    }\n",
       "\n",
       "    .dataframe thead th {\n",
       "        text-align: right;\n",
       "    }\n",
       "</style>\n",
       "<table border=\"1\" class=\"dataframe\">\n",
       "  <thead>\n",
       "    <tr style=\"text-align: right;\">\n",
       "      <th></th>\n",
       "      <th>gender</th>\n",
       "      <th>age</th>\n",
       "      <th>income</th>\n",
       "      <th>family_members</th>\n",
       "    </tr>\n",
       "  </thead>\n",
       "  <tbody>\n",
       "    <tr>\n",
       "      <th>0</th>\n",
       "      <td>24968.748217</td>\n",
       "      <td>34948.620864</td>\n",
       "      <td>9224.318010</td>\n",
       "      <td>35209.161620</td>\n",
       "    </tr>\n",
       "    <tr>\n",
       "      <th>1</th>\n",
       "      <td>28342.354967</td>\n",
       "      <td>39665.401864</td>\n",
       "      <td>10479.550468</td>\n",
       "      <td>39958.259225</td>\n",
       "    </tr>\n",
       "    <tr>\n",
       "      <th>2</th>\n",
       "      <td>27995.646951</td>\n",
       "      <td>39186.653916</td>\n",
       "      <td>10340.782830</td>\n",
       "      <td>39477.750803</td>\n",
       "    </tr>\n",
       "    <tr>\n",
       "      <th>3</th>\n",
       "      <td>31497.107256</td>\n",
       "      <td>44086.691326</td>\n",
       "      <td>11636.447016</td>\n",
       "      <td>44413.426666</td>\n",
       "    </tr>\n",
       "    <tr>\n",
       "      <th>4</th>\n",
       "      <td>22074.332789</td>\n",
       "      <td>30897.537288</td>\n",
       "      <td>8154.468203</td>\n",
       "      <td>31128.225730</td>\n",
       "    </tr>\n",
       "  </tbody>\n",
       "</table>\n",
       "</div>"
      ],
      "text/plain": [
       "         gender           age        income  family_members\n",
       "0  24968.748217  34948.620864   9224.318010    35209.161620\n",
       "1  28342.354967  39665.401864  10479.550468    39958.259225\n",
       "2  27995.646951  39186.653916  10340.782830    39477.750803\n",
       "3  31497.107256  44086.691326  11636.447016    44413.426666\n",
       "4  22074.332789  30897.537288   8154.468203    31128.225730"
      ]
     },
     "metadata": {},
     "output_type": "display_data"
    },
    {
     "name": "stdout",
     "output_type": "stream",
     "text": [
      "************************************************************\n",
      "\u001b[1m Obfuscated test set\n"
     ]
    },
    {
     "data": {
      "text/html": [
       "<div>\n",
       "<style scoped>\n",
       "    .dataframe tbody tr th:only-of-type {\n",
       "        vertical-align: middle;\n",
       "    }\n",
       "\n",
       "    .dataframe tbody tr th {\n",
       "        vertical-align: top;\n",
       "    }\n",
       "\n",
       "    .dataframe thead th {\n",
       "        text-align: right;\n",
       "    }\n",
       "</style>\n",
       "<table border=\"1\" class=\"dataframe\">\n",
       "  <thead>\n",
       "    <tr style=\"text-align: right;\">\n",
       "      <th></th>\n",
       "      <th>gender</th>\n",
       "      <th>age</th>\n",
       "      <th>income</th>\n",
       "      <th>family_members</th>\n",
       "    </tr>\n",
       "  </thead>\n",
       "  <tbody>\n",
       "    <tr>\n",
       "      <th>0</th>\n",
       "      <td>31763.308133</td>\n",
       "      <td>44461.066719</td>\n",
       "      <td>11731.756197</td>\n",
       "      <td>44792.161507</td>\n",
       "    </tr>\n",
       "    <tr>\n",
       "      <th>1</th>\n",
       "      <td>44347.366142</td>\n",
       "      <td>62075.775625</td>\n",
       "      <td>16379.335840</td>\n",
       "      <td>62537.919654</td>\n",
       "    </tr>\n",
       "    <tr>\n",
       "      <th>2</th>\n",
       "      <td>22820.898318</td>\n",
       "      <td>31938.608546</td>\n",
       "      <td>8436.954960</td>\n",
       "      <td>32175.682490</td>\n",
       "    </tr>\n",
       "    <tr>\n",
       "      <th>3</th>\n",
       "      <td>13000.779397</td>\n",
       "      <td>18189.966839</td>\n",
       "      <td>4815.360013</td>\n",
       "      <td>18322.461823</td>\n",
       "    </tr>\n",
       "    <tr>\n",
       "      <th>4</th>\n",
       "      <td>18520.116725</td>\n",
       "      <td>25915.080031</td>\n",
       "      <td>6855.163034</td>\n",
       "      <td>26104.594408</td>\n",
       "    </tr>\n",
       "  </tbody>\n",
       "</table>\n",
       "</div>"
      ],
      "text/plain": [
       "         gender           age        income  family_members\n",
       "0  31763.308133  44461.066719  11731.756197    44792.161507\n",
       "1  44347.366142  62075.775625  16379.335840    62537.919654\n",
       "2  22820.898318  31938.608546   8436.954960    32175.682490\n",
       "3  13000.779397  18189.966839   4815.360013    18322.461823\n",
       "4  18520.116725  25915.080031   6855.163034    26104.594408"
      ]
     },
     "metadata": {},
     "output_type": "display_data"
    }
   ],
   "source": [
    "# Create the obfuscated data\n",
    "X_train_P = pd.DataFrame(X_train.values @ P, columns=X_train.columns)\n",
    "X_test_P = pd.DataFrame(X_test.values @ P, columns=X_train.columns)\n",
    "\n",
    "# Take a look at the obfuscated data\n",
    "print('\\033[1m', 'Obfuscated training set')\n",
    "display(X_train_P.head())\n",
    "print('*' * 60)\n",
    "\n",
    "print('\\033[1m', 'Obfuscated test set')\n",
    "display(X_test_P.head())"
   ]
  },
  {
   "cell_type": "code",
   "execution_count": 52,
   "id": "73c379c3",
   "metadata": {},
   "outputs": [
    {
     "name": "stdout",
     "output_type": "stream",
     "text": [
      "RMSE: 0.24\n",
      "R2: 0.44\n"
     ]
    }
   ],
   "source": [
    "# Train and evaluate the linear regression model\n",
    "lr_4 = MyLinearRegression()\n",
    "lr_4.fit(X_train_P, y_train)\n",
    "lr_4_pred = lr_4.predict(X_test_P)\n",
    "eval_regressor(y_test, lr_4_pred)"
   ]
  },
  {
   "cell_type": "markdown",
   "id": "a7b27d2d",
   "metadata": {},
   "source": [
    "The two models give the identical RMSE and r squared scores regardless the data is obfuscated or not. The linear regression model will adjust weights for different datasets and give the same prediction. Let's verify this."
   ]
  },
  {
   "cell_type": "code",
   "execution_count": 53,
   "id": "382b0f19",
   "metadata": {},
   "outputs": [
    {
     "name": "stdout",
     "output_type": "stream",
     "text": [
      "Weights from the original data\n",
      "[-6.69815605e-01  4.40575926e-03  2.49959715e-02  4.78518715e-07\n",
      " -8.71639714e-03] \n",
      "\n",
      "Weights from the obfuscated data\n",
      "[-0.66981566  0.02464497  0.01997461  0.02852668 -0.0447615 ] \n",
      "\n",
      "Prediction from the original data\n",
      "[-0.06791642  0.16599563  0.15824621 ...  0.23892114  0.10524356\n",
      "  0.22015585] \n",
      "\n",
      "Prediction from the obfuscated data\n",
      "[-0.06791631  0.16599576  0.15824631 ...  0.23892132  0.10524355\n",
      "  0.220156  ]\n"
     ]
    }
   ],
   "source": [
    "# Print the weights from the both models\n",
    "print('Weights from the original data')\n",
    "print(lr_3.weights, '\\n')\n",
    "\n",
    "print('Weights from the obfuscated data')\n",
    "print(lr_4.weights, '\\n')\n",
    "\n",
    "print('Prediction from the original data')\n",
    "print(lr_3_pred, '\\n')\n",
    "\n",
    "print('Prediction from the obfuscated data')\n",
    "print(lr_4_pred)"
   ]
  },
  {
   "cell_type": "code",
   "execution_count": 54,
   "id": "38cd4e08",
   "metadata": {},
   "outputs": [
    {
     "data": {
      "text/plain": [
       "True"
      ]
     },
     "execution_count": 54,
     "metadata": {},
     "output_type": "execute_result"
    }
   ],
   "source": [
    "# Check if the two predictions are element-wise equal within a tolerance.\n",
    "# The original parameter atol=1e-8 does not give a True answer\n",
    "# np.allclose(lr_3_pred, lr_4_pred)\n",
    "np.allclose(lr_3_pred, lr_4_pred, atol=1e-6)"
   ]
  },
  {
   "cell_type": "markdown",
   "id": "0db2226f",
   "metadata": {},
   "source": [
    "The predictions from both the models are indeed the same but the error is slighly higher than the expectation and this might due to our simplified linear regression model. We can verify the result again by using the `LinearRegression` model from the sklearn library."
   ]
  },
  {
   "cell_type": "code",
   "execution_count": 55,
   "id": "9469d810",
   "metadata": {},
   "outputs": [
    {
     "name": "stdout",
     "output_type": "stream",
     "text": [
      "RMSE: 0.24\n",
      "R2: 0.44\n"
     ]
    }
   ],
   "source": [
    "# Train and evaluate the sklearn linear regression model\n",
    "# Use the obfuscated data\n",
    "lr_5 = LinearRegression()\n",
    "lr_5.fit(X_train_P, y_train)\n",
    "lr_5_pred = lr_5.predict(X_test_P)\n",
    "eval_regressor(y_test, lr_4_pred)"
   ]
  },
  {
   "cell_type": "code",
   "execution_count": 56,
   "id": "17444d91",
   "metadata": {},
   "outputs": [
    {
     "data": {
      "text/plain": [
       "True"
      ]
     },
     "execution_count": 56,
     "metadata": {},
     "output_type": "execute_result"
    }
   ],
   "source": [
    "# Check if the two predictions from the original data and obfuscated data\n",
    "# are element-wise equal within a tolerance.\n",
    "np.allclose(lr_3_pred, lr_5_pred)"
   ]
  },
  {
   "cell_type": "markdown",
   "id": "17db5333",
   "metadata": {},
   "source": [
    "The two prediction results are verified to be the same in a higher precision.\n",
    "\n",
    "**Conclusion**\n",
    "\n",
    "From the implementation above, it has been proven that the obfuscated data can work with the linear regression model and produce the same result as the original data.\n",
    "\n",
    "[Back to Contents](#back)"
   ]
  },
  {
   "cell_type": "markdown",
   "id": "43ca1131",
   "metadata": {},
   "source": [
    "# 7. General Conclusion <a id='general_conclusion'></a>\n",
    "\n",
    "**Data Exploration and Preprocessing**\n",
    "\n",
    "The Sure Tomorrow company has provided us the dataset with 5000 customers data which include the `gender`, `age`, `income`, `family members` and `insurance benefits` information. The datasets have no missing values and outliers but there were 153 duplicated rows. These duplicated rows have been dropped.\n",
    "\n",
    "**Exploratory Data Analysis**\n",
    "\n",
    "The target `insurance benefits` is found to be imbalanced with 88.38% of customers never received any benefit before. This might pose a problem for a classification model. \n",
    "\n",
    "**Solving the Tasks Given by the Sure Tomorrow Company**\n",
    "\n",
    "Task 1. Similar Customers\n",
    "- The similar customers can be found by using the K-Nearest Neighbors (KNN) algorithm which calculates the 'distance' between the features. Since the calculation is distance-based, the data should be scaled accordingly so that the distance-based algorithm KNN takes these features in the same order of importance. \n",
    "\n",
    "Task 2. Is Customer Likely to Receive Insurance Benefit?\n",
    "- By building a simplified KNN classifier, we can predict whether a new customer will receive insurance benefit. The KNN model perform poorly without scaling the features. With feature scaling, the KNN model has the highest f1-score of 94% for k=3 and k=4.\n",
    "\n",
    "Task 3. Regression (with Linear Regression)\n",
    "- By building a simplified linear regression model, the number of insurance benefits received by the customers can be predicted. The model gives a RMSE of 0.24 and r squared score of 44%, regardless the data is scaled or not scaled ( unlike the KNN model. Therefore, the linear regression is not affected by a scaled data and this has been proven mathematically.\n",
    "\n",
    "Task 4 Obfuscating Data\n",
    "- The customer personal data can be infuscated by multipling the original data by a random square matrix $P$. The original data is proven can be recovered by the obfuscated data by $P^{-1}$. Therefore, it is important to make sure $P$ is invertible so that we can recover the data if needed.\n",
    "\n",
    "**Proving That Data Obfuscation Can Work with Linear Regression**\n",
    "- A mathematical proof provides the evidence that the values of $y_{p}$ from the obfuscated data are equal to the values of $y$ from the original data. \n",
    "- This is further proved computationally by running the linear regression model for both the original data and the obfuscated data. The model has the same RMSE and r squared scores as above mentioned.\n",
    "\n",
    "[Back to Contents](#back)"
   ]
  }
 ],
 "metadata": {
  "kernelspec": {
   "display_name": "Python 3 (ipykernel)",
   "language": "python",
   "name": "python3"
  },
  "language_info": {
   "codemirror_mode": {
    "name": "ipython",
    "version": 3
   },
   "file_extension": ".py",
   "mimetype": "text/x-python",
   "name": "python",
   "nbconvert_exporter": "python",
   "pygments_lexer": "ipython3",
   "version": "3.11.5"
  }
 },
 "nbformat": 4,
 "nbformat_minor": 5
}
